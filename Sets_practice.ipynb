{
  "nbformat": 4,
  "nbformat_minor": 0,
  "metadata": {
    "colab": {
      "provenance": []
    },
    "kernelspec": {
      "name": "python3",
      "display_name": "Python 3"
    },
    "language_info": {
      "name": "python"
    }
  },
  "cells": [
    {
      "cell_type": "markdown",
      "source": [
        "A set is a data type used to store multiple items in a single variable"
      ],
      "metadata": {
        "id": "Hml0cmVqNX5g"
      }
    },
    {
      "cell_type": "code",
      "execution_count": null,
      "metadata": {
        "id": "5U9lyukXM2Vc"
      },
      "outputs": [],
      "source": [
        "# creating set\n",
        "fruits = {'Apple', 'Oranfe', 'Banana'}\n",
        "hobbies = set(['Debugging', 'Coding', 'Running', 'Gaming' ])"
      ]
    },
    {
      "cell_type": "code",
      "source": [
        "type(fruits)\n",
        "type(hobbies)"
      ],
      "metadata": {
        "colab": {
          "base_uri": "https://localhost:8080/"
        },
        "id": "sG73TED2P07X",
        "outputId": "ba41fcfc-028f-4b80-c99c-729df9040efd"
      },
      "execution_count": null,
      "outputs": [
        {
          "output_type": "execute_result",
          "data": {
            "text/plain": [
              "set"
            ]
          },
          "metadata": {},
          "execution_count": 4
        }
      ]
    },
    {
      "cell_type": "code",
      "source": [
        "for i in hobbies:\n",
        "  print(i)"
      ],
      "metadata": {
        "colab": {
          "base_uri": "https://localhost:8080/"
        },
        "id": "xXx8b9iDQV66",
        "outputId": "dec47108-545f-4ef7-d34a-1e1c3cc6304a"
      },
      "execution_count": null,
      "outputs": [
        {
          "output_type": "stream",
          "name": "stdout",
          "text": [
            "Running\n",
            "Coding\n",
            "Gaming\n",
            "Debugging\n"
          ]
        }
      ]
    },
    {
      "cell_type": "code",
      "source": [
        "# adding to set\n",
        "hobbies.add('Dancing')\n",
        "print(hobbies)"
      ],
      "metadata": {
        "colab": {
          "base_uri": "https://localhost:8080/"
        },
        "id": "tcjNmnqTQ8gu",
        "outputId": "729cc881-bf1e-4159-deba-c1923ccd236f"
      },
      "execution_count": null,
      "outputs": [
        {
          "output_type": "stream",
          "name": "stdout",
          "text": [
            "{'Gaming', 'Dancing', 'Running', 'Coding', 'Debugging', 'Football', 'Eating'}\n"
          ]
        }
      ]
    },
    {
      "cell_type": "code",
      "source": [
        "if \"Football\" in hobbies:\n",
        "  print('value present')\n",
        "else:\n",
        "  print('value not present')"
      ],
      "metadata": {
        "colab": {
          "base_uri": "https://localhost:8080/"
        },
        "id": "lzK8ksUuRYxy",
        "outputId": "04628b82-6e9c-4b2f-bf6b-ea78a832df26"
      },
      "execution_count": null,
      "outputs": [
        {
          "output_type": "stream",
          "name": "stdout",
          "text": [
            "value present\n"
          ]
        }
      ]
    },
    {
      "cell_type": "code",
      "source": [
        "# removing from set\n",
        "hobbies.discard('Eating')\n",
        "hobbies.remove('Dancing')\n",
        "hobbies.pop() # deletes random item"
      ],
      "metadata": {
        "id": "VmMg5XaNUBLO",
        "colab": {
          "base_uri": "https://localhost:8080/",
          "height": 35
        },
        "outputId": "a7bb1993-be40-43e7-8ef8-2a0cb283aa5e"
      },
      "execution_count": null,
      "outputs": [
        {
          "output_type": "execute_result",
          "data": {
            "text/plain": [
              "'Gaming'"
            ],
            "application/vnd.google.colaboratory.intrinsic+json": {
              "type": "string"
            }
          },
          "metadata": {},
          "execution_count": 13
        }
      ]
    },
    {
      "cell_type": "code",
      "source": [
        "print(hobbies)"
      ],
      "metadata": {
        "id": "IM48hLdKXhsO",
        "colab": {
          "base_uri": "https://localhost:8080/"
        },
        "outputId": "c5e25a66-d6cd-4feb-971a-82e63e52f86f"
      },
      "execution_count": null,
      "outputs": [
        {
          "output_type": "stream",
          "name": "stdout",
          "text": [
            "{'Running', 'Coding', 'Debugging', 'Football'}\n"
          ]
        }
      ]
    },
    {
      "cell_type": "code",
      "source": [
        "set1 = {'Apple', 'Orange', 'Banan', 'Mango'}\n",
        "set2 = set(['Papaya', 'Grapes', 'Pineapple', 'Mango'])\n",
        "\n",
        "Difference = set1 - set2 # whats present in set1 but not in set 2\n",
        "Difference\n",
        "\n"
      ],
      "metadata": {
        "id": "SwH2xBduaJya",
        "colab": {
          "base_uri": "https://localhost:8080/"
        },
        "outputId": "88e8ae73-11df-4cd1-88d7-bcd267339134"
      },
      "execution_count": null,
      "outputs": [
        {
          "output_type": "execute_result",
          "data": {
            "text/plain": [
              "{'Apple', 'Banan', 'Orange'}"
            ]
          },
          "metadata": {},
          "execution_count": 15
        }
      ]
    },
    {
      "cell_type": "code",
      "source": [
        "set1 = {'Apple', 'Orange', 'Banan', 'Mango'}\n",
        "set2 = set(['Papaya', 'Grapes', 'Pineapple', 'Mango'])\n",
        "\n",
        "# intersection\n",
        "# intersection = set1 & set2\n",
        "intersection = set1.intersection(set2)\n",
        "intersection\n"
      ],
      "metadata": {
        "colab": {
          "base_uri": "https://localhost:8080/"
        },
        "id": "1yGizvvCe_zW",
        "outputId": "bd1efda3-4a74-400b-d8d1-af3ba1f02dbe"
      },
      "execution_count": null,
      "outputs": [
        {
          "output_type": "execute_result",
          "data": {
            "text/plain": [
              "{'Mango'}"
            ]
          },
          "metadata": {},
          "execution_count": 17
        }
      ]
    },
    {
      "cell_type": "code",
      "source": [
        "set1 = {'Apple', 'Orange', 'Banan', 'Mango'}\n",
        "set2 = set(['Papaya', 'Grapes', 'Pineapple', 'Mango'])\n",
        "\n",
        "# union\n",
        "union = set1 | set2\n",
        "# union = set1.union(set2)\n",
        "union\n"
      ],
      "metadata": {
        "colab": {
          "base_uri": "https://localhost:8080/"
        },
        "id": "IMEXJtQae_gv",
        "outputId": "f1be1bc1-77a7-4110-c550-98487fb2f9f5"
      },
      "execution_count": null,
      "outputs": [
        {
          "output_type": "execute_result",
          "data": {
            "text/plain": [
              "{'Apple', 'Banan', 'Grapes', 'Mango', 'Orange', 'Papaya', 'Pineapple'}"
            ]
          },
          "metadata": {},
          "execution_count": 19
        }
      ]
    }
  ]
}