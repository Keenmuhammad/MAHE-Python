{
  "nbformat": 4,
  "nbformat_minor": 0,
  "metadata": {
    "colab": {
      "provenance": []
    },
    "kernelspec": {
      "name": "python3",
      "display_name": "Python 3"
    },
    "language_info": {
      "name": "python"
    }
  },
  "cells": [
    {
      "cell_type": "code",
      "execution_count": null,
      "metadata": {
        "colab": {
          "base_uri": "https://localhost:8080/"
        },
        "id": "h4TU8KLboxFr",
        "outputId": "f0908924-88df-47b5-f2c0-7c27cad18f16"
      },
      "outputs": [
        {
          "output_type": "stream",
          "name": "stdout",
          "text": [
            "(1, 2, 3, 5)\n"
          ]
        }
      ],
      "source": [
        "t = (1,2,3,5)\n",
        "print(t)"
      ]
    },
    {
      "cell_type": "code",
      "source": [
        "print(t[0])\n",
        "print(t[1])"
      ],
      "metadata": {
        "colab": {
          "base_uri": "https://localhost:8080/"
        },
        "id": "O25-BErYpseJ",
        "outputId": "cce5a992-77fd-454d-d3cd-84205276ae81"
      },
      "execution_count": null,
      "outputs": [
        {
          "output_type": "stream",
          "name": "stdout",
          "text": [
            "1\n",
            "2\n"
          ]
        }
      ]
    },
    {
      "cell_type": "code",
      "source": [
        "li6 = [1,2,3,4]\n",
        "li6[0]=0\n",
        "print(li6)"
      ],
      "metadata": {
        "colab": {
          "base_uri": "https://localhost:8080/"
        },
        "id": "aVaoxiqMqJ3Q",
        "outputId": "2ffca50f-0276-4832-d99d-002638a27a9e"
      },
      "execution_count": null,
      "outputs": [
        {
          "output_type": "stream",
          "name": "stdout",
          "text": [
            "[0, 2, 3, 4]\n"
          ]
        }
      ]
    },
    {
      "cell_type": "code",
      "source": [
        "t[0]=0"
      ],
      "metadata": {
        "colab": {
          "base_uri": "https://localhost:8080/",
          "height": 165
        },
        "id": "wliAutoWqiur",
        "outputId": "17be6f2d-5e88-462b-d276-30e272a538c0"
      },
      "execution_count": null,
      "outputs": [
        {
          "output_type": "error",
          "ename": "TypeError",
          "evalue": "ignored",
          "traceback": [
            "\u001b[0;31m---------------------------------------------------------------------------\u001b[0m",
            "\u001b[0;31mTypeError\u001b[0m                                 Traceback (most recent call last)",
            "\u001b[0;32m<ipython-input-5-9946ebc62b5f>\u001b[0m in \u001b[0;36m<module>\u001b[0;34m\u001b[0m\n\u001b[0;32m----> 1\u001b[0;31m \u001b[0mt\u001b[0m\u001b[0;34m[\u001b[0m\u001b[0;36m0\u001b[0m\u001b[0;34m]\u001b[0m\u001b[0;34m=\u001b[0m\u001b[0;36m0\u001b[0m\u001b[0;34m\u001b[0m\u001b[0;34m\u001b[0m\u001b[0m\n\u001b[0m",
            "\u001b[0;31mTypeError\u001b[0m: 'tuple' object does not support item assignment"
          ]
        }
      ]
    },
    {
      "cell_type": "code",
      "source": [
        "print(dir(t))"
      ],
      "metadata": {
        "colab": {
          "base_uri": "https://localhost:8080/"
        },
        "id": "Y-CsY_MQqwIj",
        "outputId": "ee8cb2d6-de6c-4f75-d664-ec2ac22001de"
      },
      "execution_count": null,
      "outputs": [
        {
          "output_type": "stream",
          "name": "stdout",
          "text": [
            "['__add__', '__class__', '__contains__', '__delattr__', '__dir__', '__doc__', '__eq__', '__format__', '__ge__', '__getattribute__', '__getitem__', '__getnewargs__', '__gt__', '__hash__', '__init__', '__init_subclass__', '__iter__', '__le__', '__len__', '__lt__', '__mul__', '__ne__', '__new__', '__reduce__', '__reduce_ex__', '__repr__', '__rmul__', '__setattr__', '__sizeof__', '__str__', '__subclasshook__', 'count', 'index']\n"
          ]
        }
      ]
    },
    {
      "cell_type": "code",
      "execution_count": null,
      "metadata": {
        "id": "lOYisvY9rj3k",
        "outputId": "a6d54e8e-19ed-4e60-85d9-8d1c59ab341e",
        "colab": {
          "base_uri": "https://localhost:8080/"
        }
      },
      "outputs": [
        {
          "output_type": "execute_result",
          "data": {
            "text/plain": [
              "25000"
            ]
          },
          "metadata": {},
          "execution_count": 8
        }
      ],
      "source": [
        "\n",
        "Income = [30000,40000,25000]\n",
        "name = [\"Umesh\", \"Ramesh\",\"Nilesh\"]\n",
        "in_r = name.index('Nilesh')\n",
        "in_r\n",
        "Income[in_r]"
      ]
    },
    {
      "cell_type": "code",
      "source": [
        "Inc = {\"Umesh\":30000,\"Ramesh\":40000,\"Nilesh\":25000}\n",
        "print(Inc)"
      ],
      "metadata": {
        "colab": {
          "base_uri": "https://localhost:8080/"
        },
        "id": "V3jhNChLsGoA",
        "outputId": "ec9162a2-3e02-427f-892a-b8593e2a14f7"
      },
      "execution_count": null,
      "outputs": [
        {
          "output_type": "stream",
          "name": "stdout",
          "text": [
            "{'Umesh': 30000, 'Ramesh': 40000, 'Nilesh': 25000}\n"
          ]
        }
      ]
    },
    {
      "cell_type": "code",
      "source": [
        "print(Inc[\"Umesh\"])"
      ],
      "metadata": {
        "colab": {
          "base_uri": "https://localhost:8080/"
        },
        "id": "Xi-oqR2is1mC",
        "outputId": "30ecc034-7140-41e0-c20c-778438ee36a8"
      },
      "execution_count": null,
      "outputs": [
        {
          "output_type": "stream",
          "name": "stdout",
          "text": [
            "30000\n"
          ]
        }
      ]
    },
    {
      "cell_type": "code",
      "source": [
        "print(Inc.keys())\n",
        "print(Inc.values())"
      ],
      "metadata": {
        "colab": {
          "base_uri": "https://localhost:8080/"
        },
        "id": "Yw8EgPsTs8_I",
        "outputId": "118a4871-a392-40ba-d7a3-8d298eef11f2"
      },
      "execution_count": null,
      "outputs": [
        {
          "output_type": "stream",
          "name": "stdout",
          "text": [
            "dict_keys(['Umesh', 'Ramesh', 'Nilesh'])\n",
            "dict_values([30000, 40000, 25000])\n"
          ]
        }
      ]
    },
    {
      "cell_type": "code",
      "source": [
        "\"Umesh\" in Inc"
      ],
      "metadata": {
        "colab": {
          "base_uri": "https://localhost:8080/"
        },
        "id": "1Yv6eFr1tSPc",
        "outputId": "b70b159f-7966-43ca-dd8c-56516f5bcbc0"
      },
      "execution_count": null,
      "outputs": [
        {
          "output_type": "execute_result",
          "data": {
            "text/plain": [
              "True"
            ]
          },
          "metadata": {},
          "execution_count": 13
        }
      ]
    },
    {
      "cell_type": "code",
      "source": [
        "Inc[\"Umesh\"] = 45000\n",
        "print(Inc)"
      ],
      "metadata": {
        "colab": {
          "base_uri": "https://localhost:8080/"
        },
        "id": "tocbBFyxtZ9O",
        "outputId": "0e61ccdc-d856-4201-aa6e-f39ac6eeaae1"
      },
      "execution_count": null,
      "outputs": [
        {
          "output_type": "stream",
          "name": "stdout",
          "text": [
            "{'Umesh': 45000, 'Ramesh': 40000, 'Nilesh': 25000}\n"
          ]
        }
      ]
    },
    {
      "cell_type": "code",
      "source": [
        "del(Inc[\"Umesh\"])\n",
        "print(Inc)"
      ],
      "metadata": {
        "colab": {
          "base_uri": "https://localhost:8080/"
        },
        "id": "cH34qe3gtzc-",
        "outputId": "a84dfee6-7992-4cf3-8e1b-43b7e2fd015f"
      },
      "execution_count": null,
      "outputs": [
        {
          "output_type": "stream",
          "name": "stdout",
          "text": [
            "{'Ramesh': 40000, 'Nilesh': 25000}\n"
          ]
        }
      ]
    },
    {
      "cell_type": "code",
      "source": [
        "print(Inc.items())"
      ],
      "metadata": {
        "colab": {
          "base_uri": "https://localhost:8080/"
        },
        "id": "N-yCoc64tzac",
        "outputId": "104b2283-5f58-4ea9-aa2f-29955e7eadc4"
      },
      "execution_count": null,
      "outputs": [
        {
          "output_type": "stream",
          "name": "stdout",
          "text": [
            "dict_items([('Ramesh', 40000), ('Nilesh', 25000)])\n"
          ]
        }
      ]
    },
    {
      "cell_type": "code",
      "source": [
        "Income1 = { 'Ramesh': { 'Gender':'male', 'Income':40000},\n",
        "           'Ana': { 'Gender':'female', 'Income':66000 },\n",
        "           'Uma': { 'Gender':'female', 'Income':20000 },\n",
        "           'Umesh': { 'Gender':'male', 'Income':58000 } }\n",
        "# Print out the Income of Ramesh\n",
        "print(Income1['Ramesh']['Income'])\n",
        "\n",
        "# To create a new entry , First - create sub-dictionary data\n",
        "income2 = { 'Gender':'female', 'Income':30000 }\n",
        "\n",
        "# Add data to original dictionary under key 'Seema'\n",
        "Income1['Seema'] = income2\n",
        "\n",
        "print(Income1)"
      ],
      "metadata": {
        "colab": {
          "base_uri": "https://localhost:8080/"
        },
        "id": "JEulnVu1uZIX",
        "outputId": "2f9b7906-611d-44df-ad92-c43b2f131c0e"
      },
      "execution_count": null,
      "outputs": [
        {
          "output_type": "stream",
          "name": "stdout",
          "text": [
            "40000\n",
            "{'Ramesh': {'Gender': 'male', 'Income': 40000}, 'Ana': {'Gender': 'female', 'Income': 66000}, 'Uma': {'Gender': 'female', 'Income': 20000}, 'Umesh': {'Gender': 'male', 'Income': 58000}, 'Seema': {'Gender': 'female', 'Income': 30000}}\n"
          ]
        }
      ]
    },
    {
      "cell_type": "code",
      "source": [
        "for x in Income1:\n",
        "  print(x)"
      ],
      "metadata": {
        "colab": {
          "base_uri": "https://localhost:8080/"
        },
        "id": "R15XNa3Cvrzy",
        "outputId": "bad580c6-0792-475c-e1a3-38d831ea3866"
      },
      "execution_count": null,
      "outputs": [
        {
          "output_type": "stream",
          "name": "stdout",
          "text": [
            "Ramesh\n",
            "Ana\n",
            "Uma\n",
            "Umesh\n",
            "Seema\n"
          ]
        }
      ]
    },
    {
      "cell_type": "code",
      "source": [
        "for x in Income1:\n",
        "  print(x, Income1[x])"
      ],
      "metadata": {
        "colab": {
          "base_uri": "https://localhost:8080/"
        },
        "id": "n1MNoVZRv4D1",
        "outputId": "07151e43-1b41-46b7-8046-ccb4d6558126"
      },
      "execution_count": null,
      "outputs": [
        {
          "output_type": "stream",
          "name": "stdout",
          "text": [
            "Ramesh {'Gender': 'male', 'Income': 40000}\n",
            "Ana {'Gender': 'female', 'Income': 66000}\n",
            "Uma {'Gender': 'female', 'Income': 20000}\n",
            "Umesh {'Gender': 'male', 'Income': 58000}\n",
            "Seema {'Gender': 'female', 'Income': 30000}\n"
          ]
        }
      ]
    },
    {
      "cell_type": "code",
      "source": [
        "diction={l:-l for l in range(3)}\n",
        "print(diction)\n",
        "type(diction)"
      ],
      "metadata": {
        "colab": {
          "base_uri": "https://localhost:8080/"
        },
        "id": "gYsMf7YNwZJz",
        "outputId": "252fe46b-dc90-4ad5-b496-3ea6c51eb275"
      },
      "execution_count": null,
      "outputs": [
        {
          "output_type": "stream",
          "name": "stdout",
          "text": [
            "{0: 0, 1: -1, 2: -2}\n"
          ]
        },
        {
          "output_type": "execute_result",
          "data": {
            "text/plain": [
              "dict"
            ]
          },
          "metadata": {},
          "execution_count": 26
        }
      ]
    },
    {
      "cell_type": "code",
      "execution_count": null,
      "metadata": {
        "id": "DwLn221Prj3w"
      },
      "outputs": [],
      "source": [
        "assign_txt=\"Narendra Damodardas Modi, born 17 September 1950) is the 15th and current Prime Minister of India, in office since 26 May 2014.odi, a leader of the Bharatiya Janata Party was the Chief Minister of Gujarat from 2001 to 2014 and is the Member of Parliament from Varanasi. He led the BJP in the 2014 general election, which gave the party a majority in the Lok Sabha, the first for any political party in India since 1984.As the Chief Minister of Gujarat, Modi's economic policies were praised, while his administration was also criticised for failing to significantly improve the human development in the state, and for failing to prevent the 2002 Gujarat riots. A Hindu nationalist and member of the Rashtriya Swayamsevak Sangh, Modi,remains a controversial figure domestically and internationally. Modi was born on 17 September 1950, to a family of grocers in Vadnagar, Mehsana district, Bombay State (present-day Gujarat).Modi's family belonged to the Modh-Ghanchi-Teli (oil-presser) community,hich is categorised as an Other Backward Class by the Indian government.Modi was the third of six children born to Damodardas Mulchand (1915–1989) and Heeraben Modi (b. c. 1920).As a child, Modi helped his father sell tea at the Vadnagar railway station, and later ran a tea stall with his brother near a bus terminus.Modi completed his higher secondary education in Vadnagar in 1967, where a teacher described him as an average student and a keen debater, with an interest in theatre.Modi had an early gift for rhetoric in debates, and this was noted by his teachers and students.Modi preferred playing larger-than-life characters in theatrical productions, which has influenced his political image.At age eight, Modi discovered the Rashtriya Swayamsevak Sangh (RSS), and began attending its local shakhas (training sessions). There, Modi met Lakshmanrao Inamdar, popularly known as Vakil Saheb, who inducted him as an RSS balswayamsevak (junior cadet) and became his political mentor.While Modi was training with the RSS, he also met Vasant Gajendragadkar and Nathalal Jaghda, Bharatiya Jana Sangh leaders who were founding members of the BJP's Gujarat unit in 1980.Engaged while still a child to a local girl, Jashodaben Narendrabhai Modi, Modi rejected the arranged marriage at the same time he graduated from high school.The resulting familial tensions contributed to his decision to leave home in 1967.Modi spent the ensuing two years travelling across Northern and North-eastern India, though few details of where he went have emerged.In interviews, Modi has described visiting Hindu ashrams founded by Swami Vivekananda: the Belur Math near Kolkata, followed by the Advaita Ashrama in Almora and the Ramakrishna mission in Rajkot. Modi remained only a short time at each, since he lacked the required college education.\""
      ]
    },
    {
      "cell_type": "code",
      "source": [
        "# Initialize the dictionary \n",
        "d={}\n",
        "\n",
        "# To get each word in the text , use the method split with delimiter as \" \". \n",
        "for w in assign_txt.split(\" \"):\n",
        "    # if the word is present as a key in the dictionary, increase the value by 1 \n",
        "    if w in d:\n",
        "        d[w]=d[w]+1\n",
        "    # if word is not present as a key, as the key and set the value to 1 \n",
        "    else:\n",
        "        d[w]=1"
      ],
      "metadata": {
        "id": "YuHqIom7xURV"
      },
      "execution_count": null,
      "outputs": []
    },
    {
      "cell_type": "code",
      "source": [
        "print(d)"
      ],
      "metadata": {
        "colab": {
          "base_uri": "https://localhost:8080/"
        },
        "id": "dCDPZMHHx9rE",
        "outputId": "eee9d014-e9a8-43ec-f54d-de16ad7fdb05"
      },
      "execution_count": null,
      "outputs": [
        {
          "output_type": "stream",
          "name": "stdout",
          "text": [
            "{'Narendra': 1, 'Damodardas': 2, 'Modi,': 2, 'born': 3, '17': 2, 'September': 2, '1950)': 1, 'is': 3, 'the': 28, '15th': 1, 'and': 15, 'current': 1, 'Prime': 1, 'Minister': 3, 'of': 10, 'India,': 2, 'in': 15, 'office': 1, 'since': 3, '26': 1, 'May': 1, '2014.odi,': 1, 'a': 12, 'leader': 1, 'Bharatiya': 2, 'Janata': 1, 'Party': 1, 'was': 6, 'Chief': 2, 'Gujarat': 3, 'from': 3, '2001': 1, 'to': 9, '2014': 2, 'Member': 1, 'Parliament': 1, 'Varanasi.': 1, 'He': 1, 'led': 1, 'BJP': 1, 'general': 1, 'election,': 1, 'which': 2, 'gave': 1, 'party': 2, 'majority': 1, 'Lok': 1, 'Sabha,': 1, 'first': 1, 'for': 4, 'any': 1, 'political': 3, 'India': 1, '1984.As': 1, 'Gujarat,': 1, \"Modi's\": 1, 'economic': 1, 'policies': 1, 'were': 2, 'praised,': 1, 'while': 2, 'his': 8, 'administration': 1, 'also': 2, 'criticised': 1, 'failing': 2, 'significantly': 1, 'improve': 1, 'human': 1, 'development': 1, 'state,': 1, 'prevent': 1, '2002': 1, 'riots.': 1, 'A': 1, 'Hindu': 2, 'nationalist': 1, 'member': 1, 'Rashtriya': 2, 'Swayamsevak': 2, 'Sangh,': 1, 'Modi,remains': 1, 'controversial': 1, 'figure': 1, 'domestically': 1, 'internationally.': 1, 'Modi': 9, 'on': 1, '1950,': 1, 'family': 2, 'grocers': 1, 'Vadnagar,': 1, 'Mehsana': 1, 'district,': 1, 'Bombay': 1, 'State': 1, '(present-day': 1, \"Gujarat).Modi's\": 1, 'belonged': 1, 'Modh-Ghanchi-Teli': 1, '(oil-presser)': 1, 'community,hich': 1, 'categorised': 1, 'as': 4, 'an': 5, 'Other': 1, 'Backward': 1, 'Class': 1, 'by': 4, 'Indian': 1, 'government.Modi': 1, 'third': 1, 'six': 1, 'children': 1, 'Mulchand': 1, '(1915–1989)': 1, 'Heeraben': 1, '(b.': 1, 'c.': 1, '1920).As': 1, 'child,': 1, 'helped': 1, 'father': 1, 'sell': 1, 'tea': 2, 'at': 3, 'Vadnagar': 2, 'railway': 1, 'station,': 1, 'later': 1, 'ran': 1, 'stall': 1, 'with': 3, 'brother': 1, 'near': 2, 'bus': 1, 'terminus.Modi': 1, 'completed': 1, 'higher': 1, 'secondary': 1, 'education': 1, '1967,': 1, 'where': 2, 'teacher': 1, 'described': 2, 'him': 2, 'average': 1, 'student': 1, 'keen': 1, 'debater,': 1, 'interest': 1, 'theatre.Modi': 1, 'had': 1, 'early': 1, 'gift': 1, 'rhetoric': 1, 'debates,': 1, 'this': 1, 'noted': 1, 'teachers': 1, 'students.Modi': 1, 'preferred': 1, 'playing': 1, 'larger-than-life': 1, 'characters': 1, 'theatrical': 1, 'productions,': 1, 'has': 2, 'influenced': 1, 'image.At': 1, 'age': 1, 'eight,': 1, 'discovered': 1, 'Sangh': 2, '(RSS),': 1, 'began': 1, 'attending': 1, 'its': 1, 'local': 2, 'shakhas': 1, '(training': 1, 'sessions).': 1, 'There,': 1, 'met': 2, 'Lakshmanrao': 1, 'Inamdar,': 1, 'popularly': 1, 'known': 1, 'Vakil': 1, 'Saheb,': 1, 'who': 2, 'inducted': 1, 'RSS': 1, 'balswayamsevak': 1, '(junior': 1, 'cadet)': 1, 'became': 1, 'mentor.While': 1, 'training': 1, 'RSS,': 1, 'he': 4, 'Vasant': 1, 'Gajendragadkar': 1, 'Nathalal': 1, 'Jaghda,': 1, 'Jana': 1, 'leaders': 1, 'founding': 1, 'members': 1, \"BJP's\": 1, 'unit': 1, '1980.Engaged': 1, 'still': 1, 'child': 1, 'girl,': 1, 'Jashodaben': 1, 'Narendrabhai': 1, 'rejected': 1, 'arranged': 1, 'marriage': 1, 'same': 1, 'time': 2, 'graduated': 1, 'high': 1, 'school.The': 1, 'resulting': 1, 'familial': 1, 'tensions': 1, 'contributed': 1, 'decision': 1, 'leave': 1, 'home': 1, '1967.Modi': 1, 'spent': 1, 'ensuing': 1, 'two': 1, 'years': 1, 'travelling': 1, 'across': 1, 'Northern': 1, 'North-eastern': 1, 'though': 1, 'few': 1, 'details': 1, 'went': 1, 'have': 1, 'emerged.In': 1, 'interviews,': 1, 'visiting': 1, 'ashrams': 1, 'founded': 1, 'Swami': 1, 'Vivekananda:': 1, 'Belur': 1, 'Math': 1, 'Kolkata,': 1, 'followed': 1, 'Advaita': 1, 'Ashrama': 1, 'Almora': 1, 'Ramakrishna': 1, 'mission': 1, 'Rajkot.': 1, 'remained': 1, 'only': 1, 'short': 1, 'each,': 1, 'lacked': 1, 'required': 1, 'college': 1, 'education.': 1}\n"
          ]
        }
      ]
    }
  ]
}