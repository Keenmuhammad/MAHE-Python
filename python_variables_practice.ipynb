{
  "nbformat": 4,
  "nbformat_minor": 0,
  "metadata": {
    "colab": {
      "provenance": []
    },
    "kernelspec": {
      "name": "python3",
      "display_name": "Python 3"
    },
    "language_info": {
      "name": "python"
    }
  },
  "cells": [
    {
      "cell_type": "code",
      "execution_count": null,
      "metadata": {
        "colab": {
          "base_uri": "https://localhost:8080/"
        },
        "id": "1bCI9aQZr864",
        "outputId": "18a94402-5802-4e07-e80a-48e9a813b486"
      },
      "outputs": [
        {
          "output_type": "stream",
          "name": "stdout",
          "text": [
            "Muhammad Thinks...\n"
          ]
        }
      ],
      "source": [
        "print(\"Muhammad Thinks...\")"
      ]
    },
    {
      "cell_type": "code",
      "source": [
        "help()"
      ],
      "metadata": {
        "colab": {
          "base_uri": "https://localhost:8080/"
        },
        "id": "euIJSCZC4HV6",
        "outputId": "0edbc94f-5ed2-416f-a534-7bea2787b200"
      },
      "execution_count": null,
      "outputs": [
        {
          "output_type": "stream",
          "name": "stdout",
          "text": [
            "\n",
            "Welcome to Python 3.8's help utility!\n",
            "\n",
            "If this is your first time using Python, you should definitely check out\n",
            "the tutorial on the Internet at https://docs.python.org/3.8/tutorial/.\n",
            "\n",
            "Enter the name of any module, keyword, or topic to get help on writing\n",
            "Python programs and using Python modules.  To quit this help utility and\n",
            "return to the interpreter, just type \"quit\".\n",
            "\n",
            "To get a list of available modules, keywords, symbols, or topics, type\n",
            "\"modules\", \"keywords\", \"symbols\", or \"topics\".  Each module also comes\n",
            "with a one-line summary of what it does; to list the modules whose name\n",
            "or summary contain a given string such as \"spam\", type \"modules spam\".\n",
            "\n",
            "help> functions\n",
            "No Python documentation found for 'functions'.\n",
            "Use help() to get the interactive help utility.\n",
            "Use help(str) for help on the str class.\n",
            "\n",
            "help> keywords\n",
            "\n",
            "Here is a list of the Python keywords.  Enter any keyword to get more help.\n",
            "\n",
            "False               class               from                or\n",
            "None                continue            global              pass\n",
            "True                def                 if                  raise\n",
            "and                 del                 import              return\n",
            "as                  elif                in                  try\n",
            "assert              else                is                  while\n",
            "async               except              lambda              with\n",
            "await               finally             nonlocal            yield\n",
            "break               for                 not                 \n",
            "\n",
            "\n",
            "You are now leaving help and returning to the Python interpreter.\n",
            "If you want to ask for help on a particular object directly from the\n",
            "interpreter, you can type \"help(object)\".  Executing \"help('string')\"\n",
            "has the same effect as typing a particular string at the help> prompt.\n"
          ]
        }
      ]
    },
    {
      "cell_type": "code",
      "source": [
        "#storing value\n",
        "x = 10\n",
        "print(x)"
      ],
      "metadata": {
        "colab": {
          "base_uri": "https://localhost:8080/"
        },
        "id": "60kU1woB4KPN",
        "outputId": "9759e1e7-8f6a-4c5b-f820-c80779904c80"
      },
      "execution_count": null,
      "outputs": [
        {
          "output_type": "stream",
          "name": "stdout",
          "text": [
            "10\n"
          ]
        }
      ]
    },
    {
      "cell_type": "code",
      "source": [
        "#mainipulating value\n",
        "a = x+1\n",
        "print(a)"
      ],
      "metadata": {
        "colab": {
          "base_uri": "https://localhost:8080/"
        },
        "id": "Cd222fX-8wPz",
        "outputId": "5bdc1c69-32a1-41b8-8ccb-abfe74b35205"
      },
      "execution_count": null,
      "outputs": [
        {
          "output_type": "stream",
          "name": "stdout",
          "text": [
            "11\n"
          ]
        }
      ]
    },
    {
      "cell_type": "code",
      "source": [
        "# declearing a variable\n",
        "\n",
        "fruit = \"Mango\"\n",
        "\n",
        "print (fruit)"
      ],
      "metadata": {
        "colab": {
          "base_uri": "https://localhost:8080/"
        },
        "id": "mFin1Tuh-hnU",
        "outputId": "df19dd69-cef9-4e86-da65-a9c0e05592c5"
      },
      "execution_count": null,
      "outputs": [
        {
          "output_type": "stream",
          "name": "stdout",
          "text": [
            "Mango\n"
          ]
        }
      ]
    },
    {
      "cell_type": "code",
      "source": [
        "first_name = \"Muhammadd Ibrahim Bello\"\n",
        "print(first_name)"
      ],
      "metadata": {
        "colab": {
          "base_uri": "https://localhost:8080/"
        },
        "id": "h1DTeOEV_yXw",
        "outputId": "b24e3916-9feb-4a16-ecb0-6b5e8b26f24f"
      },
      "execution_count": null,
      "outputs": [
        {
          "output_type": "stream",
          "name": "stdout",
          "text": [
            "Muhammadd Ibrahim Bello\n"
          ]
        }
      ]
    },
    {
      "cell_type": "code",
      "source": [
        "# store value/data\n",
        "#Store strings, boolean , int, float , complex , list data types \n",
        "\n",
        "fruit = \"Apple\"\n",
        "Flag = True\n",
        "age = 15\n",
        "course_code=12.4\n",
        "complex_no = 1+2j \n",
        "fruits = ['apples', 'berry', 'fig']\n"
      ],
      "metadata": {
        "id": "m87AAZkUAE3X"
      },
      "execution_count": null,
      "outputs": []
    },
    {
      "cell_type": "code",
      "source": [
        "# finding data type \n",
        "# type(fruit)\n",
        "# type(Flag)\n",
        "type(age)"
      ],
      "metadata": {
        "colab": {
          "base_uri": "https://localhost:8080/"
        },
        "id": "d14_h7EoBsoS",
        "outputId": "84edcc7f-2d25-4d6b-ecd4-bd9c59f491af"
      },
      "execution_count": null,
      "outputs": [
        {
          "output_type": "execute_result",
          "data": {
            "text/plain": [
              "int"
            ]
          },
          "metadata": {},
          "execution_count": 13
        }
      ]
    },
    {
      "cell_type": "code",
      "source": [
        "# Dynamically_typed data\n",
        "\n",
        "x = 20\n",
        "type(x)\n",
        "\n",
        "x = 28.5\n",
        "type(x)"
      ],
      "metadata": {
        "colab": {
          "base_uri": "https://localhost:8080/"
        },
        "id": "buiHMexkFKW6",
        "outputId": "1af654a1-b68d-4f5b-9353-7633cbcd68c3"
      },
      "execution_count": null,
      "outputs": [
        {
          "output_type": "execute_result",
          "data": {
            "text/plain": [
              "float"
            ]
          },
          "metadata": {},
          "execution_count": 14
        }
      ]
    },
    {
      "cell_type": "code",
      "source": [
        "# null/empty variable\n",
        "# moh = (None)\n",
        "moh = None\n",
        "type(moh)"
      ],
      "metadata": {
        "colab": {
          "base_uri": "https://localhost:8080/"
        },
        "id": "XjDHAxMxFsi0",
        "outputId": "bbe4601e-0fb2-416f-ab52-24f8776ed835"
      },
      "execution_count": null,
      "outputs": [
        {
          "output_type": "execute_result",
          "data": {
            "text/plain": [
              "NoneType"
            ]
          },
          "metadata": {},
          "execution_count": 16
        }
      ]
    },
    {
      "cell_type": "code",
      "source": [
        "# assigning single value to different variables\n",
        "a=b=c=50\n",
        "\n",
        "print(c)"
      ],
      "metadata": {
        "colab": {
          "base_uri": "https://localhost:8080/"
        },
        "id": "-MvDVLmAGLtd",
        "outputId": "4e9ecc4c-20e6-4df7-e1c6-c5245f538f89"
      },
      "execution_count": null,
      "outputs": [
        {
          "output_type": "stream",
          "name": "stdout",
          "text": [
            "50\n"
          ]
        }
      ]
    },
    {
      "cell_type": "code",
      "source": [
        "# different value to different variables\n",
        "a,b,c = 27,28,29\n",
        "print(c-a)\n",
        "print(a*b)"
      ],
      "metadata": {
        "colab": {
          "base_uri": "https://localhost:8080/"
        },
        "id": "yunGdQ9lG3QF",
        "outputId": "efc357d2-cd29-4617-b481-b36fd88d71ce"
      },
      "execution_count": null,
      "outputs": [
        {
          "output_type": "stream",
          "name": "stdout",
          "text": [
            "2\n",
            "756\n"
          ]
        }
      ]
    },
    {
      "cell_type": "code",
      "source": [
        "# data type coversion\n",
        "x = 28\n",
        "x=str(x)\n",
        "type(x)\n"
      ],
      "metadata": {
        "colab": {
          "base_uri": "https://localhost:8080/"
        },
        "id": "zZhKe6LwHbAu",
        "outputId": "5b2bd8a1-664b-45f3-d190-3da1a3dbf0a4"
      },
      "execution_count": null,
      "outputs": [
        {
          "output_type": "execute_result",
          "data": {
            "text/plain": [
              "str"
            ]
          },
          "metadata": {},
          "execution_count": 21
        }
      ]
    },
    {
      "cell_type": "markdown",
      "source": [
        "Statements and expressions"
      ],
      "metadata": {
        "id": "3mZQCk7RKcxj"
      }
    },
    {
      "cell_type": "code",
      "source": [
        "print(100+250)\n",
        "print(len('Muhammad Thinks')) # prints length"
      ],
      "metadata": {
        "colab": {
          "base_uri": "https://localhost:8080/"
        },
        "id": "A_8U-doPKYnr",
        "outputId": "1971058c-c7db-453f-c6eb-f823672238a6"
      },
      "execution_count": null,
      "outputs": [
        {
          "output_type": "stream",
          "name": "stdout",
          "text": [
            "350\n",
            "15\n"
          ]
        }
      ]
    },
    {
      "cell_type": "code",
      "source": [
        "Ibrahim = \"Muhammad \"\n",
        "\n",
        "output = Ibrahim * 5\n",
        "\n",
        "print(output)\n"
      ],
      "metadata": {
        "colab": {
          "base_uri": "https://localhost:8080/"
        },
        "id": "zo_HwG57K2bf",
        "outputId": "1016036b-1a27-444a-bb64-8fbee6faf22e"
      },
      "execution_count": null,
      "outputs": [
        {
          "output_type": "stream",
          "name": "stdout",
          "text": [
            "Muhammad Muhammad Muhammad Muhammad Muhammad \n"
          ]
        }
      ]
    },
    {
      "cell_type": "code",
      "source": [
        "# To get input from user input function\n",
        "roll=input(\"Enter Roll Number\")\n",
        "print(roll)"
      ],
      "metadata": {
        "colab": {
          "base_uri": "https://localhost:8080/"
        },
        "id": "0b8qbRzpL410",
        "outputId": "70fa678b-04af-4614-a9d1-a7504df8d1d0"
      },
      "execution_count": null,
      "outputs": [
        {
          "output_type": "stream",
          "name": "stdout",
          "text": [
            "Enter Roll Number1000\n",
            "1000\n"
          ]
        }
      ]
    }
  ]
}