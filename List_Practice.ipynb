{
  "cells": [
    {
      "cell_type": "markdown",
      "metadata": {
        "id": "16v1o4I6R5EG"
      },
      "source": [
        "# Lists\n"
      ]
    },
    {
      "cell_type": "code",
      "execution_count": null,
      "metadata": {
        "colab": {
          "base_uri": "https://localhost:8080/"
        },
        "id": "8_Kk7rGYR5EP",
        "outputId": "c787cc05-fadc-460d-d365-c80f7eec7fa2"
      },
      "outputs": [
        {
          "output_type": "stream",
          "name": "stdout",
          "text": [
            "[50000, 75000, 65000, 45000, 25000]\n"
          ]
        }
      ],
      "source": [
        "#Income of a certain group\n",
        "\n",
        "Income1 = 50000\n",
        "Income2 = 75000\n",
        "Income3 = 65000\n",
        "Income4 = 45000\n",
        "Income5 = 25000\n",
        "\n",
        "Income = [Income1, Income2, Income3, Income4, Income5]\n",
        "print(Income)\n"
      ]
    },
    {
      "cell_type": "code",
      "execution_count": null,
      "metadata": {
        "colab": {
          "base_uri": "https://localhost:8080/"
        },
        "id": "yiYFpMNTR5ES",
        "outputId": "15a4af79-63c3-4c62-f772-e2f676ac8db0"
      },
      "outputs": [
        {
          "output_type": "execute_result",
          "data": {
            "text/plain": [
              "['Sumit', 50000, 'Amit', 75000, 'Tina', 65000, 'Heena', 45000, 'Reena', 25000]"
            ]
          },
          "metadata": {},
          "execution_count": 6
        }
      ],
      "source": [
        "Income = [\"Sumit\",50000,\"Amit\",75000,\"Tina\",65000,\"Heena\",45000,\"Reena\",25000]\n",
        "Income"
      ]
    },
    {
      "cell_type": "code",
      "execution_count": null,
      "metadata": {
        "colab": {
          "base_uri": "https://localhost:8080/"
        },
        "id": "8hMHnYFjR5ET",
        "outputId": "8831d31c-fc2e-44e2-ec26-15decc20067d"
      },
      "outputs": [
        {
          "output_type": "execute_result",
          "data": {
            "text/plain": [
              "[['Sumit', 50000],\n",
              " ['Amit', 75000],\n",
              " ['Tina', 65000],\n",
              " ['Heena', 45000],\n",
              " ['Reena', 25000]]"
            ]
          },
          "metadata": {},
          "execution_count": 7
        }
      ],
      "source": [
        "#Lists can also contain Lists themselves\n",
        "#Instead of putting strings between the number one can create sublists for each Income entry \n",
        "\n",
        "Income2 = [['Sumit',50000],\n",
        "['Amit',75000],\n",
        "['Tina',65000],\n",
        "['Heena',45000],\n",
        "['Reena',25000]]\n",
        "\n",
        "Income2 #The main list contains 5 sub lists\n"
      ]
    },
    {
      "cell_type": "code",
      "execution_count": null,
      "metadata": {
        "colab": {
          "base_uri": "https://localhost:8080/"
        },
        "id": "oaeWNRvKR5ET",
        "outputId": "bb539cdf-1826-4795-b4c8-dcfaf5f9afb4"
      },
      "outputs": [
        {
          "output_type": "execute_result",
          "data": {
            "text/plain": [
              "list"
            ]
          },
          "metadata": {},
          "execution_count": 8
        }
      ],
      "source": [
        "type(Income)\n",
        "type(Income2)"
      ]
    },
    {
      "cell_type": "code",
      "execution_count": null,
      "metadata": {
        "colab": {
          "base_uri": "https://localhost:8080/"
        },
        "id": "pFWcWq4nR5EU",
        "outputId": "68c3c0dd-7de2-4d7f-9276-2b949767ed39"
      },
      "outputs": [
        {
          "output_type": "execute_result",
          "data": {
            "text/plain": [
              "65000"
            ]
          },
          "metadata": {},
          "execution_count": 9
        }
      ],
      "source": [
        "# Accessing Information from a List - Use Index\n",
        "\n",
        "Income[5] #to access Income corresponding to Tina\n",
        "\n",
        "#Zero Based Indexing"
      ]
    },
    {
      "cell_type": "code",
      "execution_count": null,
      "metadata": {
        "colab": {
          "base_uri": "https://localhost:8080/"
        },
        "id": "GE2ptBcwR5EV",
        "outputId": "dfda3e3c-8996-44bb-db35-bbd1a4e0f9bc"
      },
      "outputs": [
        {
          "output_type": "stream",
          "name": "stdout",
          "text": [
            "['Amit', 75000, 'Tina', 65000]\n",
            "['Sumit', 50000, 'Amit', 75000, 'Tina', 65000, 'Heena', 45000, 'Reena', 25000]\n",
            "['Amit', 75000, 'Tina', 65000, 'Heena', 45000, 'Reena', 25000]\n",
            "['Sumit', 50000]\n"
          ]
        },
        {
          "output_type": "execute_result",
          "data": {
            "text/plain": [
              "125000"
            ]
          },
          "metadata": {},
          "execution_count": 10
        }
      ],
      "source": [
        "#Slicing using :\n",
        "\n",
        "#[start:end]\n",
        "\n",
        "print(Income[2:6])\n",
        "print(Income[:])\n",
        "print(Income[2:])\n",
        "print(Income[:2])\n",
        "\n",
        "#Income of males \n",
        "Income[1] + Income[3]"
      ]
    },
    {
      "cell_type": "code",
      "execution_count": null,
      "metadata": {
        "colab": {
          "base_uri": "https://localhost:8080/"
        },
        "id": "tMkgxj5_R5EW",
        "outputId": "6a583dfa-e869-42e4-9dea-4a7198329823"
      },
      "outputs": [
        {
          "output_type": "execute_result",
          "data": {
            "text/plain": [
              "135000"
            ]
          },
          "metadata": {},
          "execution_count": 11
        }
      ],
      "source": [
        "#Income of females\n",
        "Income[-1] + Income[-3] + Income[-5]"
      ]
    },
    {
      "cell_type": "code",
      "execution_count": null,
      "metadata": {
        "colab": {
          "base_uri": "https://localhost:8080/"
        },
        "id": "-9IEf-0rR5EX",
        "outputId": "6e3bf0ae-9628-4aef-b4ac-d5135020a873"
      },
      "outputs": [
        {
          "output_type": "execute_result",
          "data": {
            "text/plain": [
              "['Tina', 65000]"
            ]
          },
          "metadata": {},
          "execution_count": 12
        }
      ],
      "source": [
        "Income2[2][:]  #Accessing all elements from list of list"
      ]
    },
    {
      "cell_type": "code",
      "execution_count": null,
      "metadata": {
        "colab": {
          "base_uri": "https://localhost:8080/"
        },
        "id": "yj-zZj9cR5EY",
        "outputId": "f17f7715-f1d4-43e4-d0a4-05a05152497b"
      },
      "outputs": [
        {
          "output_type": "execute_result",
          "data": {
            "text/plain": [
              "['Sumit', 55000, 'Amit', 75000, 'Tina', 65000, 'Heena', 45000, 'Reena', 25000]"
            ]
          },
          "metadata": {},
          "execution_count": 13
        }
      ],
      "source": [
        "#List Manipulations\n",
        "\n",
        "Income[1] = 55000 #Change\n",
        "Income\n"
      ]
    },
    {
      "cell_type": "code",
      "execution_count": null,
      "metadata": {
        "colab": {
          "base_uri": "https://localhost:8080/"
        },
        "id": "9YsXwcy3R5EZ",
        "outputId": "0a77fdcc-02ca-486f-b9cc-8731758bc193"
      },
      "outputs": [
        {
          "output_type": "execute_result",
          "data": {
            "text/plain": [
              "['Sumit',\n",
              " 55000,\n",
              " 'Likhit',\n",
              " 60000,\n",
              " 'Tina',\n",
              " 65000,\n",
              " 'Heena',\n",
              " 45000,\n",
              " 'Reena',\n",
              " 25000]"
            ]
          },
          "metadata": {},
          "execution_count": 14
        }
      ],
      "source": [
        "\n",
        "Income[2:4] = ['Likhit',60000]  #Replacing elements\n",
        "Income"
      ]
    },
    {
      "cell_type": "code",
      "execution_count": null,
      "metadata": {
        "colab": {
          "base_uri": "https://localhost:8080/"
        },
        "id": "t4cBFSzUR5EZ",
        "outputId": "2c36d939-ba4f-4ecc-b4b7-e84d8d769c3a"
      },
      "outputs": [
        {
          "output_type": "execute_result",
          "data": {
            "text/plain": [
              "['Sumit',\n",
              " 55000,\n",
              " 'Likhit',\n",
              " 60000,\n",
              " 'Tina',\n",
              " 65000,\n",
              " 'Heena',\n",
              " 45000,\n",
              " 'Reena',\n",
              " 25000,\n",
              " 'Amit',\n",
              " 60000]"
            ]
          },
          "metadata": {},
          "execution_count": 17
        }
      ],
      "source": [
        "Income_add = Income + ['Amit',60000] #Adding elements\n",
        "Income_add"
      ]
    },
    {
      "cell_type": "code",
      "execution_count": null,
      "metadata": {
        "colab": {
          "base_uri": "https://localhost:8080/"
        },
        "id": "NhuWNrbNR5Ea",
        "outputId": "72e27ea0-a5b0-4c07-a1c4-1aa7fc745444"
      },
      "outputs": [
        {
          "output_type": "execute_result",
          "data": {
            "text/plain": [
              "['Likhit', 60000, 'Tina', 65000, 'Heena', 45000, 'Reena', 25000, 'Amit', 60000]"
            ]
          },
          "metadata": {},
          "execution_count": 18
        }
      ],
      "source": [
        "del(Income_add[0:2])  #Deleting an element\n",
        "Income_add"
      ]
    },
    {
      "cell_type": "code",
      "execution_count": null,
      "metadata": {
        "colab": {
          "base_uri": "https://localhost:8080/"
        },
        "id": "T_RlIm92R5Ea",
        "outputId": "7406a5a9-2e37-4e75-c60f-768aaaaf5fcd"
      },
      "outputs": [
        {
          "output_type": "execute_result",
          "data": {
            "text/plain": [
              "[11, 18, 20, 10, 9]"
            ]
          },
          "metadata": {},
          "execution_count": 20
        }
      ],
      "source": [
        "# Create list Age\n",
        "age = [11, 18, 20, 10, 9]\n",
        "\n",
        "age_new = age\n",
        "age_new"
      ]
    },
    {
      "cell_type": "code",
      "execution_count": null,
      "metadata": {
        "colab": {
          "base_uri": "https://localhost:8080/"
        },
        "id": "XJWW-N5uR5Eb",
        "outputId": "fbb15f61-d235-4221-f85c-e89892d87521"
      },
      "outputs": [
        {
          "output_type": "execute_result",
          "data": {
            "text/plain": [
              "[11, 25, 20, 10, 9]"
            ]
          },
          "metadata": {},
          "execution_count": 21
        }
      ],
      "source": [
        "age_new[1] = 25\n",
        "age_new"
      ]
    },
    {
      "cell_type": "code",
      "execution_count": null,
      "metadata": {
        "colab": {
          "base_uri": "https://localhost:8080/"
        },
        "id": "LRHtK3MMR5Eb",
        "outputId": "17378ab5-6a5d-41ef-99c7-a38d8c3873e6"
      },
      "outputs": [
        {
          "output_type": "execute_result",
          "data": {
            "text/plain": [
              "[11, 25, 20, 10, 9]"
            ]
          },
          "metadata": {},
          "execution_count": 22
        }
      ],
      "source": [
        "age   #Why is this happening?"
      ]
    },
    {
      "cell_type": "code",
      "execution_count": null,
      "metadata": {
        "colab": {
          "base_uri": "https://localhost:8080/"
        },
        "id": "-uvWX-BnR5Eb",
        "outputId": "51fa1002-93bd-4daf-983a-ca52afe28eb3"
      },
      "outputs": [
        {
          "output_type": "execute_result",
          "data": {
            "text/plain": [
              "[11, 25, 20, 10, 9]"
            ]
          },
          "metadata": {},
          "execution_count": 23
        }
      ],
      "source": [
        "age_new "
      ]
    },
    {
      "cell_type": "code",
      "execution_count": null,
      "metadata": {
        "colab": {
          "base_uri": "https://localhost:8080/"
        },
        "id": "NTppuMOuR5Ec",
        "outputId": "764c6873-e1fe-412d-b5f2-9ee992be23f5"
      },
      "outputs": [
        {
          "output_type": "execute_result",
          "data": {
            "text/plain": [
              "[11, 25, 20, 10, 9]"
            ]
          },
          "metadata": {},
          "execution_count": 24
        }
      ],
      "source": [
        "age_final = age_new.copy()\n",
        "age_final"
      ]
    },
    {
      "cell_type": "code",
      "execution_count": null,
      "metadata": {
        "colab": {
          "base_uri": "https://localhost:8080/"
        },
        "id": "tAz0WRv9R5Ec",
        "outputId": "26aa793a-3823-479e-e742-092ff2b7f5b5"
      },
      "outputs": [
        {
          "output_type": "execute_result",
          "data": {
            "text/plain": [
              "[11, 38, 20, 10, 9]"
            ]
          },
          "metadata": {},
          "execution_count": 25
        }
      ],
      "source": [
        "age_final[1] = 38\n",
        "age_final"
      ]
    },
    {
      "cell_type": "code",
      "execution_count": null,
      "metadata": {
        "colab": {
          "base_uri": "https://localhost:8080/"
        },
        "id": "NvCzVr7ER5Ed",
        "outputId": "b3e42523-b6de-4fa3-c94c-80e9ae930e41"
      },
      "outputs": [
        {
          "output_type": "execute_result",
          "data": {
            "text/plain": [
              "[11, 25, 20, 10, 9]"
            ]
          },
          "metadata": {},
          "execution_count": 26
        }
      ],
      "source": [
        "age_new"
      ]
    },
    {
      "cell_type": "code",
      "execution_count": null,
      "metadata": {
        "colab": {
          "base_uri": "https://localhost:8080/"
        },
        "id": "yk_kpNIGR5Ed",
        "outputId": "c87ebd3b-8d59-4709-b777-4c3fb46b1c52"
      },
      "outputs": [
        {
          "output_type": "stream",
          "name": "stdout",
          "text": [
            "[11, 25, 20, 10, 9]\n",
            "[11, 38, 20, 10, 9]\n",
            "[11, 25, 20, 10, 9]\n"
          ]
        }
      ],
      "source": [
        "age_final = age_new[:]\n",
        "print(age_final)\n",
        "age_final[1] = 38\n",
        "print(age_final)\n",
        "print(age_new)"
      ]
    },
    {
      "cell_type": "code",
      "source": [
        "# adding something to all elements in lists\n",
        "age = [23, 18, 29, 75, 66]\n",
        "new_age = []\n",
        "\n",
        "for y in age:\n",
        "  new_age.append(age+1)\n",
        "  print(new_age)\n"
      ],
      "metadata": {
        "colab": {
          "base_uri": "https://localhost:8080/",
          "height": 217
        },
        "id": "G01dyvL1Wfh0",
        "outputId": "eeeaa4ba-2ffb-454e-9ab6-ad27c99added"
      },
      "execution_count": null,
      "outputs": [
        {
          "output_type": "error",
          "ename": "TypeError",
          "evalue": "ignored",
          "traceback": [
            "\u001b[0;31m---------------------------------------------------------------------------\u001b[0m",
            "\u001b[0;31mTypeError\u001b[0m                                 Traceback (most recent call last)",
            "\u001b[0;32m<ipython-input-39-0db737d526d1>\u001b[0m in \u001b[0;36m<module>\u001b[0;34m\u001b[0m\n\u001b[1;32m      4\u001b[0m \u001b[0my\u001b[0m \u001b[0;34m=\u001b[0m \u001b[0;36m1\u001b[0m\u001b[0;34m\u001b[0m\u001b[0;34m\u001b[0m\u001b[0m\n\u001b[1;32m      5\u001b[0m \u001b[0;32mfor\u001b[0m \u001b[0my\u001b[0m \u001b[0;32min\u001b[0m \u001b[0mage\u001b[0m\u001b[0;34m:\u001b[0m\u001b[0;34m\u001b[0m\u001b[0;34m\u001b[0m\u001b[0m\n\u001b[0;32m----> 6\u001b[0;31m   \u001b[0mnew_age\u001b[0m\u001b[0;34m.\u001b[0m\u001b[0mappend\u001b[0m\u001b[0;34m(\u001b[0m\u001b[0mage\u001b[0m\u001b[0;34m+\u001b[0m\u001b[0;36m1\u001b[0m\u001b[0;34m)\u001b[0m\u001b[0;34m\u001b[0m\u001b[0;34m\u001b[0m\u001b[0m\n\u001b[0m\u001b[1;32m      7\u001b[0m   \u001b[0mprint\u001b[0m\u001b[0;34m(\u001b[0m\u001b[0mnew_age\u001b[0m\u001b[0;34m)\u001b[0m\u001b[0;34m\u001b[0m\u001b[0;34m\u001b[0m\u001b[0m\n",
            "\u001b[0;31mTypeError\u001b[0m: can only concatenate list (not \"int\") to list"
          ]
        }
      ]
    },
    {
      "cell_type": "code",
      "execution_count": null,
      "metadata": {
        "scrolled": true,
        "id": "71Nu2NuMR5Ee",
        "outputId": "b8cfaab9-515b-4b94-b4dd-518ea768f3f8"
      },
      "outputs": [
        {
          "name": "stdout",
          "output_type": "stream",
          "text": [
            "['__add__', '__class__', '__class_getitem__', '__contains__', '__delattr__', '__delitem__', '__dir__', '__doc__', '__eq__', '__format__', '__ge__', '__getattribute__', '__getitem__', '__gt__', '__hash__', '__iadd__', '__imul__', '__init__', '__init_subclass__', '__iter__', '__le__', '__len__', '__lt__', '__mul__', '__ne__', '__new__', '__reduce__', '__reduce_ex__', '__repr__', '__reversed__', '__rmul__', '__setattr__', '__setitem__', '__sizeof__', '__str__', '__subclasshook__', 'append', 'clear', 'copy', 'count', 'extend', 'index', 'insert', 'pop', 'remove', 'reverse', 'sort']\n",
            "['__abs__', '__add__', '__bool__', '__ceil__', '__class__', '__delattr__', '__dir__', '__divmod__', '__doc__', '__eq__', '__float__', '__floor__', '__floordiv__', '__format__', '__ge__', '__getattribute__', '__getformat__', '__getnewargs__', '__gt__', '__hash__', '__init__', '__init_subclass__', '__int__', '__le__', '__lt__', '__mod__', '__mul__', '__ne__', '__neg__', '__new__', '__pos__', '__pow__', '__radd__', '__rdivmod__', '__reduce__', '__reduce_ex__', '__repr__', '__rfloordiv__', '__rmod__', '__rmul__', '__round__', '__rpow__', '__rsub__', '__rtruediv__', '__set_format__', '__setattr__', '__sizeof__', '__str__', '__sub__', '__subclasshook__', '__truediv__', '__trunc__', 'as_integer_ratio', 'conjugate', 'fromhex', 'hex', 'imag', 'is_integer', 'real']\n"
          ]
        }
      ],
      "source": [
        "#We can know about the methods available in the respective python classes by using the dir() method\n",
        "print (dir(Income))\n",
        "print (dir(Age))"
      ]
    },
    {
      "cell_type": "code",
      "execution_count": null,
      "metadata": {
        "id": "XFU665voR5Ee",
        "outputId": "ee80050e-ec37-40ad-aea3-17195ee9fb3e"
      },
      "outputs": [
        {
          "name": "stdout",
          "output_type": "stream",
          "text": [
            "<class 'float'>\n",
            "10\n"
          ]
        },
        {
          "data": {
            "text/plain": [
              "1"
            ]
          },
          "execution_count": 86,
          "metadata": {},
          "output_type": "execute_result"
        }
      ],
      "source": [
        "#Functions in Python\n",
        "\n",
        "Python = True\n",
        "\n",
        "# Print out type of var\n",
        "print(type(Age))\n",
        "\n",
        "# Print out length of var\n",
        "print(len(Income))\n",
        "\n",
        "# Convert var to an integer: out2\n",
        "IntPy = int(Python)\n",
        "IntPy\n"
      ]
    },
    {
      "cell_type": "code",
      "execution_count": null,
      "metadata": {
        "scrolled": true,
        "id": "XrDpLPSyR5Ee",
        "outputId": "93b1ebc9-f827-4414-a078-924a0050202e"
      },
      "outputs": [
        {
          "name": "stdout",
          "output_type": "stream",
          "text": [
            "[25, 65, 34, 44, 10, 50]\n",
            "[10, 25, 34, 44, 50, 65]\n",
            "[65, 50, 44, 34, 25, 10]\n"
          ]
        }
      ],
      "source": [
        "# Create lists \n",
        "Age1 = [25,65,34,44]\n",
        "Age2 = [10,50]\n",
        "\n",
        "# Paste together \n",
        "Age_f = Age1 + Age2\n",
        "print(Age_f)\n",
        "# Sort in descending order\n",
        "Age_full = sorted(Age_f)\n",
        "Age_FULL = sorted(Age_f, reverse = True)\n",
        "\n",
        "# Print out full_sorted\n",
        "print(Age_full)\n",
        "print(Age_FULL)"
      ]
    }
  ],
  "metadata": {
    "kernelspec": {
      "display_name": "Python 3 (ipykernel)",
      "language": "python",
      "name": "python3"
    },
    "language_info": {
      "codemirror_mode": {
        "name": "ipython",
        "version": 3
      },
      "file_extension": ".py",
      "mimetype": "text/x-python",
      "name": "python",
      "nbconvert_exporter": "python",
      "pygments_lexer": "ipython3",
      "version": "3.9.7"
    },
    "colab": {
      "provenance": []
    }
  },
  "nbformat": 4,
  "nbformat_minor": 0
}