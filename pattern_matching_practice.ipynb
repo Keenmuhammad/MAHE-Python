{
  "nbformat": 4,
  "nbformat_minor": 0,
  "metadata": {
    "colab": {
      "provenance": []
    },
    "kernelspec": {
      "name": "python3",
      "display_name": "Python 3"
    },
    "language_info": {
      "name": "python"
    }
  },
  "cells": [
    {
      "cell_type": "code",
      "execution_count": null,
      "metadata": {
        "colab": {
          "base_uri": "https://localhost:8080/"
        },
        "id": "ykUs5Ruhhk8I",
        "outputId": "71562dfb-4769-4d11-96eb-176bc75b0e99"
      },
      "outputs": [
        {
          "output_type": "stream",
          "name": "stdout",
          "text": [
            "True\n"
          ]
        }
      ],
      "source": [
        "# Default values - True or False \n",
        "# it will return True if Pattern Matches , otherwise it will return False\n",
        "\n",
        "greeting = \"Hello World\" # store \"Hello World\" in the variable greeting\n",
        "\n",
        "result = greeting.startswith('Hello') # check the pattern \"hello\" in the beginning of the variable\n",
        "\n",
        "print(result) # it will return True or False. If pattern matches it will return True otherwise False."
      ]
    },
    {
      "cell_type": "code",
      "source": [
        "# To get customized message, use condithional statements \n",
        "# instead of printing True or False\n",
        "greeting = \"Hello World\"\n",
        "result = greeting.startswith('Hello')\n",
        "if result == True:    # used conditional statement \n",
        "  print(\"Kind words\")\n",
        "else: \n",
        "  print (\" Not Kind words\")"
      ],
      "metadata": {
        "colab": {
          "base_uri": "https://localhost:8080/"
        },
        "id": "VfoUVAPqi2ub",
        "outputId": "72e257a0-3f55-4a26-b714-9352137b7b53"
      },
      "execution_count": null,
      "outputs": [
        {
          "output_type": "stream",
          "name": "stdout",
          "text": [
            "Kind words\n"
          ]
        }
      ]
    },
    {
      "cell_type": "code",
      "source": [
        "greeting = \"Hello World.\"\n",
        "result = greeting.endswith('.') # check the pattern endwith \".\" \n",
        "print(result)"
      ],
      "metadata": {
        "colab": {
          "base_uri": "https://localhost:8080/"
        },
        "id": "QbzEa_4ajNWD",
        "outputId": "4e0e2467-414a-4d2f-be33-521c290afc3c"
      },
      "execution_count": null,
      "outputs": [
        {
          "output_type": "stream",
          "name": "stdout",
          "text": [
            "True\n"
          ]
        }
      ]
    },
    {
      "cell_type": "code",
      "source": [
        "# Default values - True or False \n",
        "# change start value and end value \n",
        "\n",
        "# The syntax of startswith() is:\n",
        "\n",
        "# str.startswith(prefix[, start[, end]])\n",
        "\n",
        "# start and end are optional \n",
        "# start - it is an integer value - is the start index position at which the search for the substring/prefix should begin\n",
        "# end - is is an integer value - is the index position at which the search for the substring/prefix should end\n",
        "greeting = \"Hello World\"\n",
        "result = greeting.startswith('Hello',0,5)\n",
        "print(result)"
      ],
      "metadata": {
        "colab": {
          "base_uri": "https://localhost:8080/"
        },
        "id": "H0uCfkqTjVJd",
        "outputId": "d476f76f-ae4c-40ba-a865-e81c74e833d2"
      },
      "execution_count": null,
      "outputs": [
        {
          "output_type": "stream",
          "name": "stdout",
          "text": [
            "True\n"
          ]
        }
      ]
    },
    {
      "cell_type": "code",
      "source": [
        " # this code is to check the greeting stars with \"H\" \n",
        "\n",
        "greetings = ['Hello','Namaste', 'Hola', 'Bonjour']  # create list to store values \n",
        "\n",
        "for i in greetings: \n",
        "  if i.startswith(\"H\"):\n",
        "    print(i)"
      ],
      "metadata": {
        "colab": {
          "base_uri": "https://localhost:8080/"
        },
        "id": "M4b5rucwj1Jf",
        "outputId": "72ff4bcc-34b4-43ec-8091-e20b8639b280"
      },
      "execution_count": null,
      "outputs": [
        {
          "output_type": "stream",
          "name": "stdout",
          "text": [
            "Hello\n",
            "Hola\n"
          ]
        }
      ]
    },
    {
      "cell_type": "code",
      "source": [
        "import re"
      ],
      "metadata": {
        "id": "WnadmbbZ3T1q"
      },
      "execution_count": null,
      "outputs": []
    },
    {
      "cell_type": "code",
      "source": [
        "# pattern matching using Regular expression  \n",
        "# match - matches the patterns starts with \n",
        "\n",
        "result= re.match('[hH]ello','Hello World')  # it will match either lower case (h) or upper case character (H) \n",
        "print(result)\n"
      ],
      "metadata": {
        "colab": {
          "base_uri": "https://localhost:8080/"
        },
        "id": "g9J-My053jOo",
        "outputId": "0c936c6e-c0ce-4d68-c106-c350c35ca83f"
      },
      "execution_count": null,
      "outputs": [
        {
          "output_type": "stream",
          "name": "stdout",
          "text": [
            "<re.Match object; span=(0, 5), match='Hello'>\n"
          ]
        }
      ]
    },
    {
      "cell_type": "code",
      "source": [
        "result= re.match('World','Hello World')\n",
        "print(result)\n"
      ],
      "metadata": {
        "colab": {
          "base_uri": "https://localhost:8080/"
        },
        "id": "8vcWO8l63sA2",
        "outputId": "ca6fc429-32af-4f20-c976-a0dd9bac7dc0"
      },
      "execution_count": null,
      "outputs": [
        {
          "output_type": "stream",
          "name": "stdout",
          "text": [
            "None\n"
          ]
        }
      ]
    },
    {
      "cell_type": "code",
      "source": [
        "if re.match('[Hh]ello','hello World'):\n",
        "  print(\"Kind words\")\n",
        "else: \n",
        "  print (\"Not kind words\")\n"
      ],
      "metadata": {
        "colab": {
          "base_uri": "https://localhost:8080/"
        },
        "id": "BZqsdvNO3zB0",
        "outputId": "52d8bd66-2bff-4e39-9bff-549ebe3294ec"
      },
      "execution_count": null,
      "outputs": [
        {
          "output_type": "stream",
          "name": "stdout",
          "text": [
            "Kind words\n"
          ]
        }
      ]
    },
    {
      "cell_type": "code",
      "source": [
        "# complex pattern using Regular expression \n",
        "# To match either upper case or lower case hH \n",
        "# with flag re.I - Ignorecase \n",
        "\n",
        "result= re.match('hellO','hello World',re.I)\n",
        "print(result)\n"
      ],
      "metadata": {
        "colab": {
          "base_uri": "https://localhost:8080/"
        },
        "id": "4nJGDQoB32w-",
        "outputId": "e136572e-2a41-43e7-d083-e31a53776d7a"
      },
      "execution_count": null,
      "outputs": [
        {
          "output_type": "stream",
          "name": "stdout",
          "text": [
            "<re.Match object; span=(0, 5), match='hello'>\n"
          ]
        }
      ]
    },
    {
      "cell_type": "code",
      "source": [
        "# using regular expression\n",
        "# regex\n",
        "# ^ denotes starts with \n",
        "# $ denotes ends with \n",
        "\n",
        "# This regular exprssion is use to check the pattern is 10 digit or not \n",
        " \n",
        "phonenum =\"9134556680\"\n",
        "if re.match('^[0-9]{10}$',phonenum):\n",
        "  print(\"valid\")\n",
        "else:\n",
        "  print(\"invalid\")"
      ],
      "metadata": {
        "colab": {
          "base_uri": "https://localhost:8080/"
        },
        "id": "QV3WE4wL36bl",
        "outputId": "e312f7b4-8b3f-4fc4-e960-3892f7fa21b0"
      },
      "execution_count": null,
      "outputs": [
        {
          "output_type": "stream",
          "name": "stdout",
          "text": [
            "valid\n"
          ]
        }
      ]
    },
    {
      "cell_type": "code",
      "source": [
        "# search()\n",
        "# match the pattern anywhere in the string \n",
        "# syntax - re.search(pattern,string,flags)\n",
        "\n",
        "greeting = \"Hello World\"\n",
        "re.search('World',greeting)"
      ],
      "metadata": {
        "colab": {
          "base_uri": "https://localhost:8080/"
        },
        "id": "bNXZjBT76f4z",
        "outputId": "738a9a00-47bd-4fef-84a2-39d9859b6eae"
      },
      "execution_count": null,
      "outputs": [
        {
          "output_type": "execute_result",
          "data": {
            "text/plain": [
              "<re.Match object; span=(6, 11), match='World'>"
            ]
          },
          "metadata": {},
          "execution_count": 9
        }
      ]
    },
    {
      "cell_type": "code",
      "source": [
        "# My addition\n",
        "greeting = \"Hello World\"\n",
        "if re.search('World',greeting):\n",
        "  print('Muhammad is a Genius')\n",
        "else:\n",
        "  print(\"Muhammad needs to practice Python more\")"
      ],
      "metadata": {
        "colab": {
          "base_uri": "https://localhost:8080/"
        },
        "id": "aYPeT18S8sGx",
        "outputId": "d70e848e-29a9-4be3-f0d1-91b6d1d1487a"
      },
      "execution_count": null,
      "outputs": [
        {
          "output_type": "stream",
          "name": "stdout",
          "text": [
            "Muhammad is a Genius\n"
          ]
        }
      ]
    },
    {
      "cell_type": "code",
      "source": [
        "# search()\n",
        "# match the pattern anywhere in the string \n",
        "# syntax - re.search(pattern,string,flags)\n",
        "# re.I - is to ignore the case \n",
        "\n",
        "greeting = \"World Hello World\"\n",
        "re.search('world',greeting,re.I)"
      ],
      "metadata": {
        "colab": {
          "base_uri": "https://localhost:8080/"
        },
        "id": "AbcAA2uM6hHP",
        "outputId": "2b42469c-39e2-48de-9cdd-386fa795d6be"
      },
      "execution_count": null,
      "outputs": [
        {
          "output_type": "execute_result",
          "data": {
            "text/plain": [
              "<re.Match object; span=(0, 5), match='World'>"
            ]
          },
          "metadata": {},
          "execution_count": 11
        }
      ]
    },
    {
      "cell_type": "code",
      "source": [
        "# search()\n",
        "# match the pattern anywhere in the string \n",
        "# syntax - re.search(pattern,string,flags)\n",
        "# $ denotes ends with \n",
        "\n",
        "greeting = \"World Hello World.\"\n",
        "re.search('.$',greeting)"
      ],
      "metadata": {
        "colab": {
          "base_uri": "https://localhost:8080/"
        },
        "id": "uuPhhh7e6jl9",
        "outputId": "a588f302-1544-488c-c40e-481abaf0f2df"
      },
      "execution_count": null,
      "outputs": [
        {
          "output_type": "execute_result",
          "data": {
            "text/plain": [
              "<re.Match object; span=(17, 18), match='.'>"
            ]
          },
          "metadata": {},
          "execution_count": 14
        }
      ]
    },
    {
      "cell_type": "code",
      "source": [
        "# search()\n",
        "# match the pattern anywhere in the string \n",
        "# syntax - re.search(pattern,string,flags)\n",
        "\n",
        "greeting = \"World Hello World.\"\n",
        "re.search('World',greeting)"
      ],
      "metadata": {
        "colab": {
          "base_uri": "https://localhost:8080/"
        },
        "id": "zpKgnYGd6p11",
        "outputId": "abf65522-76a9-407d-8e8c-eea7a99c8a1e"
      },
      "execution_count": null,
      "outputs": [
        {
          "output_type": "execute_result",
          "data": {
            "text/plain": [
              "<re.Match object; span=(0, 5), match='World'>"
            ]
          },
          "metadata": {},
          "execution_count": 15
        }
      ]
    },
    {
      "cell_type": "code",
      "source": [
        "# Regular expression - | \n",
        "# |  denotes - either or \n",
        "\n",
        "greeting = \"Hello world\"\n",
        "# \"Namaskar|Hello\"  - this regex matches either Namaskar or Hello\n",
        "if re.search('Namaskar|Hello', greeting): \n",
        "  print (\"Kind words\")\n",
        "else: \n",
        "  print (\"Not Kind words\")"
      ],
      "metadata": {
        "colab": {
          "base_uri": "https://localhost:8080/"
        },
        "id": "Bnm_Fja76s43",
        "outputId": "9d68a126-213d-4fbe-f934-7cafeb91b431"
      },
      "execution_count": null,
      "outputs": [
        {
          "output_type": "stream",
          "name": "stdout",
          "text": [
            "Kind words\n"
          ]
        }
      ]
    },
    {
      "cell_type": "code",
      "source": [
        "greeting = \"World Hello World, The World is beautiful\"\n",
        "re.findall('world' ,greeting,re.I)\n",
        "# re.I - ignore the case "
      ],
      "metadata": {
        "colab": {
          "base_uri": "https://localhost:8080/"
        },
        "id": "X0495tp96w8m",
        "outputId": "59978f70-2210-44ed-8f65-a2eac30acd4c"
      },
      "execution_count": null,
      "outputs": [
        {
          "output_type": "execute_result",
          "data": {
            "text/plain": [
              "['World', 'World', 'World']"
            ]
          },
          "metadata": {},
          "execution_count": 23
        }
      ]
    },
    {
      "cell_type": "code",
      "source": [
        "# findall  - Return a list of all matches \n",
        "# syntax - findall(pattern,string)\n",
        "\n",
        "values = \"Hello13Students14Welcome\"\n",
        "re.findall('[0-9]',values)"
      ],
      "metadata": {
        "colab": {
          "base_uri": "https://localhost:8080/"
        },
        "id": "BXkXMdXC6zpA",
        "outputId": "1fb4bcf7-98db-4f39-cf5b-447f73c9be9c"
      },
      "execution_count": null,
      "outputs": [
        {
          "output_type": "execute_result",
          "data": {
            "text/plain": [
              "['1', '3', '1', '4']"
            ]
          },
          "metadata": {},
          "execution_count": 24
        }
      ]
    },
    {
      "cell_type": "code",
      "source": [
        "#split()- Takes a string, split the values when the pattern matches and return a list \n",
        "# split('pattern','string',maxsplit)\n",
        "values = \"Hello1Students3welcome4to5Patttern6Matching\"\n",
        "re.split('[0-9]',values)"
      ],
      "metadata": {
        "colab": {
          "base_uri": "https://localhost:8080/"
        },
        "id": "90ORdAXA61wA",
        "outputId": "e2ed3b61-d483-42cb-f3ba-6e34de782933"
      },
      "execution_count": null,
      "outputs": [
        {
          "output_type": "execute_result",
          "data": {
            "text/plain": [
              "['Hello', 'Students', 'welcome', 'to', 'Patttern', 'Matching']"
            ]
          },
          "metadata": {},
          "execution_count": 27
        }
      ]
    },
    {
      "cell_type": "code",
      "source": [
        "#split()- Takes a string, split the values when the pattern matches and return a list \n",
        "# split('pattern','string')\n",
        "# +  used to denote more than once (preceding character)\n",
        "values = \"Hello11Students13welcome14to15PattternMatching\"\n",
        "\n",
        "re.split('[0-9]+',values)\n",
        "# it will check numeric value, with one or more digit"
      ],
      "metadata": {
        "colab": {
          "base_uri": "https://localhost:8080/"
        },
        "id": "Om05dvhx63ja",
        "outputId": "ed3dadbd-c1e4-450d-c4e8-bb98e632f89c"
      },
      "execution_count": null,
      "outputs": [
        {
          "output_type": "execute_result",
          "data": {
            "text/plain": [
              "['Hello', 'Students', 'welcome', 'to', 'PattternMatching']"
            ]
          },
          "metadata": {},
          "execution_count": 29
        }
      ]
    },
    {
      "cell_type": "code",
      "source": [
        "#split()- Takes a string, split the values when the pattern matches and return a list \n",
        "# split('pattern','string',maxsplit)\n",
        "values = \"Hello1Students3welcome4to5Patttern6Matching\"\n",
        "re.split('[0-9]',values,1)"
      ],
      "metadata": {
        "colab": {
          "base_uri": "https://localhost:8080/"
        },
        "id": "oYWA5-qRAte2",
        "outputId": "60ab3635-8c4c-4896-d3e0-17a84dc4772d"
      },
      "execution_count": null,
      "outputs": [
        {
          "output_type": "execute_result",
          "data": {
            "text/plain": [
              "['Hello', 'Students3welcome4to5Patttern6Matching']"
            ]
          },
          "metadata": {},
          "execution_count": 30
        }
      ]
    },
    {
      "cell_type": "code",
      "source": [
        "# sub - replace the values \n",
        "# sub('pattern', 'replacement','string')\n",
        "\n",
        "greetings = 'Hello1Students3welcome4to5pattern6matching7demo8session'\n",
        "re.sub('[0-9]',' ',greetings)"
      ],
      "metadata": {
        "colab": {
          "base_uri": "https://localhost:8080/",
          "height": 35
        },
        "id": "JqNLVvjwBRGt",
        "outputId": "868749e0-16e2-439e-dd9b-fda7aa48ec8d"
      },
      "execution_count": null,
      "outputs": [
        {
          "output_type": "execute_result",
          "data": {
            "text/plain": [
              "'Hello Students welcome to pattern matching demo session'"
            ],
            "application/vnd.google.colaboratory.intrinsic+json": {
              "type": "string"
            }
          },
          "metadata": {},
          "execution_count": 32
        }
      ]
    },
    {
      "cell_type": "code",
      "source": [
        "shopping_list =[\"apples\", 'gooseberry', 'strawberry', 'blueberry']\n",
        "result=[]\n",
        "# . matches any character \n",
        "# * matches preceding character zero or more times. \n",
        "#  it possible to combine two different regex operators \n",
        "# .* means any charcter zero or more times \n",
        "for i in shopping_list:\n",
        "  r= re.match(\".*berry\",i)\n",
        "  result.insert(1,r)\n",
        "result"
      ],
      "metadata": {
        "colab": {
          "base_uri": "https://localhost:8080/"
        },
        "id": "v_5q0VdhBVlN",
        "outputId": "96b783e2-7af6-4593-bc3a-9060432ef107"
      },
      "execution_count": null,
      "outputs": [
        {
          "output_type": "execute_result",
          "data": {
            "text/plain": [
              "[None,\n",
              " <re.Match object; span=(0, 9), match='blueberry'>,\n",
              " <re.Match object; span=(0, 10), match='strawberry'>,\n",
              " <re.Match object; span=(0, 10), match='gooseberry'>]"
            ]
          },
          "metadata": {},
          "execution_count": 33
        }
      ]
    },
    {
      "cell_type": "code",
      "source": [
        "shopping_list =[\"apples\", 'gooseberry', 'strawberry', 'blueberry']\n",
        "result=[]\n",
        "# . matches any character \n",
        "# * matches preceding character zero or more times. \n",
        "for i in shopping_list:\n",
        "  r= re.search(\".*berry\",i)\n",
        "  result.insert(1,r)\n",
        "result"
      ],
      "metadata": {
        "colab": {
          "base_uri": "https://localhost:8080/"
        },
        "id": "uDsbB3sJBZlu",
        "outputId": "0422a72a-66ab-44d4-c5c6-977fecadd128"
      },
      "execution_count": null,
      "outputs": [
        {
          "output_type": "execute_result",
          "data": {
            "text/plain": [
              "[None,\n",
              " <re.Match object; span=(0, 9), match='blueberry'>,\n",
              " <re.Match object; span=(0, 10), match='strawberry'>,\n",
              " <re.Match object; span=(0, 10), match='gooseberry'>]"
            ]
          },
          "metadata": {},
          "execution_count": 34
        }
      ]
    },
    {
      "cell_type": "code",
      "source": [],
      "metadata": {
        "id": "yHleIc8lBdAD"
      },
      "execution_count": null,
      "outputs": []
    }
  ]
}