{
  "nbformat": 4,
  "nbformat_minor": 0,
  "metadata": {
    "colab": {
      "provenance": []
    },
    "kernelspec": {
      "name": "python3",
      "display_name": "Python 3"
    },
    "language_info": {
      "name": "python"
    }
  },
  "cells": [
    {
      "cell_type": "code",
      "source": [
        "Location = ['Abuja', 'Kaduna', 'Kano', 'Lagos']\n",
        "for places in Location:\n",
        "  print(places)\n",
        "# Location is iterable"
      ],
      "metadata": {
        "colab": {
          "base_uri": "https://localhost:8080/"
        },
        "id": "IMzCJzgA4kaZ",
        "outputId": "bb7258df-596b-4488-e6b0-38ec961e47d5"
      },
      "execution_count": null,
      "outputs": [
        {
          "output_type": "stream",
          "name": "stdout",
          "text": [
            "Abuja\n",
            "Kaduna\n",
            "Kano\n",
            "Lagos\n"
          ]
        }
      ]
    },
    {
      "cell_type": "code",
      "source": [
        "if 2>3:\n",
        "  print('Muhammad Thinks......')\n",
        "else:\n",
        "  print('Yay!!')"
      ],
      "metadata": {
        "colab": {
          "base_uri": "https://localhost:8080/"
        },
        "id": "y2GZfTvA5mmM",
        "outputId": "8d7ae067-5f41-4d86-86d1-acfa804ee86c"
      },
      "execution_count": null,
      "outputs": [
        {
          "output_type": "stream",
          "name": "stdout",
          "text": [
            "Yay!!\n"
          ]
        }
      ]
    },
    {
      "cell_type": "code",
      "source": [
        "assign_txt=\"Narendra Damodardas Modi, born 17 September 1950) is the 15th and current Prime Minister of India, in office since 26 May 2014.odi, a leader of the Bharatiya Janata Party was the Chief Minister of Gujarat from 2001 to 2014 and is the Member of Parliament from Varanasi. He led the BJP in the 2014 general election, which gave the party a majority in the Lok Sabha, the first for any political party in India since 1984.As the Chief Minister of Gujarat, Modi's economic policies were praised, while his administration was also criticised for failing to significantly improve the human development in the state, and for failing to prevent the 2002 Gujarat riots. A Hindu nationalist and member of the Rashtriya Swayamsevak Sangh, Modi,remains a controversial figure domestically and internationally. Modi was born on 17 September 1950, to a family of grocers in Vadnagar, Mehsana district, Bombay State (present-day Gujarat).Modi's family belonged to the Modh-Ghanchi-Teli (oil-presser) community,hich is categorised as an Other Backward Class by the Indian government.Modi was the third of six children born to Damodardas Mulchand (1915–1989) and Heeraben Modi (b. c. 1920).As a child, Modi helped his father sell tea at the Vadnagar railway station, and later ran a tea stall with his brother near a bus terminus.Modi completed his higher secondary education in Vadnagar in 1967, where a teacher described him as an average student and a keen debater, with an interest in theatre.Modi had an early gift for rhetoric in debates, and this was noted by his teachers and students.Modi preferred playing larger-than-life characters in theatrical productions, which has influenced his political image.At age eight, Modi discovered the Rashtriya Swayamsevak Sangh (RSS), and began attending its local shakhas (training sessions). There, Modi met Lakshmanrao Inamdar, popularly known as Vakil Saheb, who inducted him as an RSS balswayamsevak (junior cadet) and became his political mentor.While Modi was training with the RSS, he also met Vasant Gajendragadkar and Nathalal Jaghda, Bharatiya Jana Sangh leaders who were founding members of the BJP's Gujarat unit in 1980.Engaged while still a child to a local girl, Jashodaben Narendrabhai Modi, Modi rejected the arranged marriage at the same time he graduated from high school.The resulting familial tensions contributed to his decision to leave home in 1967.Modi spent the ensuing two years travelling across Northern and North-eastern India, though few details of where he went have emerged.In interviews, Modi has described visiting Hindu ashrams founded by Swami Vivekananda: the Belur Math near Kolkata, followed by the Advaita Ashrama in Almora and the Ramakrishna mission in Rajkot. Modi remained only a short time at each, since he lacked the required college education.\""
      ],
      "metadata": {
        "id": "WUMcxdco7CKS"
      },
      "execution_count": null,
      "outputs": []
    },
    {
      "cell_type": "code",
      "source": [
        "print(assign_txt.count('RSS'))"
      ],
      "metadata": {
        "colab": {
          "base_uri": "https://localhost:8080/"
        },
        "id": "R7pe21zU7I-1",
        "outputId": "33b20eed-8c21-46a6-b669-2c95410f0f10"
      },
      "execution_count": null,
      "outputs": [
        {
          "output_type": "stream",
          "name": "stdout",
          "text": [
            "3\n"
          ]
        }
      ]
    },
    {
      "cell_type": "code",
      "source": [
        "print(assign_txt.count('Modi'))"
      ],
      "metadata": {
        "colab": {
          "base_uri": "https://localhost:8080/"
        },
        "id": "ysgEd1vV7fO5",
        "outputId": "22c9d1e9-687a-4f08-814e-df7ff206216f"
      },
      "execution_count": null,
      "outputs": [
        {
          "output_type": "stream",
          "name": "stdout",
          "text": [
            "19\n"
          ]
        }
      ]
    },
    {
      "cell_type": "code",
      "source": [
        "c=0\n",
        "for l in assign_txt:\n",
        "  if l.isupper():\n",
        "    c=c+1\n",
        "print(c)"
      ],
      "metadata": {
        "colab": {
          "base_uri": "https://localhost:8080/"
        },
        "id": "ELpRz3kl78vy",
        "outputId": "4fa99cc1-8cd8-4941-ee75-90cd255eaf4d"
      },
      "execution_count": null,
      "outputs": [
        {
          "output_type": "stream",
          "name": "stdout",
          "text": [
            "120\n"
          ]
        }
      ]
    },
    {
      "cell_type": "code",
      "execution_count": null,
      "metadata": {
        "id": "WM5Og3qT2cxk"
      },
      "outputs": [],
      "source": [
        "assign_txt=\"Narendra  Damodardas  Modi,  born  17  September  1950)  is  the  15th  and \\\n",
        "     current  Prime  Minister  of  India,  in  office  since  26  May  2014.odi,  a  leader \\\n",
        "of the Bharatiya Janata Party was the Chief Minister of Gujarat from 2001 to \\\n",
        "2014  and  is  the  Member  of  Parliament  from  Varanasi.  He  led  the  BJP  in  the \\\n",
        "2014  general  election,  which  gave  the  party  a  majority  in  the  Lok  Sabha,  the \\\n",
        "first for any political party in India since 1984.As the Chief Minister of \\\n",
        "Gujarat,  Modi's  economic  policies  were  praised,  while  his  administration  was \\\n",
        "also criticised for failing to significantly improve the human development \\\n",
        "in the state, and for failing to prevent the 2002 Gujarat riots. A Hindu \\\n",
        "nationalist and member of the Rashtriya Swayamsevak Sangh, Modi,remains a \\\n",
        "controversial figure domestically and internationally. Modi was born on 17 \\\n",
        "September  1950,  to  a  family  of  grocers  in  Vadnagar,  Mehsana  district,  Bombay \\\n",
        "State  (present-day  Gujarat).Modi's  family  belonged  to  the  Modh-Ghanchi-Teli \\\n",
        "(oil-presser) community,hich is categorised as an Other Backward Class by \\\n",
        "the  Indian  government.Modi  was  the  third  of  six  children  born  to  Damodardas \\\n",
        "Mulchand  (1915–1989)  and  Heeraben  Modi  (b.  c.  1920).As  a  child,  Modi  helped \\\n",
        "his father sell tea at the Vadnagar railway station, and later ran a tea \\\n",
        "stall with his brother near a bus terminus.Modi completed his higher \\\n",
        "secondary  education  in  Vadnagar  in  1967,  where  a  teacher  described  him  as  an \\\n",
        "average  student  and  a  keen  debater,  with  an  interest  in  theatre.Modi  had  an \\\n",
        "early gift for rhetoric in debates, and this was noted by his teachers and \\\n",
        "students.Modi  preferred  playing  larger-than-life  characters  in  theatrical \\\n",
        "productions,  which  has  influenced  his  political  image.At  age  eight,  Modi \\\n",
        "discovered  the  Rashtriya  Swayamsevak  Sangh  (RSS),  and  began  attending  its \\\n",
        "local shakhas (training sessions). There, Modi met Lakshmanrao Inamdar, \\\n",
        "popularly  known  as  Vakil  Saheb,  who  inducted  him  as  an  RSS  balswayamsevak \\\n",
        "(junior cadet) and became his political mentor.While Modi was training with \\\n",
        "the  RSS,  he  also  met  Vasant  Gajendragadkar  and  Nathalal  Jaghda,  Bharatiya \\\n",
        "Jana  Sangh  leaders  who  were  founding  members  of  the  BJP's  Gujarat  unit  in \\\n",
        "1980.Engaged  while  still  a  child  to  a  local  girl,  Jashodaben  Narendrabhai \\\n",
        "Modi,  Modi  rejected  the  arranged  marriage  at  the  same  time  he  graduated  from \\\n",
        "high  school.The  resulting  familial  tensions  contributed  to  his  decision  to \\\n",
        "leave home in 1967.Modi spent the ensuing two years travelling across \\\n",
        "Northern  and  North-eastern  India,  though  few  details  of  where  he  went  have \\\n",
        "emerged.In  interviews,  Modi  has  described  visiting  Hindu  ashrams  founded  by \\\n",
        "Swami  Vivekananda:  the  Belur  Math  near  Kolkata,  followed  by  the  Advaita \\\n",
        "Ashrama  in  Almora  and  the  Ramakrishna  mission  in  Rajkot.  Modi  remained  only \\\n",
        "a  short  time  at  each,  since  he  lacked  the  required  college  education.\"\n"
      ]
    },
    {
      "cell_type": "code",
      "source": [],
      "metadata": {
        "id": "4WKQ2GQ824y8"
      },
      "execution_count": null,
      "outputs": []
    }
  ]
}