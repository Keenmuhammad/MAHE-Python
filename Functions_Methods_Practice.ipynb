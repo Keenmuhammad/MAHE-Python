{
  "nbformat": 4,
  "nbformat_minor": 0,
  "metadata": {
    "colab": {
      "provenance": []
    },
    "kernelspec": {
      "name": "python3",
      "display_name": "Python 3"
    },
    "language_info": {
      "name": "python"
    }
  },
  "cells": [
    {
      "cell_type": "code",
      "execution_count": null,
      "metadata": {
        "colab": {
          "base_uri": "https://localhost:8080/"
        },
        "id": "hhZAz4koCc2g",
        "outputId": "83fca849-3961-4653-e5e0-3a3f2e37bc97"
      },
      "outputs": [
        {
          "output_type": "stream",
          "name": "stdout",
          "text": [
            "<class 'float'>\n",
            "8\n"
          ]
        },
        {
          "output_type": "execute_result",
          "data": {
            "text/plain": [
              "1"
            ]
          },
          "metadata": {},
          "execution_count": 1
        }
      ],
      "source": [
        "Python = True\n",
        "Age= 25.5\n",
        "Income = ['Amit', 75000, 'Tina', 65000, 'Heena', 45000, 'Reena', 25000]\n",
        "\n",
        "# 'type' is a function to identify the 'type' of variable : Age\n",
        "print(type(Age))\n",
        "\n",
        "# 'len' is a function to get the length of variable : Income \n",
        "print(len(Income))\n",
        "\n",
        "# Convert var to an integer: out2\n",
        "IntPy = int(Python)\n",
        "IntPy"
      ]
    },
    {
      "cell_type": "code",
      "source": [
        "# Create lists \n",
        "Age1 = [25,65,34,44]\n",
        "Age2 = [10,50]\n",
        "\n",
        "# Concatenate together \n",
        "Age_f = Age1 + Age2\n",
        "print(Age_f)\n",
        "\n",
        "# Sort in descending order using the function 'sorted'\n",
        "Age_full = sorted(Age_f)\n",
        "Age_FULL = sorted(Age_f, reverse = True)\n",
        "\n",
        "# Print out full_sorted\n",
        "print(Age_full)\n",
        "print(Age_FULL)"
      ],
      "metadata": {
        "colab": {
          "base_uri": "https://localhost:8080/"
        },
        "id": "xUjrXBrhEIzq",
        "outputId": "eb25e724-d579-44a5-d66f-8b348cd3bbf7"
      },
      "execution_count": null,
      "outputs": [
        {
          "output_type": "stream",
          "name": "stdout",
          "text": [
            "[25, 65, 34, 44, 10, 50]\n",
            "[10, 25, 34, 44, 50, 65]\n",
            "[65, 50, 44, 34, 25, 10]\n"
          ]
        }
      ]
    },
    {
      "cell_type": "code",
      "source": [
        "# Help itself is a function on the functions\n",
        "help(sorted)"
      ],
      "metadata": {
        "colab": {
          "base_uri": "https://localhost:8080/"
        },
        "id": "himRV1xxEbLl",
        "outputId": "d680135f-5517-4d4f-931d-10132e23e1bb"
      },
      "execution_count": null,
      "outputs": [
        {
          "output_type": "stream",
          "name": "stdout",
          "text": [
            "Help on built-in function sorted in module builtins:\n",
            "\n",
            "sorted(iterable, /, *, key=None, reverse=False)\n",
            "    Return a new list containing all items from the iterable in ascending order.\n",
            "    \n",
            "    A custom key function can be supplied to customize the sort order, and the\n",
            "    reverse flag can be set to request the result in descending order.\n",
            "\n"
          ]
        }
      ]
    },
    {
      "cell_type": "code",
      "source": [
        "#Index is a method\n",
        "Income.index('Heena')      "
      ],
      "metadata": {
        "colab": {
          "base_uri": "https://localhost:8080/"
        },
        "id": "wkFCzVoVEhNF",
        "outputId": "33261afb-1f0a-4205-a151-c9bf782d32e1"
      },
      "execution_count": null,
      "outputs": [
        {
          "output_type": "execute_result",
          "data": {
            "text/plain": [
              "4"
            ]
          },
          "metadata": {},
          "execution_count": 4
        }
      ]
    },
    {
      "cell_type": "code",
      "source": [
        "#  .upper and .replace are the two methods that can \n",
        "#  be used on a string. \n",
        "Word = \"python\"\n",
        "print(Word.upper())\n",
        "print(Word.replace(\"n\",\"n course\"))"
      ],
      "metadata": {
        "colab": {
          "base_uri": "https://localhost:8080/"
        },
        "id": "LV9d_-1oElum",
        "outputId": "b8d909ee-49a9-4b02-a5c0-2eca8ddc3de9"
      },
      "execution_count": null,
      "outputs": [
        {
          "output_type": "stream",
          "name": "stdout",
          "text": [
            "PYTHON\n",
            "python course\n"
          ]
        }
      ]
    },
    {
      "cell_type": "code",
      "execution_count": null,
      "metadata": {
        "id": "RkinZjNWCibG",
        "outputId": "ca4232d1-7d4f-4e48-ed94-50573b1bfe70",
        "colab": {
          "base_uri": "https://localhost:8080/",
          "height": 183
        }
      },
      "outputs": [
        {
          "output_type": "error",
          "ename": "AttributeError",
          "evalue": "ignored",
          "traceback": [
            "\u001b[0;31m---------------------------------------------------------------------------\u001b[0m",
            "\u001b[0;31mAttributeError\u001b[0m                            Traceback (most recent call last)",
            "\u001b[0;32m<ipython-input-6-d9becd3a632b>\u001b[0m in \u001b[0;36m<module>\u001b[0;34m\u001b[0m\n\u001b[1;32m      1\u001b[0m \u001b[0;31m# .replace is not a method for num/int/float objects\u001b[0m\u001b[0;34m\u001b[0m\u001b[0;34m\u001b[0m\u001b[0;34m\u001b[0m\u001b[0m\n\u001b[0;32m----> 2\u001b[0;31m \u001b[0mIncome\u001b[0m\u001b[0;34m.\u001b[0m\u001b[0mreplace\u001b[0m\u001b[0;34m(\u001b[0m\u001b[0;36m50000\u001b[0m\u001b[0;34m,\u001b[0m\u001b[0;36m45000\u001b[0m\u001b[0;34m)\u001b[0m\u001b[0;34m\u001b[0m\u001b[0;34m\u001b[0m\u001b[0m\n\u001b[0m",
            "\u001b[0;31mAttributeError\u001b[0m: 'list' object has no attribute 'replace'"
          ]
        }
      ],
      "source": [
        "# .replace is not a method for num/int/float objects\n",
        "Income.replace(50000,45000)      "
      ]
    },
    {
      "cell_type": "code",
      "source": [
        "# .index method that we used on the string can also be \n",
        "# used on a integer/list\n",
        "Income.index(45000)"
      ],
      "metadata": {
        "colab": {
          "base_uri": "https://localhost:8080/"
        },
        "id": "vxMtzihEFkuB",
        "outputId": "7f46114b-32eb-4498-b133-8b2827f863b7"
      },
      "execution_count": null,
      "outputs": [
        {
          "output_type": "execute_result",
          "data": {
            "text/plain": [
              "5"
            ]
          },
          "metadata": {},
          "execution_count": 9
        }
      ]
    },
    {
      "cell_type": "code",
      "source": [
        "Word.index('t')"
      ],
      "metadata": {
        "colab": {
          "base_uri": "https://localhost:8080/"
        },
        "id": "32nWJdVMFsn3",
        "outputId": "757ece90-e96b-4889-e20f-a7b74dd1f441"
      },
      "execution_count": null,
      "outputs": [
        {
          "output_type": "execute_result",
          "data": {
            "text/plain": [
              "2"
            ]
          },
          "metadata": {},
          "execution_count": 8
        }
      ]
    },
    {
      "cell_type": "code",
      "source": [
        "# .append will append an object in the list\n",
        "Income.append(80000)\n",
        "Income"
      ],
      "metadata": {
        "colab": {
          "base_uri": "https://localhost:8080/"
        },
        "id": "pzgE3Qd2F0GN",
        "outputId": "29cf12db-e962-4172-cfea-131a439b7f08"
      },
      "execution_count": null,
      "outputs": [
        {
          "output_type": "execute_result",
          "data": {
            "text/plain": [
              "['Amit', 75000, 'Tina', 65000, 'Heena', 45000, 'Reena', 25000, 'Raina', 80000]"
            ]
          },
          "metadata": {},
          "execution_count": 13
        }
      ]
    },
    {
      "cell_type": "code",
      "source": [
        "# .count is a method that can be used with both string and list\n",
        "Sample = \"Beautiful\"\n",
        "print(Sample.count(\"u\"))"
      ],
      "metadata": {
        "id": "RIJr04hdF3uf"
      },
      "execution_count": null,
      "outputs": []
    },
    {
      "cell_type": "code",
      "source": [
        "# .count in list displays out how often 25000 appears in Income\n",
        "print(Income.count(25000))"
      ],
      "metadata": {
        "id": "Ye-G1keaF85h"
      },
      "execution_count": null,
      "outputs": []
    },
    {
      "cell_type": "code",
      "source": [
        "# To access the elements in their range we have \n",
        "# to specify them in a list using a list function on the object\n",
        "c=range(11)\n",
        "print(c)\n",
        "print (list(c))"
      ],
      "metadata": {
        "id": "0w3DtjM4GBE1"
      },
      "execution_count": null,
      "outputs": []
    }
  ]
}