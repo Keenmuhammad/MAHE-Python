{
  "nbformat": 4,
  "nbformat_minor": 0,
  "metadata": {
    "colab": {
      "provenance": []
    },
    "kernelspec": {
      "name": "python3",
      "display_name": "Python 3"
    },
    "language_info": {
      "name": "python"
    }
  },
  "cells": [
    {
      "cell_type": "code",
      "execution_count": null,
      "metadata": {
        "colab": {
          "base_uri": "https://localhost:8080/",
          "height": 87
        },
        "id": "_Yddu-bHrlQS",
        "outputId": "f1c41265-13dc-4dbe-b78a-3827a8e7776a"
      },
      "outputs": [
        {
          "output_type": "stream",
          "name": "stdout",
          "text": [
            "150\n",
            "8\n",
            "MUHAMMAD\n"
          ]
        },
        {
          "output_type": "execute_result",
          "data": {
            "text/plain": [
              "'Muhammad Ibrahim'"
            ],
            "application/vnd.google.colaboratory.intrinsic+json": {
              "type": "string"
            }
          },
          "metadata": {},
          "execution_count": 2
        }
      ],
      "source": [
        "# sequential statements\n",
        "\n",
        "# Arithenetic operation\n",
        "x = 100\n",
        "y = 50\n",
        "total = x+y\n",
        "print(total)\n",
        "\n",
        "# string operation and built in functions\n",
        "name = 'Muhammad'\n",
        "length = len(name)\n",
        "print(length)\n",
        "\n",
        "upper = name.upper() # changes name to upper case\n",
        "print(upper)\n",
        "\n",
        "name1 = 'Muhammad '\n",
        "name2 = 'Ibrahim'\n",
        "full_name = name1 + name2 # concatination, used with the '+' sign. it is used to join\n",
        "full_name\n"
      ]
    },
    {
      "cell_type": "code",
      "source": [
        "firstchar = full_name[0:8]\n",
        "print(firstchar)\n",
        "\n",
        "firs4tchar = full_name[0:4] # extracts letters till 4\n",
        "print(firs4tchar)\n",
        "\n",
        "lastchar = full_name[-1] # prints the last character\n",
        "print(lastchar)\n",
        "\n",
        "last_3char = full_name[-3:] # prints the last 3character\n",
        "print(last_3char)"
      ],
      "metadata": {
        "colab": {
          "base_uri": "https://localhost:8080/"
        },
        "id": "3ruezQFjwo8r",
        "outputId": "c77c3205-fb36-4e6c-fb75-5ab6aca59c84"
      },
      "execution_count": null,
      "outputs": [
        {
          "output_type": "stream",
          "name": "stdout",
          "text": [
            "Muhammad\n",
            "Muha\n",
            "m\n",
            "him\n"
          ]
        }
      ]
    },
    {
      "cell_type": "code",
      "source": [
        "# Conditional statements\n",
        "#if test expression\n",
        "\n",
        "a = 10\n",
        "\n",
        "if a > 7: # colon is used to specify a condition\n",
        "  print('The value is greater than seven')\n"
      ],
      "metadata": {
        "colab": {
          "base_uri": "https://localhost:8080/"
        },
        "id": "JBUwksB5HgRt",
        "outputId": "936103e6-6016-457c-8e16-a976a9e2e262"
      },
      "execution_count": null,
      "outputs": [
        {
          "output_type": "stream",
          "name": "stdout",
          "text": [
            "The value is greater than seven\n"
          ]
        }
      ]
    },
    {
      "cell_type": "code",
      "source": [],
      "metadata": {
        "id": "P2xqUSA_I2vT"
      },
      "execution_count": null,
      "outputs": []
    },
    {
      "cell_type": "code",
      "source": [
        "# else statement\n",
        "b = 28\n",
        "\n",
        "if b > 20:\n",
        "  print('The value is greater than twenty')\n",
        "else:\n",
        "  print('The vaue is  less than twenty')\n"
      ],
      "metadata": {
        "colab": {
          "base_uri": "https://localhost:8080/"
        },
        "id": "PtrTFGNSJB5T",
        "outputId": "3f1005e8-4ec2-4634-91d7-d4ffd7aef63f"
      },
      "execution_count": null,
      "outputs": [
        {
          "output_type": "stream",
          "name": "stdout",
          "text": [
            "The value is greater than twenty\n"
          ]
        }
      ]
    },
    {
      "cell_type": "code",
      "source": [
        "# pass statement\n",
        "if a == True:\n",
        "  pass\n",
        "else:\n",
        "  print('This is a false block')"
      ],
      "metadata": {
        "colab": {
          "base_uri": "https://localhost:8080/"
        },
        "id": "MeqKPqaFJrJP",
        "outputId": "3d3aa458-072b-4d91-b93a-7087de344474"
      },
      "execution_count": null,
      "outputs": [
        {
          "output_type": "stream",
          "name": "stdout",
          "text": [
            "This is a false block\n"
          ]
        }
      ]
    },
    {
      "cell_type": "code",
      "source": [
        "# shorthand conditional statement\n",
        "c = 30\n",
        "print('The value is greater than 30') if c > 30  else c == print('The value is less than 30')"
      ],
      "metadata": {
        "colab": {
          "base_uri": "https://localhost:8080/"
        },
        "id": "5z_DzXsKLZsc",
        "outputId": "585764e1-08df-4b60-a128-3c2177dbe5c4"
      },
      "execution_count": null,
      "outputs": [
        {
          "output_type": "stream",
          "name": "stdout",
          "text": [
            "The value is less than 30\n"
          ]
        }
      ]
    },
    {
      "cell_type": "code",
      "source": [
        "x = 10\n",
        "\n",
        "if x > 0:\n",
        "  print('Positive')\n",
        "else:\n",
        "  print('negative')"
      ],
      "metadata": {
        "colab": {
          "base_uri": "https://localhost:8080/"
        },
        "id": "e3KjSG_qMoeu",
        "outputId": "8e789619-2928-4591-a1a8-a7ecde191274"
      },
      "execution_count": null,
      "outputs": [
        {
          "output_type": "stream",
          "name": "stdout",
          "text": [
            "Positive\n"
          ]
        }
      ]
    },
    {
      "cell_type": "code",
      "source": [
        "# elif\n",
        "c = 30\n",
        "if c > 30:\n",
        "  print('The value is greater than 30') \n",
        "elif c == 30:\n",
        "  print(' The value is equal to 30')  \n",
        "else:\n",
        "  print('The value is less than 30')\n",
        "\n",
        "d = 11\n",
        "if d % 2 == 0:\n",
        "  print('This number is even')\n",
        "elif d % 2 == 1:\n",
        "  print('This number is odd')\n",
        "else:\n",
        "  print('This number is 0')"
      ],
      "metadata": {
        "colab": {
          "base_uri": "https://localhost:8080/"
        },
        "id": "KX9weOEHNENv",
        "outputId": "3f33c006-d8bc-4b0c-88fd-4e830e375288"
      },
      "execution_count": null,
      "outputs": [
        {
          "output_type": "stream",
          "name": "stdout",
          "text": [
            " The value is equal to 30\n",
            "This number is odd\n"
          ]
        }
      ]
    },
    {
      "cell_type": "code",
      "source": [
        "# Multiple if\n",
        "a = 100\n",
        "if a > 0:\n",
        "  print('This number is positive ')\n",
        "  if a % 2 == 0:\n",
        "    print('This number is even too..')\n",
        "  if a % 2 == 1:\n",
        "    print('This number is odd too..')\n",
        "elif a < 0:\n",
        "  print('the number is zero')\n",
        "else :\n",
        "  print('This number is negative')"
      ],
      "metadata": {
        "colab": {
          "base_uri": "https://localhost:8080/"
        },
        "id": "-asfoc_0PAuO",
        "outputId": "fca98c57-2c93-43bb-ca61-02aa94d84a34"
      },
      "execution_count": null,
      "outputs": [
        {
          "output_type": "stream",
          "name": "stdout",
          "text": [
            "This number is positive \n",
            "This number is even too..\n"
          ]
        }
      ]
    },
    {
      "cell_type": "code",
      "source": [
        "# and/or operators\n",
        "test1 = 10\n",
        "test2 = 8\n",
        "if test1 > 9 and test2 > 9:\n",
        "  print('outstanding')\n",
        "elif test1 <=5 and test2 < 5:\n",
        "  print('need improvement')\n",
        "else: \n",
        "  print('Very good')\n",
        "\n"
      ],
      "metadata": {
        "colab": {
          "base_uri": "https://localhost:8080/"
        },
        "id": "4CIZCAXuTbgS",
        "outputId": "ec286f5c-a645-4664-8def-d8304b61491a"
      },
      "execution_count": null,
      "outputs": [
        {
          "output_type": "stream",
          "name": "stdout",
          "text": [
            "Very good\n"
          ]
        }
      ]
    },
    {
      "cell_type": "code",
      "source": [
        "a = 100\n",
        "\n",
        "if a > 0 and a % 2 == 0:\n",
        "  print('The number is positive and even')\n",
        "elif a > 0 and a % 2 == 1:\n",
        "  print('The number is positive and odd')\n",
        "elif a < 0 and a % 2 == 0:\n",
        "  print('The number is negative and even')\n",
        "elif a < 0 and a % 2 == 1:\n",
        "  print('The number is negative and odd')\n",
        "else:\n",
        "  print('The number is 0')"
      ],
      "metadata": {
        "colab": {
          "base_uri": "https://localhost:8080/"
        },
        "id": "rrv_u2ofWzCG",
        "outputId": "df159dd6-c330-42bb-c357-015f655867f3"
      },
      "execution_count": null,
      "outputs": [
        {
          "output_type": "stream",
          "name": "stdout",
          "text": [
            "The number is positive and even\n"
          ]
        }
      ]
    },
    {
      "cell_type": "code",
      "source": [
        "test = 10\n",
        "test2 = 5\n",
        "\n",
        "if test1 >= 5 or test2 >= 5:\n",
        "  print('Eligible for Final Test')\n",
        "else:\n",
        "  print('Better Luck Next Time')"
      ],
      "metadata": {
        "colab": {
          "base_uri": "https://localhost:8080/"
        },
        "id": "DT0f0846YI64",
        "outputId": "0f4b9e57-f8f5-4f45-c876-6ae9f7cdd27e"
      },
      "execution_count": null,
      "outputs": [
        {
          "output_type": "stream",
          "name": "stdout",
          "text": [
            "Eligible for Final Test\n"
          ]
        }
      ]
    },
    {
      "cell_type": "code",
      "source": [
        "# Multiple terinary operator\n",
        "a = 100\n",
        "b = 20\n",
        "c = 200\n",
        "\n",
        "max = a if a > b and a > c else b if b > a and b > c else c\n",
        "print(max)"
      ],
      "metadata": {
        "colab": {
          "base_uri": "https://localhost:8080/"
        },
        "id": "tbZb_iRgZLz5",
        "outputId": "782c18e0-be8a-45c7-9b9a-2bd20be7b7a5"
      },
      "execution_count": null,
      "outputs": [
        {
          "output_type": "stream",
          "name": "stdout",
          "text": [
            "200\n"
          ]
        }
      ]
    },
    {
      "cell_type": "code",
      "source": [
        "# Conditional statements in list\n",
        "fruits = ['Apple', 'Mango', 'Orange']\n",
        "\n",
        "if 'Apple' in fruits:\n",
        "  print('Apple is in the lsit')\n",
        "else:\n",
        "  print('Apple is not in the list')\n"
      ],
      "metadata": {
        "colab": {
          "base_uri": "https://localhost:8080/"
        },
        "id": "B1AbIQe8a0bW",
        "outputId": "b01924eb-f562-4a3c-e6a4-94f66d7e3d64"
      },
      "execution_count": null,
      "outputs": [
        {
          "output_type": "stream",
          "name": "stdout",
          "text": [
            "Apple is in the lsit\n"
          ]
        }
      ]
    },
    {
      "cell_type": "code",
      "source": [
        "if 'Berry' not in fruits:\n",
        "  fruits.insert(3, \"Berry\")\n",
        "  print('fruit inserted')\n",
        "else:\n",
        "  pass\n",
        "print(fruits)"
      ],
      "metadata": {
        "colab": {
          "base_uri": "https://localhost:8080/"
        },
        "id": "MFL-xAx_byZz",
        "outputId": "3945c4d7-0685-4200-913f-7b94832c31a0"
      },
      "execution_count": null,
      "outputs": [
        {
          "output_type": "stream",
          "name": "stdout",
          "text": [
            "fruit inserted\n",
            "['Apple', 'Mango', 'Orange', 'Berry']\n"
          ]
        }
      ]
    },
    {
      "cell_type": "code",
      "source": [
        "if 'Berry' in fruits:\n",
        "  fruits.remove('Berry')\n",
        "  print('fruit removed')\n",
        "else:\n",
        "  pass"
      ],
      "metadata": {
        "colab": {
          "base_uri": "https://localhost:8080/"
        },
        "id": "CR7MSY84c6Vw",
        "outputId": "53bc0d15-f0b1-4199-c35a-bde3a8a47480"
      },
      "execution_count": null,
      "outputs": [
        {
          "output_type": "stream",
          "name": "stdout",
          "text": [
            "fruit removed\n"
          ]
        }
      ]
    }
  ]
}