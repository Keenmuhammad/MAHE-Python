{
  "nbformat": 4,
  "nbformat_minor": 0,
  "metadata": {
    "colab": {
      "provenance": []
    },
    "kernelspec": {
      "name": "python3",
      "display_name": "Python 3"
    },
    "language_info": {
      "name": "python"
    }
  },
  "cells": [
    {
      "cell_type": "markdown",
      "source": [
        "Dot plot"
      ],
      "metadata": {
        "id": "mMniJIGCXMi2"
      }
    },
    {
      "cell_type": "code",
      "execution_count": 5,
      "metadata": {
        "id": "diRSSjo-Iyxv",
        "colab": {
          "base_uri": "https://localhost:8080/",
          "height": 296
        },
        "outputId": "a86dedaa-50ef-4f0b-e2ed-bb266f5ede7e"
      },
      "outputs": [
        {
          "output_type": "execute_result",
          "data": {
            "text/plain": [
              "Text(0, 0.5, 'No. of Hours')"
            ]
          },
          "metadata": {},
          "execution_count": 5
        },
        {
          "output_type": "display_data",
          "data": {
            "text/plain": [
              "<Figure size 432x288 with 1 Axes>"
            ],
            "image/png": "[encoded data removed]"
          },
          "metadata": {
            "needs_background": "light"
          }
        }
      ],
      "source": [
        "import matplotlib.pyplot as plt\n",
        "# Matplotlib is open source library supports visualizaton \n",
        "# Created by John D.Hunter. \n",
        "\n",
        "# pyplot is a submodule comes under matplotlib\n",
        "y= [4,7,3,6,1,8,9,2,4,7,4,3]\n",
        "x= ['Sl','S2', 'S3','S4','S5','S6','S7','S8','S9','S10','S11','S12']\n",
        "\n",
        "plt.plot(x, y, 'o')# o here is a marker and can be customized ie d for diamond and s for square\n",
        "plt.xlabel('Students')\n",
        "plt.ylabel('No. of Hours')"
      ]
    },
    {
      "cell_type": "code",
      "source": [
        "import matplotlib.pyplot as plt\n",
        "# Matplotlib is open source library supports visualizaton \n",
        "# Created by John D.Hunter. \n",
        "\n",
        "# pyplot is a submodule comes under matplotlib\n",
        "y= [4,7,3,6,1,8,9,2,4,7,4,3]\n",
        "x= ['Sl','S2', 'S3','S4','S5','S6','S7','S8','S9','S10','S11','S12']\n",
        "\n",
        "plt.plot(x, y, 'r*') # r here represents color and ca be varied\n",
        "plt.xlabel('Students')\n",
        "plt.ylabel('No. of Hours')"
      ],
      "metadata": {
        "colab": {
          "base_uri": "https://localhost:8080/",
          "height": 296
        },
        "id": "fVrklwv0W-bX",
        "outputId": "05b8b608-fb23-4e81-ac48-2e98e43dd5c3"
      },
      "execution_count": 7,
      "outputs": [
        {
          "output_type": "execute_result",
          "data": {
            "text/plain": [
              "Text(0, 0.5, 'No. of Hours')"
            ]
          },
          "metadata": {},
          "execution_count": 7
        },
        {
          "output_type": "display_data",
          "data": {
            "text/plain": [
              "<Figure size 432x288 with 1 Axes>"
            ],
            "image/png": "[encoded data removed]"
          },
          "metadata": {
            "needs_background": "light"
          }
        }
      ]
    },
    {
      "cell_type": "code",
      "source": [
        "y= [4,7,3,6,1,8,9,2,4,7,4,3]\n",
        "x= ['Sl','S2', 'S3','S4','S5','S6','S7','S8','S9','S10','S11','S12']\n",
        "\n",
        "plt.plot(x, y, 'gs') # r here represents color and ca be varied\n",
        "# puts grid lines\n",
        "plt.grid()\n",
        "\n",
        "plt.xlabel('Students')\n",
        "plt.ylabel('No. of Hours')"
      ],
      "metadata": {
        "colab": {
          "base_uri": "https://localhost:8080/",
          "height": 296
        },
        "id": "CDwKxKHmXQoV",
        "outputId": "c88aefe2-f6bb-4914-bf1d-7c279d30960f"
      },
      "execution_count": 10,
      "outputs": [
        {
          "output_type": "execute_result",
          "data": {
            "text/plain": [
              "Text(0, 0.5, 'No. of Hours')"
            ]
          },
          "metadata": {},
          "execution_count": 10
        },
        {
          "output_type": "display_data",
          "data": {
            "text/plain": [
              "<Figure size 432x288 with 1 Axes>"
            ],
            "image/png": "[encoded data removed]"
          },
          "metadata": {
            "needs_background": "light"
          }
        }
      ]
    },
    {
      "cell_type": "code",
      "source": [
        "y1= [4,7,3,6,1,8,9,2,4,7,4,3]\n",
        "y2= [7,7,8,10,15,6,4,8,8,12,11,11]\n",
        "x= ['Sl','S2', 'S3','S4','S5','S6','S7','S8','S9','S10','S11','S12']\n",
        "\n",
        "plt.plot(x, y1 , 'o')\n",
        "\n",
        "plt.plot(x,y2,'r*')\n",
        "\n",
        "# axis labeling\n",
        "plt.xlabel('Student')\n",
        "plt.ylabel('No.of Hours')"
      ],
      "metadata": {
        "colab": {
          "base_uri": "https://localhost:8080/",
          "height": 296
        },
        "id": "5hOa8CPNYj00",
        "outputId": "f49094ca-a4a6-4d64-a9cd-1bda8cb21a4c"
      },
      "execution_count": 11,
      "outputs": [
        {
          "output_type": "execute_result",
          "data": {
            "text/plain": [
              "Text(0, 0.5, 'No.of Hours')"
            ]
          },
          "metadata": {},
          "execution_count": 11
        },
        {
          "output_type": "display_data",
          "data": {
            "text/plain": [
              "<Figure size 432x288 with 1 Axes>"
            ],
            "image/png": "[encoded data removed]"
          },
          "metadata": {
            "needs_background": "light"
          }
        }
      ]
    },
    {
      "cell_type": "code",
      "source": [
        "y1= [4,7,3,6,1,8,9,2,4,7,4,3]\n",
        "y2= [7,7,8,10,15,6,4,8,8,12,11,11]\n",
        "x= ['Sl','S2', 'S3','S4','S5','S6','S7','S8','S9','S10','S11','S12']\n",
        "\n",
        "plt.plot(x, y1 , 'o')\n",
        "\n",
        "plt.plot(x,y2,'r*')\n",
        "\n",
        "plt.title('Spending Time on Social Media Weekdays Vs Weekends')\n",
        "plt.legend(['WeekDay', 'WeekEnd'])\n",
        "\n",
        "# axis labeling\n",
        "plt.xlabel('Student')\n",
        "plt.ylabel('No.of Hours')"
      ],
      "metadata": {
        "colab": {
          "base_uri": "https://localhost:8080/",
          "height": 312
        },
        "id": "PfwSYe_mZsda",
        "outputId": "8293540f-6ec7-4a65-b04f-ea24c23c7306"
      },
      "execution_count": 13,
      "outputs": [
        {
          "output_type": "execute_result",
          "data": {
            "text/plain": [
              "Text(0, 0.5, 'No.of Hours')"
            ]
          },
          "metadata": {},
          "execution_count": 13
        },
        {
          "output_type": "display_data",
          "data": {
            "text/plain": [
              "<Figure size 432x288 with 1 Axes>"
            ],
            "image/png": "[encoded data removed]"
          },
          "metadata": {
            "needs_background": "light"
          }
        }
      ]
    },
    {
      "cell_type": "code",
      "source": [
        "# pyplot is a submodule comes under matplotlib\n",
        "y1= [4,7,3,6,1,8,9,2,4,7,4,3]\n",
        "y2= [7,7,8,10,15,6,4,8,8,12,11,11]\n",
        "x= ['Sl','S2', 'S3','S4','S5','S6','S7','S8','S9','S10','S11','S12']\n",
        "plt.plot(x, y1 , 'o')\n",
        "\n",
        "plt.plot(x,y2,'r*')\n",
        "\n",
        "plt.title(\"Spending Time in Social Media - WeekDay Vs. WeekEnd\")\n",
        "plt.legend(['WeekDay','WeekEnd'])\n",
        "\n",
        "# axis labeling\n",
        "plt.xlabel('Student')\n",
        "plt.ylabel('No.of Hours')\n",
        "\n",
        "# adding grid \n",
        "plt.grid(alpha=1, linestyle='--',color='#0000') # alpaha minimum 0 maximum 1"
      ],
      "metadata": {
        "colab": {
          "base_uri": "https://localhost:8080/",
          "height": 295
        },
        "id": "kP1Cx6fgaw9C",
        "outputId": "b1557019-84c2-4e85-d04a-76933fd8646c"
      },
      "execution_count": 19,
      "outputs": [
        {
          "output_type": "display_data",
          "data": {
            "text/plain": [
              "<Figure size 432x288 with 1 Axes>"
            ],
            "image/png": "[encoded data removed]"
          },
          "metadata": {
            "needs_background": "light"
          }
        }
      ]
    },
    {
      "cell_type": "code",
      "source": [
        "data  = [4,7,3,6,1,8,9,2,4,7,4,3]\n",
        "pos = [] \n",
        "keys = {} # this dict will help to keep track ...\n",
        "\n",
        "# this loop will give us a list of frequencies to each number\n",
        "for moh in data: \n",
        "   if moh not in keys:\n",
        "      keys[moh] = 1\n",
        "      pos.append(1)\n",
        "   else:\n",
        "      keys[moh] += 1\n",
        "      pos.append(keys[moh])\n",
        "\n",
        "\n",
        "\n",
        "\n",
        "print(pos)\n",
        "\n",
        "plt.plot(data, pos,'o')\n",
        "plt.xlabel('No. of Hours')\n",
        "plt.ylabel('No. of Students')\n",
        "plt.show()"
      ],
      "metadata": {
        "colab": {
          "base_uri": "https://localhost:8080/",
          "height": 296
        },
        "id": "a0nkGUAUb8a2",
        "outputId": "f1c063ce-8843-48cc-aecc-0a4600427557"
      },
      "execution_count": 27,
      "outputs": [
        {
          "output_type": "stream",
          "name": "stdout",
          "text": [
            "[1, 1, 1, 1, 1, 1, 1, 1, 2, 2, 3, 2]\n"
          ]
        },
        {
          "output_type": "display_data",
          "data": {
            "text/plain": [
              "<Figure size 432x288 with 1 Axes>"
            ],
            "image/png": "[encoded data removed]"
          },
          "metadata": {
            "needs_background": "light"
          }
        }
      ]
    },
    {
      "cell_type": "code",
      "source": [
        "data  = [4,7,3,6,1,8,9,2,4,7,4,3]\n",
        "pos = [] \n",
        "keys = {} \n",
        "\n",
        "for moh in data:\n",
        "  if moh not in keys:\n",
        "    keys[moh] = 1\n",
        "    pos.append(1)\n",
        "  else:\n",
        "    keys[moh] += 1\n",
        "    pos.append(keys[moh])\n",
        "\n",
        "print(pos)\n",
        "\n",
        "plt.plot(data, pos, 'ro')\n",
        "plt.xlabel('No. of Hours')\n",
        "plt.ylabel('Students')\n"
      ],
      "metadata": {
        "colab": {
          "base_uri": "https://localhost:8080/",
          "height": 314
        },
        "id": "yFMiS85If_ut",
        "outputId": "50809311-69e3-4c90-f716-9f647f7b3dfb"
      },
      "execution_count": 31,
      "outputs": [
        {
          "output_type": "stream",
          "name": "stdout",
          "text": [
            "[1, 1, 1, 1, 1, 1, 1, 1, 2, 2, 3, 2]\n"
          ]
        },
        {
          "output_type": "execute_result",
          "data": {
            "text/plain": [
              "Text(0, 0.5, 'Students')"
            ]
          },
          "metadata": {},
          "execution_count": 31
        },
        {
          "output_type": "display_data",
          "data": {
            "text/plain": [
              "<Figure size 432x288 with 1 Axes>"
            ],
            "image/png": "[encoded data removed]"
          },
          "metadata": {
            "needs_background": "light"
          }
        }
      ]
    },
    {
      "cell_type": "code",
      "metadata": {
        "id": "xrBZpzrjGyGf",
        "colab": {
          "base_uri": "https://localhost:8080/"
        },
        "outputId": "ea2e9b79-20bb-43dd-addd-8f2d52ad810e"
      },
      "source": [
        "# mount google drive \n",
        "\n",
        "from google.colab import drive\n",
        "drive.mount('/content/drive') "
      ],
      "execution_count": 32,
      "outputs": [
        {
          "output_type": "stream",
          "name": "stdout",
          "text": [
            "Mounted at /content/drive\n"
          ]
        }
      ]
    },
    {
      "cell_type": "code",
      "source": [
        "import pandas as pd\n",
        "import numpy as np\n",
        "import os \n",
        "import matplotlib.pyplot as plt"
      ],
      "metadata": {
        "id": "vnNppIrcpOtv"
      },
      "execution_count": 33,
      "outputs": []
    },
    {
      "cell_type": "code",
      "source": [
        "os.chdir('/content')"
      ],
      "metadata": {
        "id": "Fts0GQW4pWOk"
      },
      "execution_count": 34,
      "outputs": []
    },
    {
      "cell_type": "code",
      "source": [
        "df=pd.read_csv('socialmedia.csv')\n",
        "df"
      ],
      "metadata": {
        "colab": {
          "base_uri": "https://localhost:8080/",
          "height": 426
        },
        "id": "5yp9Iwevpnl7",
        "outputId": "423e64fc-c212-4e36-fac4-983ea1264bd1"
      },
      "execution_count": 35,
      "outputs": [
        {
          "output_type": "execute_result",
          "data": {
            "text/plain": [
              "   Student  WeekDay  Weekend\n",
              "0       S1        4        7\n",
              "1       S2        7        7\n",
              "2       S3        3        8\n",
              "3       S4        6       10\n",
              "4       S5        1       15\n",
              "5       S6        8        6\n",
              "6       S7        9        4\n",
              "7       S8        2        8\n",
              "8       S9        4        8\n",
              "9      S10        7       12\n",
              "10     S11        4       11\n",
              "11     S12        3       11"
            ],
            "text/html": [
              "\n",
              "  <div id=\"df-1f57edbe-6953-48c9-ba4b-b0548f0b4fad\">\n",
              "    <div class=\"colab-df-container\">\n",
              "      <div>\n",
              "<style scoped>\n",
              "    .dataframe tbody tr th:only-of-type {\n",
              "        vertical-align: middle;\n",
              "    }\n",
              "\n",
              "    .dataframe tbody tr th {\n",
              "        vertical-align: top;\n",
              "    }\n",
              "\n",
              "    .dataframe thead th {\n",
              "        text-align: right;\n",
              "    }\n",
              "</style>\n",
              "<table border=\"1\" class=\"dataframe\">\n",
              "  <thead>\n",
              "    <tr style=\"text-align: right;\">\n",
              "      <th></th>\n",
              "      <th>Student</th>\n",
              "      <th>WeekDay</th>\n",
              "      <th>Weekend</th>\n",
              "    </tr>\n",
              "  </thead>\n",
              "  <tbody>\n",
              "    <tr>\n",
              "      <th>0</th>\n",
              "      <td>S1</td>\n",
              "      <td>4</td>\n",
              "      <td>7</td>\n",
              "    </tr>\n",
              "    <tr>\n",
              "      <th>1</th>\n",
              "      <td>S2</td>\n",
              "      <td>7</td>\n",
              "      <td>7</td>\n",
              "    </tr>\n",
              "    <tr>\n",
              "      <th>2</th>\n",
              "      <td>S3</td>\n",
              "      <td>3</td>\n",
              "      <td>8</td>\n",
              "    </tr>\n",
              "    <tr>\n",
              "      <th>3</th>\n",
              "      <td>S4</td>\n",
              "      <td>6</td>\n",
              "      <td>10</td>\n",
              "    </tr>\n",
              "    <tr>\n",
              "      <th>4</th>\n",
              "      <td>S5</td>\n",
              "      <td>1</td>\n",
              "      <td>15</td>\n",
              "    </tr>\n",
              "    <tr>\n",
              "      <th>5</th>\n",
              "      <td>S6</td>\n",
              "      <td>8</td>\n",
              "      <td>6</td>\n",
              "    </tr>\n",
              "    <tr>\n",
              "      <th>6</th>\n",
              "      <td>S7</td>\n",
              "      <td>9</td>\n",
              "      <td>4</td>\n",
              "    </tr>\n",
              "    <tr>\n",
              "      <th>7</th>\n",
              "      <td>S8</td>\n",
              "      <td>2</td>\n",
              "      <td>8</td>\n",
              "    </tr>\n",
              "    <tr>\n",
              "      <th>8</th>\n",
              "      <td>S9</td>\n",
              "      <td>4</td>\n",
              "      <td>8</td>\n",
              "    </tr>\n",
              "    <tr>\n",
              "      <th>9</th>\n",
              "      <td>S10</td>\n",
              "      <td>7</td>\n",
              "      <td>12</td>\n",
              "    </tr>\n",
              "    <tr>\n",
              "      <th>10</th>\n",
              "      <td>S11</td>\n",
              "      <td>4</td>\n",
              "      <td>11</td>\n",
              "    </tr>\n",
              "    <tr>\n",
              "      <th>11</th>\n",
              "      <td>S12</td>\n",
              "      <td>3</td>\n",
              "      <td>11</td>\n",
              "    </tr>\n",
              "  </tbody>\n",
              "</table>\n",
              "</div>\n",
              "      <button class=\"colab-df-convert\" onclick=\"convertToInteractive('df-1f57edbe-6953-48c9-ba4b-b0548f0b4fad')\"\n",
              "              title=\"Convert this dataframe to an interactive table.\"\n",
              "              style=\"display:none;\">\n",
              "        \n",
              "  <svg xmlns=\"http://www.w3.org/2000/svg\" height=\"24px\"viewBox=\"0 0 24 24\"\n",
              "       width=\"24px\">\n",
              "    <path d=\"M0 0h24v24H0V0z\" fill=\"none\"/>\n",
              "    <path d=\"M18.56 5.44l.94 2.06.94-2.06 2.06-.94-2.06-.94-.94-2.06-.94 2.06-2.06.94zm-11 1L8.5 8.5l.94-2.06 2.06-.94-2.06-.94L8.5 2.5l-.94 2.06-2.06.94zm10 10l.94 2.06.94-2.06 2.06-.94-2.06-.94-.94-2.06-.94 2.06-2.06.94z\"/><path d=\"M17.41 7.96l-1.37-1.37c-.4-.4-.92-.59-1.43-.59-.52 0-1.04.2-1.43.59L10.3 9.45l-7.72 7.72c-.78.78-.78 2.05 0 2.83L4 21.41c.39.39.9.59 1.41.59.51 0 1.02-.2 1.41-.59l7.78-7.78 2.81-2.81c.8-.78.8-2.07 0-2.86zM5.41 20L4 18.59l7.72-7.72 1.47 1.35L5.41 20z\"/>\n",
              "  </svg>\n",
              "      </button>\n",
              "      \n",
              "  <style>\n",
              "    .colab-df-container {\n",
              "      display:flex;\n",
              "      flex-wrap:wrap;\n",
              "      gap: 12px;\n",
              "    }\n",
              "\n",
              "    .colab-df-convert {\n",
              "      background-color: #E8F0FE;\n",
              "      border: none;\n",
              "      border-radius: 50%;\n",
              "      cursor: pointer;\n",
              "      display: none;\n",
              "      fill: #1967D2;\n",
              "      height: 32px;\n",
              "      padding: 0 0 0 0;\n",
              "      width: 32px;\n",
              "    }\n",
              "\n",
              "    .colab-df-convert:hover {\n",
              "      background-color: #E2EBFA;\n",
              "      box-shadow: 0px 1px 2px rgba(60, 64, 67, 0.3), 0px 1px 3px 1px rgba(60, 64, 67, 0.15);\n",
              "      fill: #174EA6;\n",
              "    }\n",
              "\n",
              "    [theme=dark] .colab-df-convert {\n",
              "      background-color: #3B4455;\n",
              "      fill: #D2E3FC;\n",
              "    }\n",
              "\n",
              "    [theme=dark] .colab-df-convert:hover {\n",
              "      background-color: #434B5C;\n",
              "      box-shadow: 0px 1px 3px 1px rgba(0, 0, 0, 0.15);\n",
              "      filter: drop-shadow(0px 1px 2px rgba(0, 0, 0, 0.3));\n",
              "      fill: #FFFFFF;\n",
              "    }\n",
              "  </style>\n",
              "\n",
              "      <script>\n",
              "        const buttonEl =\n",
              "          document.querySelector('#df-1f57edbe-6953-48c9-ba4b-b0548f0b4fad button.colab-df-convert');\n",
              "        buttonEl.style.display =\n",
              "          google.colab.kernel.accessAllowed ? 'block' : 'none';\n",
              "\n",
              "        async function convertToInteractive(key) {\n",
              "          const element = document.querySelector('#df-1f57edbe-6953-48c9-ba4b-b0548f0b4fad');\n",
              "          const dataTable =\n",
              "            await google.colab.kernel.invokeFunction('convertToInteractive',\n",
              "                                                     [key], {});\n",
              "          if (!dataTable) return;\n",
              "\n",
              "          const docLinkHtml = 'Like what you see? Visit the ' +\n",
              "            '<a target=\"_blank\" href=https://colab.research.google.com/notebooks/data_table.ipynb>data table notebook</a>'\n",
              "            + ' to learn more about interactive tables.';\n",
              "          element.innerHTML = '';\n",
              "          dataTable['output_type'] = 'display_data';\n",
              "          await google.colab.output.renderOutput(dataTable, element);\n",
              "          const docLink = document.createElement('div');\n",
              "          docLink.innerHTML = docLinkHtml;\n",
              "          element.appendChild(docLink);\n",
              "        }\n",
              "      </script>\n",
              "    </div>\n",
              "  </div>\n",
              "  "
            ]
          },
          "metadata": {},
          "execution_count": 35
        }
      ]
    },
    {
      "cell_type": "code",
      "source": [
        "df.columns"
      ],
      "metadata": {
        "colab": {
          "base_uri": "https://localhost:8080/"
        },
        "id": "kYXHJpOKqXWc",
        "outputId": "2541f621-7405-45bc-fc85-5421048f7886"
      },
      "execution_count": 36,
      "outputs": [
        {
          "output_type": "execute_result",
          "data": {
            "text/plain": [
              "Index(['Student', 'WeekDay', 'Weekend'], dtype='object')"
            ]
          },
          "metadata": {},
          "execution_count": 36
        }
      ]
    },
    {
      "cell_type": "code",
      "source": [
        "# To return a Panda series \n",
        "student = df['Student']\n",
        "weekday = df['WeekDay']\n",
        "weekend = df['Weekend']"
      ],
      "metadata": {
        "id": "nUmuJIuQqmLv"
      },
      "execution_count": 37,
      "outputs": []
    },
    {
      "cell_type": "code",
      "source": [
        "plt.plot(student, weekday, 'rd' )"
      ],
      "metadata": {
        "colab": {
          "base_uri": "https://localhost:8080/",
          "height": 282
        },
        "id": "xon98r9IteIP",
        "outputId": "e39316d3-7e72-4f5d-f360-067a46e81e48"
      },
      "execution_count": 38,
      "outputs": [
        {
          "output_type": "execute_result",
          "data": {
            "text/plain": [
              "[<matplotlib.lines.Line2D at 0x7f5fa0886f70>]"
            ]
          },
          "metadata": {},
          "execution_count": 38
        },
        {
          "output_type": "display_data",
          "data": {
            "text/plain": [
              "<Figure size 432x288 with 1 Axes>"
            ],
            "image/png": "[encoded data removed]"
          },
          "metadata": {
            "needs_background": "light"
          }
        }
      ]
    },
    {
      "cell_type": "code",
      "source": [
        "plt.plot(student, weekday , 'o')\n",
        "\n",
        "plt.plot(student,weekend, 'rs')\n",
        "\n",
        "# To add Title \n",
        "plt.title(\"Spending Time in Social Media - WeekDay Vs. WeekEnd\")\n",
        "\n",
        "# To add Legend\n",
        "plt.legend(['WeekDay','WeekEnd'])\n",
        "\n",
        "# axis labeling\n",
        "plt.xlabel('Student')\n",
        "plt.ylabel('No.of Hours')\n",
        "\n",
        "# adding grid \n",
        "plt.grid(alpha=0.4, linestyle='--',color='#0000')"
      ],
      "metadata": {
        "colab": {
          "base_uri": "https://localhost:8080/",
          "height": 295
        },
        "id": "o_lFT37wvYjT",
        "outputId": "f0e07366-bc73-4e19-f6ed-d2e9b8e3d691"
      },
      "execution_count": 43,
      "outputs": [
        {
          "output_type": "display_data",
          "data": {
            "text/plain": [
              "<Figure size 432x288 with 1 Axes>"
            ],
            "image/png": "[encoded data removed]"
          },
          "metadata": {
            "needs_background": "light"
          }
        }
      ]
    }
  ]
}