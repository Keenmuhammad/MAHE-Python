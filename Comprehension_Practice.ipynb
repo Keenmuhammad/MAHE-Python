{
  "nbformat": 4,
  "nbformat_minor": 0,
  "metadata": {
    "colab": {
      "provenance": []
    },
    "kernelspec": {
      "name": "python3",
      "display_name": "Python 3"
    },
    "language_info": {
      "name": "python"
    }
  },
  "cells": [
    {
      "cell_type": "code",
      "execution_count": null,
      "metadata": {
        "id": "O-dM0n67a1Ku"
      },
      "outputs": [],
      "source": [
        "c = [2, 3, 4, 5]"
      ]
    },
    {
      "cell_type": "code",
      "source": [
        "# new list that squares everything in c\n",
        "# s = []\n",
        "\n",
        "# for num in c:\n",
        "#   s.append(num**2)\n",
        "# print(s)\n",
        "\n",
        "# method 2\n",
        "[x**2 for x in c]"
      ],
      "metadata": {
        "colab": {
          "base_uri": "https://localhost:8080/"
        },
        "id": "vC8utSTycIuV",
        "outputId": "a711709f-8dc6-4977-cad6-a3030be9d9a6"
      },
      "execution_count": null,
      "outputs": [
        {
          "output_type": "execute_result",
          "data": {
            "text/plain": [
              "[4, 9, 16, 25]"
            ]
          },
          "metadata": {},
          "execution_count": 4
        }
      ]
    },
    {
      "cell_type": "code",
      "source": [
        "Python_Structure = ['List', 'Strings','Dict','Boolean']\n",
        "range(50)\n",
        "Data_Science = 'Data is the new oil'\n",
        "price = 'Rs.20,000'\n",
        "income = 50000"
      ],
      "metadata": {
        "id": "LWrodUK4c9SV"
      },
      "execution_count": null,
      "outputs": []
    },
    {
      "cell_type": "code",
      "source": [
        "# creating list from a and b to look like [[1,'a'], [2,'b'], [3,'c'], [4,'d']]\n",
        "\n",
        "a = [1, 2, 3,4]\n",
        "b = ['a', 'b', 'c', 'd']\n"
      ],
      "metadata": {
        "id": "GfUhUFrOdZ3u"
      },
      "execution_count": null,
      "outputs": []
    },
    {
      "cell_type": "code",
      "source": [
        "\n",
        "[[x,y] for x in a for y in b if a.index(x)==b.index(y)]"
      ],
      "metadata": {
        "colab": {
          "base_uri": "https://localhost:8080/"
        },
        "id": "5Mf2-jBAeeHW",
        "outputId": "3f566dcc-1678-46b1-b55f-e7b53e428670"
      },
      "execution_count": null,
      "outputs": [
        {
          "output_type": "execute_result",
          "data": {
            "text/plain": [
              "[[1, 'a'], [2, 'b'], [3, 'c'], [4, 'd']]"
            ]
          },
          "metadata": {},
          "execution_count": 7
        }
      ]
    },
    {
      "cell_type": "code",
      "source": [
        "pairs = []\n",
        "for p in range(0,3):\n",
        "    for q in range(3,6):\n",
        "        pairs.append([p,q])\n",
        "print(pairs)"
      ],
      "metadata": {
        "colab": {
          "base_uri": "https://localhost:8080/"
        },
        "id": "BeAY4id_ekQO",
        "outputId": "e994f6e1-bc73-418c-b6cb-b543cc200f26"
      },
      "execution_count": null,
      "outputs": [
        {
          "output_type": "stream",
          "name": "stdout",
          "text": [
            "[[0, 3], [0, 4], [0, 5], [1, 3], [1, 4], [1, 5], [2, 3], [2, 4], [2, 5]]\n"
          ]
        }
      ]
    },
    {
      "cell_type": "code",
      "source": [
        "pairs2 = [[p,q] for p in range(0,2) for q in range(3,5)]\n",
        "print(pairs2)"
      ],
      "metadata": {
        "colab": {
          "base_uri": "https://localhost:8080/"
        },
        "id": "oG43K9PVfBkF",
        "outputId": "79924bf2-3dd8-49b8-f01f-0e9e3ab03e33"
      },
      "execution_count": null,
      "outputs": [
        {
          "output_type": "stream",
          "name": "stdout",
          "text": [
            "[[0, 3], [0, 4], [1, 3], [1, 4]]\n"
          ]
        }
      ]
    },
    {
      "cell_type": "code",
      "source": [
        "# zip\n",
        "a=[1,2,3,4]\n",
        "b=['a','b','c','d']\n",
        "zip(a,b)"
      ],
      "metadata": {
        "colab": {
          "base_uri": "https://localhost:8080/"
        },
        "id": "A2vfus80fcXD",
        "outputId": "4a155457-19ca-42de-adc6-d63d9f9597b5"
      },
      "execution_count": null,
      "outputs": [
        {
          "output_type": "execute_result",
          "data": {
            "text/plain": [
              "<zip at 0x7f1c7407e400>"
            ]
          },
          "metadata": {},
          "execution_count": 14
        }
      ]
    },
    {
      "cell_type": "code",
      "source": [
        "print(list(zip(a,b)))"
      ],
      "metadata": {
        "colab": {
          "base_uri": "https://localhost:8080/"
        },
        "id": "QCVsfSprfyJX",
        "outputId": "b8d3c390-3c0b-45b4-86a9-56e872671c20"
      },
      "execution_count": null,
      "outputs": [
        {
          "output_type": "stream",
          "name": "stdout",
          "text": [
            "[(1, 'a'), (2, 'b'), (3, 'c'), (4, 'd')]\n"
          ]
        }
      ]
    },
    {
      "cell_type": "code",
      "source": [
        "[list(x) for x in zip(a,b) ]"
      ],
      "metadata": {
        "colab": {
          "base_uri": "https://localhost:8080/"
        },
        "id": "aLuT53tof152",
        "outputId": "9c40d4b1-3b73-42bf-f940-f684c45c3178"
      },
      "execution_count": null,
      "outputs": [
        {
          "output_type": "execute_result",
          "data": {
            "text/plain": [
              "[[1, 'a'], [2, 'b'], [3, 'c'], [4, 'd']]"
            ]
          },
          "metadata": {},
          "execution_count": 16
        }
      ]
    },
    {
      "cell_type": "code",
      "source": [
        "x = ['P', 6, 1, 'Q', 5, 'R']           #List Comprehension - Conditions on output expression\n",
        "strings = [y for y in x if type(y) == str]\n",
        "print(strings)"
      ],
      "metadata": {
        "colab": {
          "base_uri": "https://localhost:8080/"
        },
        "id": "Za2Cj_eMf5Ux",
        "outputId": "82c5c0bf-acee-4b98-ebaf-c124c1f11530"
      },
      "execution_count": null,
      "outputs": [
        {
          "output_type": "stream",
          "name": "stdout",
          "text": [
            "['P', 'Q', 'R']\n"
          ]
        }
      ]
    },
    {
      "cell_type": "code",
      "source": [
        "integer = [m for m in x if type(m) == int]\n",
        "print(integer)"
      ],
      "metadata": {
        "colab": {
          "base_uri": "https://localhost:8080/"
        },
        "id": "ihEb5pyBgKJz",
        "outputId": "4309f539-e7a0-4d12-c8ce-3862cc18dba5"
      },
      "execution_count": null,
      "outputs": [
        {
          "output_type": "stream",
          "name": "stdout",
          "text": [
            "[6, 1, 5]\n"
          ]
        }
      ]
    },
    {
      "cell_type": "code",
      "source": [
        "[num**2 for num in range(10) if num%2 ==0]"
      ],
      "metadata": {
        "colab": {
          "base_uri": "https://localhost:8080/"
        },
        "id": "a3DYyYEQgkvr",
        "outputId": "512a5139-d89c-4538-d1d9-d2d5a15c2b00"
      },
      "execution_count": null,
      "outputs": [
        {
          "output_type": "execute_result",
          "data": {
            "text/plain": [
              "[0, 4, 16, 36, 64]"
            ]
          },
          "metadata": {},
          "execution_count": 20
        }
      ]
    },
    {
      "cell_type": "code",
      "source": [
        "[num**2 if num%2 ==0 else 0 for num in range(10)]"
      ],
      "metadata": {
        "colab": {
          "base_uri": "https://localhost:8080/"
        },
        "id": "o2az2fusgw2l",
        "outputId": "6f32012b-c12a-4434-b062-bb47933031d7"
      },
      "execution_count": null,
      "outputs": [
        {
          "output_type": "execute_result",
          "data": {
            "text/plain": [
              "[0, 0, 4, 0, 16, 0, 36, 0, 64, 0]"
            ]
          },
          "metadata": {},
          "execution_count": 21
        }
      ]
    },
    {
      "cell_type": "code",
      "source": [
        "int_list = [-2, 4, 1, 6, -3]\n",
        "#print(x for x in int_list if x > 0) # when using something that prints large output. it saves memory space\n",
        "print(list(x for x in int_list if x > 0))"
      ],
      "metadata": {
        "colab": {
          "base_uri": "https://localhost:8080/"
        },
        "id": "Z2XKTW2Wg0l1",
        "outputId": "0ddd74c0-744d-4d41-cb5e-318848acbe0e"
      },
      "execution_count": null,
      "outputs": [
        {
          "output_type": "stream",
          "name": "stdout",
          "text": [
            "[4, 1, 6]\n"
          ]
        }
      ]
    }
  ]
}