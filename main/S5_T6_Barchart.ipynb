{
  "cells": [
    {
      "cell_type": "markdown",
      "metadata": {
        "id": "Gcie0zOS78Gx"
      },
      "source": [
        "Bar Chart \n",
        "\n",
        "            - Graphical respresentation of data using bar. \n",
        "\n",
        "Applications\n",
        "\n",
        "            - compare things between groups or to track changes over time. \n",
        "\n",
        "\n",
        "Variations\n",
        "\n",
        "            - The bars can be plotted vertically or horizontally.\n",
        "            - stacked bar plot \n",
        "            \n",
        "\n",
        "    "
      ]
    },
    {
      "cell_type": "markdown",
      "metadata": {
        "id": "VQ3RtlHfiQX9"
      },
      "source": [
        "Examples"
      ]
    },
    {
      "cell_type": "markdown",
      "metadata": {
        "id": "MVM9FArxjaBG"
      },
      "source": [
        "![bar1.png](data:image/png;base64,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)"
      ]
    },
    {
      "cell_type": "code",
      "execution_count": 1,
      "metadata": {
        "id": "vxZThrdlirfF"
      },
      "outputs": [],
      "source": [
        "# import Packages \n",
        "import matplotlib.pyplot as plt\n"
      ]
    },
    {
      "cell_type": "code",
      "execution_count": 2,
      "metadata": {
        "colab": {
          "base_uri": "https://localhost:8080/",
          "height": 265
        },
        "id": "WYDc1xJEP-vE",
        "outputId": "cd989aec-aba3-45f3-e2d2-6b139dbdd367"
      },
      "outputs": [
        {
          "output_type": "display_data",
          "data": {
            "text/plain": [
              "<Figure size 432x288 with 1 Axes>"
            ],
            "image/png": "[encoded data removed]"
          },
          "metadata": {
            "needs_background": "light"
          }
        }
      ],
      "source": [
        "# Visualize data using Bar Chart\n",
        "\n",
        "y = [23, 45, 56, 78, 213]\n",
        "x = [1,2,3,4,5]\n",
        "\n",
        "# Plot using green color\n",
        "\n",
        "plt.bar(x, y, color=\"green\")\n",
        "plt.show()"
      ]
    },
    {
      "cell_type": "code",
      "execution_count": null,
      "metadata": {
        "id": "dDo2j0tWQ0Fl"
      },
      "outputs": [],
      "source": [
        "# common mistake \n",
        "# need both x and y \n",
        "\n",
        "data = [23, 45, 56, 78, 213]\n",
        "plt.bar(data, color='red')\n",
        "plt.show()"
      ]
    },
    {
      "cell_type": "code",
      "execution_count": 6,
      "metadata": {
        "id": "u8x7ECVFxo99",
        "colab": {
          "base_uri": "https://localhost:8080/",
          "height": 265
        },
        "outputId": "4aaa364d-adbf-4c38-9b39-73478aa7d546"
      },
      "outputs": [
        {
          "output_type": "display_data",
          "data": {
            "text/plain": [
              "<Figure size 432x288 with 1 Axes>"
            ],
            "image/png": "[encoded data removed]"
          },
          "metadata": {
            "needs_background": "light"
          }
        }
      ],
      "source": [
        "# change the width of the bar \n",
        "\n",
        "y = [23, 45, 56, 78, 213]\n",
        "x = [1,2,3,4,5]\n",
        "plt.bar(x, y, width=0.4)\n",
        "plt.show()"
      ]
    },
    {
      "cell_type": "code",
      "execution_count": 7,
      "metadata": {
        "id": "y854kMlNRKT5",
        "colab": {
          "base_uri": "https://localhost:8080/",
          "height": 265
        },
        "outputId": "f54ed094-311e-4b07-bf0e-25cf7a33d73e"
      },
      "outputs": [
        {
          "output_type": "display_data",
          "data": {
            "text/plain": [
              "<Figure size 432x288 with 1 Axes>"
            ],
            "image/png": "[encoded data removed]"
          },
          "metadata": {
            "needs_background": "light"
          }
        }
      ],
      "source": [
        "data = [23, 45, 56, 78, 213]\n",
        "plt.bar(range(len(data)), data, color='gold')\n",
        "plt.show()"
      ]
    },
    {
      "cell_type": "code",
      "execution_count": null,
      "metadata": {
        "id": "K5OcJGUVSF_i"
      },
      "outputs": [],
      "source": [
        "# To add grid in y axis \n",
        "\n",
        "data = [23, 45, 56, 78, 213]\n",
        "\n",
        "plt.bar(range(len(data)), data, color='royalblue', alpha=0.7)\n",
        "plt.grid(color='blue', linestyle='--', linewidth=2, axis='y', alpha=0.3)\n",
        "plt.show()"
      ]
    },
    {
      "cell_type": "code",
      "execution_count": null,
      "metadata": {
        "id": "_aEkH8SlzXyZ"
      },
      "outputs": [],
      "source": [
        "# To add Title and Labels \n",
        "\n",
        "data = [23,85, 72, 43, 52]\n",
        "labels = ['Apple', 'Banana', 'Chikoo', 'Fig', 'Guava']\n",
        "\n",
        "plt.bar(labels,data)\n",
        "\n",
        "plt.xlabel('Fruits')\n",
        "plt.ylabel('Count')\n",
        "\n",
        "plt.title('Survey on Fruits')\n",
        "\n",
        "\n",
        "plt.show()"
      ]
    },
    {
      "cell_type": "code",
      "execution_count": 10,
      "metadata": {
        "colab": {
          "base_uri": "https://localhost:8080/",
          "height": 329
        },
        "id": "7Pld5UK8y6tG",
        "outputId": "07359e10-78eb-48b5-9670-3f34765c1671"
      },
      "outputs": [
        {
          "output_type": "display_data",
          "data": {
            "text/plain": [
              "<Figure size 432x288 with 1 Axes>"
            ],
            "image/png": "[encoded data removed]"
          },
          "metadata": {
            "needs_background": "light"
          }
        }
      ],
      "source": [
        "# To change the label orientation \n",
        "\n",
        "data = [23,85, 72, 43, 52]\n",
        "labels = ['Apple', 'Berry', 'Chikoo', 'Dragon Fruit', 'Elephant Apples']\n",
        "\n",
        "plt.xticks(range(len(data)), labels, rotation =25, horizontalalignment=\"center\")\n",
        "\n",
        "plt.xlabel('Fruits')\n",
        "plt.ylabel('Amounts')\n",
        "\n",
        "plt.title('Cost')\n",
        "\n",
        "plt.bar(range(len(data)), data) \n",
        "\n",
        "plt.show()"
      ]
    },
    {
      "cell_type": "code",
      "execution_count": 11,
      "metadata": {
        "id": "jv4LMRIoz-60",
        "colab": {
          "base_uri": "https://localhost:8080/",
          "height": 295
        },
        "outputId": "bfccaffa-b0fe-4430-df11-df60453ea636"
      },
      "outputs": [
        {
          "output_type": "display_data",
          "data": {
            "text/plain": [
              "<Figure size 432x288 with 1 Axes>"
            ],
            "image/png": "[encoded data removed]"
          },
          "metadata": {
            "needs_background": "light"
          }
        }
      ],
      "source": [
        "# To plot horizontal Bar Chart \n",
        "\n",
        "data = [23,85, 72, 43, 52]\n",
        "labels = ['Apple', 'Berry', 'Chikoo', 'Dragon Fruit', 'Elephant Apples']\n",
        "\n",
        "plt.yticks(range(len(data)), labels)\n",
        "\n",
        "plt.xlabel('Cost')\n",
        "plt.ylabel('Name of the Fruit')\n",
        "\n",
        "plt.title('Fruits Rate')\n",
        "\n",
        "plt.barh(range(len(data)), data) \n",
        "\n",
        "plt.show()"
      ]
    },
    {
      "cell_type": "code",
      "execution_count": 12,
      "metadata": {
        "id": "rlloluhx6GtY",
        "colab": {
          "base_uri": "https://localhost:8080/",
          "height": 335
        },
        "outputId": "a3f72532-314b-4bdb-9274-34b1894bdfa8"
      },
      "outputs": [
        {
          "output_type": "display_data",
          "data": {
            "text/plain": [
              "<Figure size 432x288 with 1 Axes>"
            ],
            "image/png": "[encoded data removed]"
          },
          "metadata": {
            "needs_background": "light"
          }
        }
      ],
      "source": [
        "# To Plot both Positive and Negative values \n",
        "\n",
        "data = [23,85, -72, 43, -52]\n",
        "labels = ['Apple', 'Berry', 'Chikoo', 'Drangon Fruit', 'Elephant Apples']\n",
        "\n",
        "plt.xticks(range(len(data)), labels, rotation =30, horizontalalignment=\"left\")\n",
        "\n",
        "plt.xlabel('Class')\n",
        "plt.ylabel('Amounts')\n",
        "\n",
        "plt.title('Fees')\n",
        "\n",
        "plt.bar(range(len(data)), data) \n",
        "\n",
        "plt.show()"
      ]
    },
    {
      "cell_type": "code",
      "execution_count": 13,
      "metadata": {
        "id": "yVN07t7q6oxT"
      },
      "outputs": [],
      "source": [
        "# Stacked Bar"
      ]
    },
    {
      "cell_type": "code",
      "execution_count": null,
      "metadata": {
        "id": "wYirBYJU6myq"
      },
      "outputs": [],
      "source": [
        "Python_Theory = [25, 30,35, 22]\n",
        "Python_Lab = [25, 20, 5, 20]\n",
        "\n",
        "X = [\"A\",\"B\",\"C\",\"D\"]\n",
        "\n",
        "b1 = plt.bar(X, Python_Theory, color = 'b')\n",
        "b2 = plt.bar(X, Python_Lab, color = 'r', bottom = Python_Theory)\n",
        "\n",
        "plt.legend([b1,b2],[\"Python_Theory\",\"Python_Lab\"], title=\"Marks\" )\n",
        "plt.show()"
      ]
    },
    {
      "cell_type": "code",
      "execution_count": null,
      "metadata": {
        "id": "IrKYmJgbBis4"
      },
      "outputs": [],
      "source": [
        "import pandas as pd\n",
        "df = pd.DataFrame({'Marks':[2, 7, 14, 17, 20, 27,30, 38, 25, 18, 6, 1],\n",
        "                   'Students':['a','b','c','d','e','f','g','h','i','j','k','l']})\n",
        "\n",
        "df\n",
        "\n"
      ]
    },
    {
      "cell_type": "code",
      "execution_count": 27,
      "metadata": {
        "id": "zp-qvikYBis8",
        "colab": {
          "base_uri": "https://localhost:8080/",
          "height": 321
        },
        "outputId": "38a46230-b36c-4b14-8ce5-0e69548dc27a"
      },
      "outputs": [
        {
          "output_type": "execute_result",
          "data": {
            "text/plain": [
              "Text(0.5, 1.0, 'Barplot with Matplotlib')"
            ]
          },
          "metadata": {},
          "execution_count": 27
        },
        {
          "output_type": "display_data",
          "data": {
            "text/plain": [
              "<Figure size 432x288 with 1 Axes>"
            ],
            "image/png": "[encoded data removed]"
          },
          "metadata": {
            "needs_background": "light"
          }
        }
      ],
      "source": [
        "\n",
        "# make bar plot with matplotlib\n",
        "plt.bar('Students', 'Marks',data=df)\n",
        "plt.xlabel(\"Students\", size=15)\n",
        "plt.ylabel(\"Marks\", size=15)\n",
        "plt.title(\"Barplot with Matplotlib\", size=18)\n"
      ]
    },
    {
      "cell_type": "code",
      "execution_count": null,
      "metadata": {
        "id": "hSDLMY0HBis-"
      },
      "outputs": [],
      "source": [
        "# Sort values \n",
        "df = df.sort_values('Marks')\n",
        "df"
      ]
    },
    {
      "cell_type": "code",
      "execution_count": null,
      "metadata": {
        "colab": {
          "base_uri": "https://localhost:8080/",
          "height": 321
        },
        "outputId": "38a46230-b36c-4b14-8ce5-0e69548dc27a",
        "id": "nkhYr_i4A_Ia"
      },
      "outputs": [
        {
          "output_type": "execute_result",
          "data": {
            "text/plain": [
              "Text(0.5, 1.0, 'Barplot with Matplotlib')"
            ]
          },
          "metadata": {},
          "execution_count": 27
        },
        {
          "output_type": "display_data",
          "data": {
            "text/plain": [
              "<Figure size 432x288 with 1 Axes>"
            ],
            "image/png": "[encoded data removed]"
          },
          "metadata": {
            "needs_background": "light"
          }
        }
      ],
      "source": [
        "\n",
        "# make bar plot with matplotlib\n",
        "plt.bar('Students', 'Marks',data=df)\n",
        "plt.xlabel(\"Students\", size=15)\n",
        "plt.ylabel(\"Marks\", size=15)\n",
        "plt.title(\"Barplot with Matplotlib\", size=18)\n"
      ]
    }
  ],
  "metadata": {
    "colab": {
      "collapsed_sections": [],
      "name": "barchart.ipynb",
      "provenance": []
    },
    "kernelspec": {
      "display_name": "Python 3",
      "name": "python3"
    },
    "language_info": {
      "name": "python"
    }
  },
  "nbformat": 4,
  "nbformat_minor": 0
}