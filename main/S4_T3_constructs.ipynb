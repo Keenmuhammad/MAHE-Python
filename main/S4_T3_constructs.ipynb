{
  "nbformat": 4,
  "nbformat_minor": 0,
  "metadata": {
    "colab": {
      "name": "constructs.ipynb",
      "provenance": [],
      "collapsed_sections": []
    },
    "kernelspec": {
      "name": "python3",
      "display_name": "Python 3"
    },
    "language_info": {
      "name": "python"
    }
  },
  "cells": [
    {
      "cell_type": "markdown",
      "source": [
        "### Python Constructs \n",
        "\n",
        "##              - Sequence \n",
        "##              - Conditional/ Selection\n",
        "        "
      ],
      "metadata": {
        "id": "E_XbOUr7srON"
      }
    },
    {
      "cell_type": "markdown",
      "source": [
        "###            Sequential Statement:\n",
        "\n",
        "\n",
        "\n",
        "            \n",
        "##            Python program are executed sequentially from top to bottom. \n"
      ],
      "metadata": {
        "id": "V0gNmdSivCV7"
      }
    },
    {
      "cell_type": "code",
      "source": [
        "# sequential statements \n",
        "# Perform Arithmetic Operations \n",
        "\n",
        "x =10 \n",
        "y =15 \n",
        "total = x+y \n",
        "print (total)\n",
        "\n",
        "# Perform String Operations  and Built in functions\n",
        "\n",
        "name = \"Python\"\n",
        "length = len(name)\n",
        "print (length)\n",
        "\n",
        "upper = name.upper()\n",
        "print (upper)\n",
        "\n",
        "greeting1 = 'hello '\n",
        "greeting2 = 'students'\n",
        "\n",
        "greeting = greeting1 + greeting2\n",
        "greeting\n",
        "\n"
      ],
      "metadata": {
        "id": "3IKCeLFQsq4c",
        "colab": {
          "base_uri": "https://localhost:8080/",
          "height": 87
        },
        "outputId": "7a01c8f8-d457-481e-e68d-c7f8c8ea355e"
      },
      "execution_count": null,
      "outputs": [
        {
          "output_type": "stream",
          "name": "stdout",
          "text": [
            "25\n",
            "6\n",
            "PYTHON\n"
          ]
        },
        {
          "output_type": "execute_result",
          "data": {
            "application/vnd.google.colaboratory.intrinsic+json": {
              "type": "string"
            },
            "text/plain": [
              "'hello students'"
            ]
          },
          "metadata": {},
          "execution_count": 28
        }
      ]
    },
    {
      "cell_type": "code",
      "source": [
        "# slicing \n",
        "\n",
        "# 0 extracts the first character \n",
        "firstchar = greeting[0]\n",
        "print(firstchar)\n",
        "\n",
        "# to extract range of characters \n",
        "\n",
        "first_4char = greeting[0:5]\n",
        "print (first_4char)\n",
        "\n",
        "last_char = greeting[-1]\n",
        "print(last_char) \n",
        "# -1 extracts the last character \n",
        "\n",
        "# To extract last three characters \n",
        "last_3char = greeting[-3:]\n",
        "print (last_3char)\n",
        "\n"
      ],
      "metadata": {
        "colab": {
          "base_uri": "https://localhost:8080/"
        },
        "id": "encMv1d_B7Zx",
        "outputId": "2c1eeff4-7f0f-4561-926b-bfcfef421652"
      },
      "execution_count": null,
      "outputs": [
        {
          "output_type": "stream",
          "name": "stdout",
          "text": [
            "h\n",
            "hello\n",
            "s\n",
            "nts\n"
          ]
        }
      ]
    },
    {
      "cell_type": "markdown",
      "source": [
        "###          Conditional Statement \n",
        "          \n",
        "##          Execute set of code based on certain condition.\n"
      ],
      "metadata": {
        "id": "As4jrNkQvcYV"
      }
    },
    {
      "cell_type": "code",
      "execution_count": null,
      "metadata": {
        "id": "vMD-M0QAsliC",
        "colab": {
          "base_uri": "https://localhost:8080/"
        },
        "outputId": "5f6dc056-f20c-42f4-d053-eb42bc5c3ebf"
      },
      "outputs": [
        {
          "output_type": "stream",
          "name": "stdout",
          "text": [
            "The value is greater than 5\n"
          ]
        }
      ],
      "source": [
        "# Conditional Statements \n",
        "\n",
        "# Basic Syntax\n",
        "\n",
        "# if test expression: \n",
        "#   statements\n",
        "\n",
        "# test expression --> variable  relational operator variable \n",
        "\n",
        "# Example: \n",
        "\n",
        "a=10\n",
        "if a > 5: \n",
        "  print (\"The value is greater than 5\")\n"
      ]
    },
    {
      "cell_type": "code",
      "execution_count": null,
      "metadata": {
        "colab": {
          "base_uri": "https://localhost:8080/"
        },
        "id": "CoOiyCZMxInR",
        "outputId": "0a8d81fb-d3b0-4ad7-cdc9-e6789c38f8ba"
      },
      "outputs": [
        {
          "output_type": "stream",
          "name": "stdout",
          "text": [
            "The value is greater than 10\n"
          ]
        }
      ],
      "source": [
        "# if test expression: \n",
        "#  true block\n",
        "# else: \n",
        "#   false block statements\n",
        "\n",
        "a = 40 \n",
        "if a > 10: \n",
        "  print (\"The value is greater than 10\")\n",
        "else: \n",
        "  print (\"The value is less than 10\")"
      ]
    },
    {
      "cell_type": "code",
      "source": [
        "# pass statement \n",
        "if a == True : \n",
        "  pass \n",
        "else :\n",
        "  print (\"This is false block\")"
      ],
      "metadata": {
        "colab": {
          "base_uri": "https://localhost:8080/"
        },
        "id": "Xe_QmjHYE-os",
        "outputId": "8542e680-84c1-44af-e44d-4393a10420b4"
      },
      "execution_count": null,
      "outputs": [
        {
          "output_type": "stream",
          "name": "stdout",
          "text": [
            "This is false block\n"
          ]
        }
      ]
    },
    {
      "cell_type": "code",
      "metadata": {
        "id": "GnDVEHP39p1h",
        "colab": {
          "base_uri": "https://localhost:8080/"
        },
        "outputId": "7cb31860-d107-431f-ccd1-ea486324126e"
      },
      "source": [
        "# Shorthand conditional statements\n",
        "# using ternary condtional operator \n",
        " \n",
        "# Basic Syntax \n",
        "# [True statement] if [expression] else [False statement]\n",
        "\n",
        "a = 40 \n",
        "print (\"The value is greater than or equal 40\") if a >= 40 else print(\"The value is less than 40\") \n"
      ],
      "execution_count": null,
      "outputs": [
        {
          "output_type": "stream",
          "name": "stdout",
          "text": [
            "The value is greater than or equal 40\n"
          ]
        }
      ]
    },
    {
      "cell_type": "code",
      "source": [
        "#Try: \n",
        "x = 10"
      ],
      "metadata": {
        "colab": {
          "base_uri": "https://localhost:8080/"
        },
        "id": "uT7SDB4jyoxs",
        "outputId": "0390c11f-d3bb-405b-bebb-4408dfad25ac"
      },
      "execution_count": null,
      "outputs": [
        {
          "output_type": "stream",
          "name": "stdout",
          "text": [
            "Positive\n"
          ]
        }
      ]
    },
    {
      "cell_type": "code",
      "source": [
        "# To check multiple conditions \n",
        "# if test expression:\n",
        "#     statements\n",
        "# elif test expression: \n",
        "#     statements \n",
        "# else: \n",
        "#     statements \n",
        "\n",
        "a = -12 \n",
        "if a % 2 == 0: \n",
        "  print (\"The number is even\")\n",
        "elif a % 2 == 1: \n",
        "  print (\"The number is odd\")\n",
        "else : \n",
        "  print (\"The number is zero\")"
      ],
      "metadata": {
        "colab": {
          "base_uri": "https://localhost:8080/"
        },
        "id": "Gp-KIoZMz6_4",
        "outputId": "366c80c4-b5df-4e50-9378-76dc91a46d06"
      },
      "execution_count": null,
      "outputs": [
        {
          "output_type": "stream",
          "name": "stdout",
          "text": [
            "The number is even\n"
          ]
        }
      ]
    },
    {
      "cell_type": "code",
      "source": [
        "# Multiple if statements \n",
        "# if test expression : \n",
        "#    statements \n",
        "#    if test expression : \n",
        "#         statements\n",
        "\n",
        "# Example\n",
        "a = 11 \n",
        "if a > 0: \n",
        "  print (\"The number is positive\")\n",
        "  if a % 2 == 0:\n",
        "    print (\"The number is even number too ..\")\n",
        "  if a % 2 == 1: \n",
        "    print (\"The number is odd number too ..\")\n",
        "elif a ==0: \n",
        "  print(\"The number is zero\")\n",
        "else : \n",
        "  print (\"The number is negative\")\n"
      ],
      "metadata": {
        "colab": {
          "base_uri": "https://localhost:8080/"
        },
        "id": "c_6JNPuhzEHF",
        "outputId": "eb4708b4-813b-4b3a-fb18-a9d92e1bde56"
      },
      "execution_count": null,
      "outputs": [
        {
          "output_type": "stream",
          "name": "stdout",
          "text": [
            "The number is positive\n",
            "The number is odd number too ..\n"
          ]
        }
      ]
    },
    {
      "cell_type": "code",
      "source": [
        "# to check multiple conditions \n",
        "# using and or operator (Logical operator)\n",
        "\n",
        "test_1=5 \n",
        "test_2=9\n",
        "\n",
        "if test_1 > 9 and test_2 > 9 : \n",
        "  print (\"Outstanding\")\n",
        "  \n",
        "elif test_1 <=5 and test_2 < 5: \n",
        "  print (\"Need Improvement\")\n"
      ],
      "metadata": {
        "id": "X1kF5u-e2vVI"
      },
      "execution_count": null,
      "outputs": []
    },
    {
      "cell_type": "code",
      "source": [
        "if a>0 and a % 2 == 0: \n",
        "  print (\"positive number and even number\")\n",
        "elif a>0 and a %2 ==1:\n",
        "  print (\"positive number and odd number\")\n",
        "elif a<0 and a % 2 == 0: \n",
        "  print (\"negative number and even number\")\n",
        "elif a<0 and a %2 ==1: \n",
        "  print(\"negative and odd number\")\n",
        "else : \n",
        "  print(\"the number is zero\")"
      ],
      "metadata": {
        "colab": {
          "base_uri": "https://localhost:8080/"
        },
        "id": "oLtts8OC2jU_",
        "outputId": "55a8109c-69fe-45bf-be53-47ecfe0746df"
      },
      "execution_count": null,
      "outputs": [
        {
          "output_type": "stream",
          "name": "stdout",
          "text": [
            "positive number and odd number\n"
          ]
        }
      ]
    },
    {
      "cell_type": "code",
      "source": [
        "test_1=10\n",
        "test_2= 5 \n",
        "# To check eligible for final test , should be greater than 5 in one test \n"
      ],
      "metadata": {
        "id": "KDMUlAYr6iCw"
      },
      "execution_count": null,
      "outputs": []
    },
    {
      "cell_type": "code",
      "source": [
        " # Logical or \n",
        "if test_1 >5  or test_2 >5 : \n",
        "  print(\"Eligible for Final Test\") \n",
        "else : \n",
        "  print(\"Better Luck next time\")"
      ],
      "metadata": {
        "colab": {
          "base_uri": "https://localhost:8080/"
        },
        "id": "GlA8EAeWC6Se",
        "outputId": "4128c250-0199-4924-ad97-7709ca7421fd"
      },
      "execution_count": null,
      "outputs": [
        {
          "output_type": "stream",
          "name": "stdout",
          "text": [
            "Eligible for Final Test\n"
          ]
        }
      ]
    },
    {
      "cell_type": "code",
      "metadata": {
        "colab": {
          "base_uri": "https://localhost:8080/"
        },
        "id": "4tlfNYD9FDAU",
        "outputId": "1c7ceb51-d630-4d1a-b46a-20b429dbf806"
      },
      "source": [
        "# multiple conditional using ternary operator \n",
        "a = 10 \n",
        "b= 5 \n",
        "c= 20 \n",
        "max = a if a > b and a > c else b if  b>c and b>a else c \n",
        "print (max)"
      ],
      "execution_count": null,
      "outputs": [
        {
          "output_type": "stream",
          "name": "stdout",
          "text": [
            "20\n"
          ]
        }
      ]
    },
    {
      "cell_type": "code",
      "source": [
        "# conditional Statements in list\n",
        "fruits= [\"Apple\",\"Orange\",\"Fig\"]\n",
        "\n",
        "# To check the \"Apple\" is present in the list or not \n",
        "if 'Apple' in fruits: \n",
        "  print (\"Apple is in the list\")\n",
        "else : \n",
        "  print (\"Apple is not in the list\")\n"
      ],
      "metadata": {
        "colab": {
          "base_uri": "https://localhost:8080/"
        },
        "id": "Cb-Z6o9X6Irh",
        "outputId": "a3c4eb9c-50c3-4698-94ef-11decf122923"
      },
      "execution_count": null,
      "outputs": [
        {
          "output_type": "stream",
          "name": "stdout",
          "text": [
            "Apple is in the list\n"
          ]
        }
      ]
    },
    {
      "cell_type": "code",
      "source": [
        "if 'Berry' not in fruits: \n",
        "  fruits.insert(1,\"Berry\")\n",
        "  print(\"Inserted fruit\")\n",
        "else:\n",
        "  pass\n",
        "\n",
        "# insert is used to add an item "
      ],
      "metadata": {
        "colab": {
          "base_uri": "https://localhost:8080/"
        },
        "id": "yl0a1wMK9qtn",
        "outputId": "a9ef4624-82de-483f-89ef-91cae855f17a"
      },
      "execution_count": null,
      "outputs": [
        {
          "output_type": "stream",
          "name": "stdout",
          "text": [
            "Inserted fruit\n"
          ]
        }
      ]
    },
    {
      "cell_type": "code",
      "source": [
        "fruits"
      ],
      "metadata": {
        "colab": {
          "base_uri": "https://localhost:8080/"
        },
        "id": "U8cu9SGx-iYu",
        "outputId": "543f52bd-b091-46fe-b494-6e57bc4b8956"
      },
      "execution_count": null,
      "outputs": [
        {
          "output_type": "execute_result",
          "data": {
            "text/plain": [
              "['Apple', 'Orange', 'Fig']"
            ]
          },
          "metadata": {},
          "execution_count": 42
        }
      ]
    },
    {
      "cell_type": "code",
      "source": [
        "if 'Berry' in fruits: \n",
        "  fruits.remove(\"Berry\")\n",
        "  print(\"Deleted fruit\")\n",
        "else:\n",
        "  pass\n",
        "\n",
        "# remove is used to delete the element "
      ],
      "metadata": {
        "colab": {
          "base_uri": "https://localhost:8080/"
        },
        "outputId": "d2f372c1-29e0-482b-da9e-73e985034c0d",
        "id": "u1wphgyU-t04"
      },
      "execution_count": null,
      "outputs": [
        {
          "output_type": "stream",
          "name": "stdout",
          "text": [
            "Deleted fruit\n"
          ]
        }
      ]
    },
    {
      "cell_type": "code",
      "source": [
        ""
      ],
      "metadata": {
        "id": "EpEwVXJ3_VJm"
      },
      "execution_count": null,
      "outputs": []
    }
  ]
}