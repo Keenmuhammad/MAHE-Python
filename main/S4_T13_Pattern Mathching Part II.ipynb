{
  "nbformat": 4,
  "nbformat_minor": 0,
  "metadata": {
    "colab": {
      "name": "regularexpression-II.ipynb",
      "provenance": [],
      "collapsed_sections": []
    },
    "kernelspec": {
      "name": "python3",
      "display_name": "Python 3"
    },
    "language_info": {
      "name": "python"
    }
  },
  "cells": [
    {
      "cell_type": "markdown",
      "source": [
        "# Pattern Matching-II\n",
        "  ### - Introduction to Pattern Matching \n",
        "  ### - Applications \n",
        "  ### - Matching complex pattern \n",
        "  ### - Regular expression "
      ],
      "metadata": {
        "id": "chJDdImT1zH8"
      }
    },
    {
      "cell_type": "markdown",
      "source": [
        "### Complex Patterns \n",
        "                \n",
        "         - Use of Regular expression (Complex patterns are created using regular expression)  \n",
        "         - Regular Expression, is a collection of characters and operators  that forms a search pattern.\n",
        "         - Regular expression is also called as \"Regex\" \n",
        "         - To include Regular expression module in python, need to import re module \n",
        "\n",
        "### Built-in Functions which supports Regex \n",
        "\n",
        "          - match()\n",
        "          - split()\n",
        "          - search()\n",
        "          - findall()\n",
        "          - sub()\n",
        "          \n",
        "\n"
      ],
      "metadata": {
        "id": "Vf-Hpemf4LPu"
      }
    },
    {
      "cell_type": "code",
      "source": [
        "### Regular Expression \n",
        "    ## contains both special characters and string to be search\n",
        "    ## To include Regex module include \" import module re \" \n",
        "\n",
        "\n"
      ],
      "metadata": {
        "id": "XxcAthEV-HSU"
      },
      "execution_count": null,
      "outputs": []
    },
    {
      "cell_type": "code",
      "source": [
        "import re"
      ],
      "metadata": {
        "id": "UbRoHW3N_jtb"
      },
      "execution_count": null,
      "outputs": []
    },
    {
      "cell_type": "markdown",
      "source": [
        "### Operators \n",
        "\n",
        "    ## Anchor - position \n",
        "     ^  - The line starts with \n",
        "     $  - The line endswith \n",
        "\n",
        "     ## Character class\n",
        "     [A-Z]  - Match any upper case characters\n",
        "\n",
        "     ## Qunatifiers\n",
        "     {3,5}  - range of values \n"
      ],
      "metadata": {
        "id": "687Upc0h-maV"
      }
    },
    {
      "cell_type": "code",
      "source": [
        "# match() \n",
        "# syntax - re.match(pattern, string, flags)\n",
        "# find match, starts with the pattern \n"
      ],
      "metadata": {
        "id": "vpc4Zfmh4iUJ"
      },
      "execution_count": null,
      "outputs": []
    },
    {
      "cell_type": "code",
      "source": [
        "# pattern matching using Regular expression  \n",
        "# match - matches the patterns starts with \n",
        "\n",
        "result= re.match('[hH]ello','Hello World')  # it will match either lower case (h) or upper case character (H) \n",
        "print(result)\n"
      ],
      "metadata": {
        "id": "hKe8vdd-4JuC",
        "colab": {
          "base_uri": "https://localhost:8080/"
        },
        "outputId": "b2fa1146-a31d-4ea3-bc7f-152f9533e5bc"
      },
      "execution_count": null,
      "outputs": [
        {
          "output_type": "stream",
          "name": "stdout",
          "text": [
            "<re.Match object; span=(0, 5), match='Hello'>\n"
          ]
        }
      ]
    },
    {
      "cell_type": "code",
      "source": [
        "result= re.match('World','Hello World')\n",
        "print(result)\n"
      ],
      "metadata": {
        "colab": {
          "base_uri": "https://localhost:8080/"
        },
        "id": "-x-_lrNLDJNQ",
        "outputId": "069f0fb8-990d-4072-c444-900aa2e4e63f"
      },
      "execution_count": null,
      "outputs": [
        {
          "output_type": "stream",
          "name": "stdout",
          "text": [
            "None\n"
          ]
        }
      ]
    },
    {
      "cell_type": "code",
      "source": [
        "if re.match('[Hh]ello','hello World'):\n",
        "  print(\"Kind words\")\n",
        "else: \n",
        "  print (\"Not kind words\")\n"
      ],
      "metadata": {
        "colab": {
          "base_uri": "https://localhost:8080/"
        },
        "outputId": "0f52950f-0e68-46f4-d883-f7c8aac76a6e",
        "id": "sbXmiWhHAyl-"
      },
      "execution_count": null,
      "outputs": [
        {
          "output_type": "stream",
          "name": "stdout",
          "text": [
            "Kind words\n"
          ]
        }
      ]
    },
    {
      "cell_type": "code",
      "source": [
        "# complex pattern using Regular expression \n",
        "# To match either upper case or lower case hH \n",
        "# with flag re.I - Ignorecase \n",
        "\n",
        "result= re.match('hellO','hello World',re.I)\n",
        "print(result)\n"
      ],
      "metadata": {
        "colab": {
          "base_uri": "https://localhost:8080/"
        },
        "outputId": "8dd13692-b97a-4935-e7bb-b956fde030ca",
        "id": "7CaHsqsnDyhK"
      },
      "execution_count": null,
      "outputs": [
        {
          "output_type": "stream",
          "name": "stdout",
          "text": [
            "<re.Match object; span=(0, 5), match='hello'>\n"
          ]
        }
      ]
    },
    {
      "cell_type": "code",
      "metadata": {
        "colab": {
          "base_uri": "https://localhost:8080/"
        },
        "id": "IeEwL_1UbLDj",
        "outputId": "60ebe096-286a-4b26-c223-4a3283438db1"
      },
      "source": [
        "# using regular expression\n",
        "# regex\n",
        "# ^ denotes starts with \n",
        "# $ denotes ends with \n",
        "\n",
        "# This regular exprssion is use to check the pattern is 10 digit or not \n",
        " \n",
        "phonenum =\"9134556680\"\n",
        "if re.match('^[0-9]{10}$',phonenum):\n",
        "  print(\"valid\")\n",
        "else:\n",
        "  print(\"invalid\")"
      ],
      "execution_count": null,
      "outputs": [
        {
          "output_type": "stream",
          "name": "stdout",
          "text": [
            "invalid\n"
          ]
        }
      ]
    },
    {
      "cell_type": "code",
      "source": [
        "# search()\n",
        "# match the pattern anywhere in the string \n",
        "# syntax - re.search(pattern,string,flags)\n",
        "\n",
        "greeting = \"Hello World\"\n",
        "re.search('World',greeting)"
      ],
      "metadata": {
        "id": "JWj21ZOEEJeO",
        "colab": {
          "base_uri": "https://localhost:8080/"
        },
        "outputId": "b4d31e89-2556-4b85-c295-ca93be98f9bf"
      },
      "execution_count": null,
      "outputs": [
        {
          "output_type": "execute_result",
          "data": {
            "text/plain": [
              "<re.Match object; span=(6, 11), match='World'>"
            ]
          },
          "metadata": {},
          "execution_count": 110
        }
      ]
    },
    {
      "cell_type": "code",
      "source": [
        "# search()\n",
        "# match the pattern anywhere in the string \n",
        "# syntax - re.search(pattern,string,flags)\n",
        "# re.I - is to ignore the case \n",
        "\n",
        "greeting = \"World Hello World\"\n",
        "re.search('world',greeting,re.I)"
      ],
      "metadata": {
        "colab": {
          "base_uri": "https://localhost:8080/"
        },
        "id": "PfCntAzJGLyb",
        "outputId": "1e22ae5f-2893-439a-a72d-98f293204e7d"
      },
      "execution_count": null,
      "outputs": [
        {
          "output_type": "execute_result",
          "data": {
            "text/plain": [
              "<re.Match object; span=(0, 5), match='World'>"
            ]
          },
          "metadata": {},
          "execution_count": 111
        }
      ]
    },
    {
      "cell_type": "code",
      "source": [
        "# search()\n",
        "# match the pattern anywhere in the string \n",
        "# syntax - re.search(pattern,string,flags)\n",
        "# $ denotes ends with \n",
        "\n",
        "greeting = \"World Hello World.\"\n",
        "re.search('.$',greeting)"
      ],
      "metadata": {
        "colab": {
          "base_uri": "https://localhost:8080/"
        },
        "outputId": "e156247a-247e-4e78-d312-e40bdf92f921",
        "id": "a6Zkdyj0WNqz"
      },
      "execution_count": null,
      "outputs": [
        {
          "output_type": "execute_result",
          "data": {
            "text/plain": [
              "<re.Match object; span=(17, 18), match='.'>"
            ]
          },
          "metadata": {},
          "execution_count": 113
        }
      ]
    },
    {
      "cell_type": "code",
      "source": [
        "# search()\n",
        "# match the pattern anywhere in the string \n",
        "# syntax - re.search(pattern,string,flags)\n",
        "\n",
        "greeting = \"World Hello World.\"\n",
        "re.search('World',greeting)"
      ],
      "metadata": {
        "colab": {
          "base_uri": "https://localhost:8080/"
        },
        "outputId": "9f31e224-e796-4d80-c172-5a56c4016df2",
        "id": "7hhlAwDIWjlk"
      },
      "execution_count": null,
      "outputs": [
        {
          "output_type": "execute_result",
          "data": {
            "text/plain": [
              "<re.Match object; span=(0, 5), match='World'>"
            ]
          },
          "metadata": {},
          "execution_count": 114
        }
      ]
    },
    {
      "cell_type": "code",
      "source": [
        "# Regular expression - | \n",
        "# |  denotes - either or \n",
        "\n",
        "greeting = \"Hello world\"\n",
        "# \"Namaskar|Hello\"  - this regex matches either Namaskar or Hello\n",
        "if re.search('Namaskar|Hello', greeting): \n",
        "  print (\"Kind words\")\n",
        "else: \n",
        "  print (\"Not Kind words\")"
      ],
      "metadata": {
        "colab": {
          "base_uri": "https://localhost:8080/"
        },
        "id": "l4vfTpvBXeUD",
        "outputId": "ae063512-fbe0-443d-a667-bc95377f7412"
      },
      "execution_count": null,
      "outputs": [
        {
          "output_type": "stream",
          "name": "stdout",
          "text": [
            "Kind words\n"
          ]
        }
      ]
    },
    {
      "cell_type": "code",
      "source": [
        "greeting = \"World Hello World\"\n",
        "re.findall('world',greeting,re.I)\n",
        "# re.I - ignore the case "
      ],
      "metadata": {
        "colab": {
          "base_uri": "https://localhost:8080/"
        },
        "outputId": "5b9f0185-7a72-4585-9966-4902737d92a9",
        "id": "BboZKp-BICOS"
      },
      "execution_count": null,
      "outputs": [
        {
          "output_type": "execute_result",
          "data": {
            "text/plain": [
              "['World', 'World']"
            ]
          },
          "metadata": {},
          "execution_count": 120
        }
      ]
    },
    {
      "cell_type": "code",
      "source": [
        "# findall  - Return a list of all matches \n",
        "# syntax - findall(pattern,string)\n",
        "\n",
        "values = \"Hello13Students14Welcome\"\n",
        "re.findall('[0-9]',values)"
      ],
      "metadata": {
        "colab": {
          "base_uri": "https://localhost:8080/"
        },
        "id": "BATsAQiFGj-j",
        "outputId": "12c5c768-4187-4956-cb1a-6d5e0a42d611"
      },
      "execution_count": null,
      "outputs": [
        {
          "output_type": "execute_result",
          "data": {
            "text/plain": [
              "['1', '3', '1', '4']"
            ]
          },
          "metadata": {},
          "execution_count": 121
        }
      ]
    },
    {
      "cell_type": "code",
      "source": [
        "#split()- Takes a string, split the values when the pattern matches and return a list \n",
        "# split('pattern','string',maxsplit)\n",
        "values = \"Hello1Students3welcome4to5Patttern6Matching\"\n",
        "re.split('[0-9]',values)"
      ],
      "metadata": {
        "colab": {
          "base_uri": "https://localhost:8080/"
        },
        "id": "slYPIA_3Gdan",
        "outputId": "f9f7046e-7f6f-43c5-f114-71cd21d6a99c"
      },
      "execution_count": null,
      "outputs": [
        {
          "output_type": "execute_result",
          "data": {
            "text/plain": [
              "['Hello', 'Students3welcome4to5Patttern6Matching']"
            ]
          },
          "metadata": {},
          "execution_count": 69
        }
      ]
    },
    {
      "cell_type": "code",
      "source": [
        "#split()- Takes a string, split the values when the pattern matches and return a list \n",
        "# split('pattern','string')\n",
        "# +  used to denote more than once (preceding character)\n",
        "values = \"Hello11Students13welcome14to15PattternMatching\"\n",
        "\n",
        "re.split('[0-9]+',values)\n",
        "# it will check numeric value, with one or more digit \n"
      ],
      "metadata": {
        "colab": {
          "base_uri": "https://localhost:8080/"
        },
        "outputId": "ff0ab9c6-5f4e-420b-ff24-b6109931f926",
        "id": "iJMSlHChJwgz"
      },
      "execution_count": null,
      "outputs": [
        {
          "output_type": "execute_result",
          "data": {
            "text/plain": [
              "['Hello', 'Students', 'welcome', 'to', 'PattternMatching']"
            ]
          },
          "metadata": {},
          "execution_count": 122
        }
      ]
    },
    {
      "cell_type": "code",
      "source": [
        "#split()- Takes a string, split the values when the pattern matches and return a list \n",
        "# split('pattern','string',maxsplit)\n",
        "values = \"Hello1Students3welcome4to5Patttern6Matching\"\n",
        "re.split('[0-9]',values,1)"
      ],
      "metadata": {
        "colab": {
          "base_uri": "https://localhost:8080/"
        },
        "outputId": "647d97bc-abaf-4b21-b32c-0eb0587ee1bc",
        "id": "xrC5HaQAMsSJ"
      },
      "execution_count": null,
      "outputs": [
        {
          "output_type": "execute_result",
          "data": {
            "text/plain": [
              "['Hello', 'Students3welcome4to5Patttern6Matching']"
            ]
          },
          "metadata": {},
          "execution_count": 70
        }
      ]
    },
    {
      "cell_type": "code",
      "source": [
        "# sub - replace the values \n",
        "# sub('pattern', 'replacement','string')\n",
        "\n",
        "greetings = 'Hello1Students3welcome4to5pattern6matching7demo8session'\n",
        "re.sub('[0-9]',' ',greetings)"
      ],
      "metadata": {
        "colab": {
          "base_uri": "https://localhost:8080/",
          "height": 35
        },
        "id": "O97Pa9EyM4IB",
        "outputId": "d03742be-8eb5-41f2-a48b-2a65c4dfde5e"
      },
      "execution_count": null,
      "outputs": [
        {
          "output_type": "execute_result",
          "data": {
            "application/vnd.google.colaboratory.intrinsic+json": {
              "type": "string"
            },
            "text/plain": [
              "'Hello Students welcome to pattern matching demo session'"
            ]
          },
          "metadata": {},
          "execution_count": 123
        }
      ]
    },
    {
      "cell_type": "code",
      "metadata": {
        "colab": {
          "base_uri": "https://localhost:8080/"
        },
        "outputId": "9b3f2f9f-9073-4818-9359-b1c8e7032ee3",
        "id": "LX1hQYCjRuyj"
      },
      "source": [
        "\n",
        "shopping_list =[\"apples\", 'gooseberry', 'strawberry', 'blueberry']\n",
        "result=[]\n",
        "# . matches any character \n",
        "# * matches preceding character zero or more times. \n",
        "#  it possible to combine two different regex operators \n",
        "# .* means any charcter zero or more times \n",
        "for i in shopping_list:\n",
        "  r= re.match(\".*berry\",i)\n",
        "  result.insert(1,r)\n",
        "result"
      ],
      "execution_count": null,
      "outputs": [
        {
          "output_type": "execute_result",
          "data": {
            "text/plain": [
              "[None,\n",
              " <re.Match object; span=(0, 9), match='blueberry'>,\n",
              " <re.Match object; span=(0, 10), match='strawberry'>,\n",
              " <re.Match object; span=(0, 10), match='gooseberry'>]"
            ]
          },
          "metadata": {},
          "execution_count": 125
        }
      ]
    },
    {
      "cell_type": "code",
      "metadata": {
        "colab": {
          "base_uri": "https://localhost:8080/"
        },
        "outputId": "6292b92e-5897-4ff5-b0a1-2fad633020c5",
        "id": "kA3aPFLFUq9j"
      },
      "source": [
        "\n",
        "shopping_list =[\"apples\", 'gooseberry', 'strawberry', 'blueberry']\n",
        "result=[]\n",
        "# . matches any character \n",
        "# * matches preceding character zero or more times. \n",
        "for i in shopping_list:\n",
        "  r= re.search(\".*berry\",i)\n",
        "  result.insert(1,r)\n",
        "result"
      ],
      "execution_count": null,
      "outputs": [
        {
          "output_type": "execute_result",
          "data": {
            "text/plain": [
              "[None,\n",
              " <re.Match object; span=(0, 9), match='blueberry'>,\n",
              " <re.Match object; span=(0, 10), match='strawberry'>,\n",
              " <re.Match object; span=(0, 10), match='gooseberry'>]"
            ]
          },
          "metadata": {},
          "execution_count": 80
        }
      ]
    },
    {
      "cell_type": "markdown",
      "source": [
        "### Summary - Regex operators \n",
        "\n",
        "        []    A set of characters\n",
        "        [a-c] means, a or b or c\n",
        "        [a-z] means, any letter from a to z\n",
        "        [A-Z] means, any character from A to Z\n",
        "        [0-3] means, 0 or 1 or 2 or 3\n",
        "        [0-9] means any number from 0 to 9\n",
        "        [A-Za-z0-9] any single character, that is a to z, A to Z or 0 to 9\n",
        "\n",
        "        \\  uses to escape special characters\n",
        "        \n",
        "        \\d  match where the string contains digits (numbers from 0-9)\n",
        "        \\D  match where the string does not contain digits\n",
        "\n",
        "        .  match any character except new line character(\\n)\n",
        "\n",
        "        ^  starts with\n",
        "\n",
        "        $ ends with\n",
        "\n",
        "   \n",
        "       *  zero or more times (previous char)\n",
        "        \n",
        "       +  one or more times\n",
        "       \n",
        "       ?  zero or one time\n",
        "\n",
        "        \n",
        "       {3} Exactly 3 characters\n",
        "       \n",
        "       {3,} At least 3 characters\n",
        "    \n",
        "       {3,5} 3 to 5 characters\n",
        "\n",
        "       | Either or\n",
        "       \n",
        "       () Capture and group\n"
      ],
      "metadata": {
        "id": "H9IwEp9pVe7n"
      }
    }
  ]
}