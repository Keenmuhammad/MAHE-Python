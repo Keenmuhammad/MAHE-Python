{
  "nbformat": 4,
  "nbformat_minor": 0,
  "metadata": {
    "colab": {
      "name": "sets.ipynb",
      "provenance": [],
      "collapsed_sections": []
    },
    "kernelspec": {
      "name": "python3",
      "display_name": "Python 3"
    },
    "language_info": {
      "name": "python"
    }
  },
  "cells": [
    {
      "cell_type": "markdown",
      "source": [
        "                 - used to store multiple items in a single variable.\n",
        "                 - unordered collection, not possible to access through index\n",
        "                 - doesn't store duplicate values (used to remove duplicate values)\n",
        "                 - store differnt datatypes - numbers, strings but not dictionary \n",
        "\n"
      ],
      "metadata": {
        "id": "cg-jQ6v6DIeH"
      }
    },
    {
      "cell_type": "code",
      "execution_count": null,
      "metadata": {
        "id": "AA_bCcVHDFuY"
      },
      "outputs": [],
      "source": [
        "# create Set - Method -1 \n",
        "fruits = {\"apple\", \"banana\", \"cherry\"}\n",
        "\n",
        "# Method -2 using set \n",
        "hobbies = set([\"Reading\", \"Writing\", \"Coding\", \"Debugging\"])   "
      ]
    },
    {
      "cell_type": "code",
      "source": [
        "# To find the data type\n",
        "type(fruits)\n",
        "type(hobbies)"
      ],
      "metadata": {
        "colab": {
          "base_uri": "https://localhost:8080/"
        },
        "id": "rn0TYUxnESjY",
        "outputId": "8f73321a-b781-4b82-a687-49abef1ef72f"
      },
      "execution_count": null,
      "outputs": [
        {
          "output_type": "execute_result",
          "data": {
            "text/plain": [
              "set"
            ]
          },
          "metadata": {},
          "execution_count": 2
        }
      ]
    },
    {
      "cell_type": "code",
      "source": [
        "# iterating the values through loops \n",
        "for i in hobbies: \n",
        "  print(i)"
      ],
      "metadata": {
        "colab": {
          "base_uri": "https://localhost:8080/"
        },
        "id": "vHyFdDv8FUEk",
        "outputId": "43dafe9f-6242-49c0-b111-f7fcb0a58177"
      },
      "execution_count": null,
      "outputs": [
        {
          "output_type": "stream",
          "name": "stdout",
          "text": [
            "Writing\n",
            "Reading\n",
            "Debugging\n",
            "Coding\n"
          ]
        }
      ]
    },
    {
      "cell_type": "code",
      "source": [
        "# Adding values in to set \n",
        "hobbies.add(\"Chess\")\n",
        "print (hobbies)"
      ],
      "metadata": {
        "id": "7V6bMHPrFjts",
        "colab": {
          "base_uri": "https://localhost:8080/"
        },
        "outputId": "7edb449c-2103-4599-cb2e-2a4c89210c8a"
      },
      "execution_count": null,
      "outputs": [
        {
          "output_type": "stream",
          "name": "stdout",
          "text": [
            "{'Chess', 'Writing', 'Reading', 'Debugging', 'Coding'}\n"
          ]
        }
      ]
    },
    {
      "cell_type": "code",
      "source": [
        "# To check whether the item exists or not \n",
        "if 'chess' in hobbies: \n",
        "  print (\" pattern is present\")\n",
        "else:\n",
        "  print (\"Pattern is not present\")"
      ],
      "metadata": {
        "colab": {
          "base_uri": "https://localhost:8080/"
        },
        "id": "xodtpi6tF8YZ",
        "outputId": "40cbfd63-7c22-49bf-f7d4-f3829e4a75c1"
      },
      "execution_count": null,
      "outputs": [
        {
          "output_type": "stream",
          "name": "stdout",
          "text": [
            "Pattern is not present\n"
          ]
        }
      ]
    },
    {
      "cell_type": "code",
      "source": [
        "# Remove Chess from the set \n",
        "#hobbies.discard(\"Long Jump\") # it wont throw error if the item is not present \n",
        "#hobbies.remove(\"Chess\") # it will throw error if item is not present in the set \n",
        "print(hobbies)\n",
        "hobbies.pop()\n"
      ],
      "metadata": {
        "colab": {
          "base_uri": "https://localhost:8080/",
          "height": 53
        },
        "id": "hPFGzTn7GcWT",
        "outputId": "d4cd926f-bb87-4841-db6c-dcdbe53e3e84"
      },
      "execution_count": null,
      "outputs": [
        {
          "output_type": "stream",
          "name": "stdout",
          "text": [
            "{'Writing', 'Reading', 'Debugging', 'Coding'}\n"
          ]
        },
        {
          "output_type": "execute_result",
          "data": {
            "application/vnd.google.colaboratory.intrinsic+json": {
              "type": "string"
            },
            "text/plain": [
              "'Writing'"
            ]
          },
          "metadata": {},
          "execution_count": 12
        }
      ]
    },
    {
      "cell_type": "code",
      "source": [
        "print(hobbies)"
      ],
      "metadata": {
        "colab": {
          "base_uri": "https://localhost:8080/"
        },
        "id": "rmy1bGb40s9n",
        "outputId": "fc340074-6dcd-4d4f-973c-6720e624dfb9"
      },
      "execution_count": null,
      "outputs": [
        {
          "output_type": "stream",
          "name": "stdout",
          "text": [
            "{'Reading', 'Debugging', 'Coding'}\n"
          ]
        }
      ]
    },
    {
      "cell_type": "code",
      "source": [
        "print (hobbies)"
      ],
      "metadata": {
        "colab": {
          "base_uri": "https://localhost:8080/"
        },
        "id": "NTPaT2MFHuOC",
        "outputId": "9082280e-34ab-4193-cad3-4105800d6abf"
      },
      "execution_count": null,
      "outputs": [
        {
          "output_type": "stream",
          "name": "stdout",
          "text": [
            "{'Chess', 'Reading', 'Debugging', 'Coding'}\n"
          ]
        }
      ]
    },
    {
      "cell_type": "code",
      "source": [
        "# intersection \n",
        "fruit_1 = set([\"Apple\", \"Banana\", \"Chikoo\", \"Dragon\"])\n",
        "fruit_2 = {\"fig\",\"Strawberry\", \"Blackberry\", \"Dragon\"}\n",
        "\n",
        "#intersection = fruit_1 & fruit_2\n",
        "intersection = fruit_1. intersection(fruit_2)\n",
        "intersection\n",
        "\n"
      ],
      "metadata": {
        "colab": {
          "base_uri": "https://localhost:8080/"
        },
        "outputId": "bb4d81fe-75a8-42b2-c6d4-7fe9ec1debcf",
        "id": "vbBMX97G1xh8"
      },
      "execution_count": null,
      "outputs": [
        {
          "output_type": "execute_result",
          "data": {
            "text/plain": [
              "{'Dragon'}"
            ]
          },
          "metadata": {},
          "execution_count": 17
        }
      ]
    },
    {
      "cell_type": "code",
      "source": [
        "# intersection \n",
        "fruit_1 = set([\"Apple\", \"Banana\", \"Chikoo\", \"Dragon\"])\n",
        "fruit_2 = {\"fig\",\"Strawberry\", \"Blackberry\", \"Dragon\"}\n",
        "\n",
        "\n",
        "\n",
        "union = fruit_1 | fruit_2\n",
        "#union = fruit_1. union(fruit_2)\n",
        "union\n",
        "\n",
        "\n"
      ],
      "metadata": {
        "colab": {
          "base_uri": "https://localhost:8080/"
        },
        "outputId": "bee8cc51-6d64-453c-f310-d9ec50bd6b09",
        "id": "c47Y6p6_1w_t"
      },
      "execution_count": null,
      "outputs": [
        {
          "output_type": "execute_result",
          "data": {
            "text/plain": [
              "{'Apple', 'Banana', 'Blackberry', 'Chikoo', 'Dragon', 'Strawberry', 'fig'}"
            ]
          },
          "metadata": {},
          "execution_count": 18
        }
      ]
    },
    {
      "cell_type": "code",
      "source": [
        "# intersection \n",
        "fruit_1 = set([\"Apple\", \"Banana\", \"Chikoo\", \"Dragon\"])\n",
        "fruit_2 = {\"fig\",\"Strawberry\", \"Blackberry\", \"Dragon\"}\n",
        "\n",
        "\n",
        "\n",
        "Difference = fruit_2 - fruit_1\n",
        "Difference\n",
        "\n"
      ],
      "metadata": {
        "colab": {
          "base_uri": "https://localhost:8080/"
        },
        "id": "A2W3E-BFH8M3",
        "outputId": "a9e008b5-9878-4679-b655-35032b40c441"
      },
      "execution_count": null,
      "outputs": [
        {
          "output_type": "execute_result",
          "data": {
            "text/plain": [
              "{'Blackberry', 'Strawberry', 'fig'}"
            ]
          },
          "metadata": {},
          "execution_count": 19
        }
      ]
    }
  ]
}