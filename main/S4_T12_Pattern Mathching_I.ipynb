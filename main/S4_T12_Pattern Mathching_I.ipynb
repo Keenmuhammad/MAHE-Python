{
  "nbformat": 4,
  "nbformat_minor": 0,
  "metadata": {
    "colab": {
      "name": "regularexpression-I.ipynb",
      "provenance": [],
      "collapsed_sections": []
    },
    "kernelspec": {
      "name": "python3",
      "display_name": "Python 3"
    },
    "language_info": {
      "name": "python"
    }
  },
  "cells": [
    {
      "cell_type": "markdown",
      "source": [
        "## Pattern Matching \n",
        " ### - Introduction to Pattern Matching \n",
        " ### - Applications \n",
        " ### - Matching simple pattern \n",
        " ### - Matching complex pattern \n",
        " ### - Regular expression "
      ],
      "metadata": {
        "id": "KRMAa0CvcatP"
      }
    },
    {
      "cell_type": "markdown",
      "source": [
        "### Introduction to Pattern Matching \n",
        "\n",
        "            - Method of checking whether a specific sequence of characters/data exists among the given data. \n",
        "\n",
        "\n",
        "### Examples\n",
        "\n",
        "            - Print all the values that starts with \"a\". \n",
        "            - Print all the value end with \"y\".\n",
        "            - Print all value with four digit values. \n",
        "\n"
      ],
      "metadata": {
        "id": "Y_tpF32LzHhu"
      }
    },
    {
      "cell_type": "markdown",
      "source": [
        "### Application \n",
        "    \n",
        "    Pattern matching is used to  \n",
        "\n",
        "         - Match  \n",
        "         - Split \n",
        "         - Replace \n",
        "         "
      ],
      "metadata": {
        "id": "zrhZFBXx0dz0"
      }
    },
    {
      "cell_type": "markdown",
      "source": [
        "\n",
        "### Classification \n",
        "    Pattern matching are classified in to two categories \n",
        "    i) simple Pattern \n",
        "    ii) Complex Pattern \n",
        "      \n",
        "    - Simple Pattern \n",
        "    Searching the pattern which are simple in nature. \n",
        "\n",
        "    Example :  The value starts with the \"R\" \n",
        "               The value end with the \".\"  \n",
        "\n",
        "    - Complex Pattern \n",
        "    Searching the pattern which are complex in nature.\n",
        "\n",
        "    Example : The value starts with any alphabets \n",
        "              The value end with even numbers \n",
        "\n",
        "    \n",
        "              "
      ],
      "metadata": {
        "id": "aMHqOu1v2qB9"
      }
    },
    {
      "cell_type": "code",
      "source": [
        "# Simple Pattern Matching \n",
        "# using Built in functions  - startswith() - return True or False \n",
        "# Syntax - str.startswith(prefix[,start [,end]])\n",
        "# prefix - String to be checked \n",
        "# start - Position, starting position to search ( by default - beginning) \n",
        "# end - Position, end position (by default - end of the string)\n"
      ],
      "metadata": {
        "id": "Mz1yGta40ddM"
      },
      "execution_count": null,
      "outputs": []
    },
    {
      "cell_type": "code",
      "source": [
        "# Default values - True or False \n",
        "# it will return True if Pattern Matches , otherwise it will return False\n",
        "\n",
        "greeting = \"Hello World\" # store \"Hello World\" in the variable greeting\n",
        "\n",
        "result = greeting.startswith('hello') # check the pattern \"hello\" in the beginning of the variable\n",
        "\n",
        "print(result) # it will return True or False. If pattern matches it will return True otherwise False."
      ],
      "metadata": {
        "colab": {
          "base_uri": "https://localhost:8080/"
        },
        "id": "rCnWe_A30f7X",
        "outputId": "a8373f85-e13c-4f9f-d72a-08726667c4ab"
      },
      "execution_count": null,
      "outputs": [
        {
          "output_type": "stream",
          "name": "stdout",
          "text": [
            "True\n"
          ]
        }
      ]
    },
    {
      "cell_type": "code",
      "source": [
        "# To get customized message, use condithional statements \n",
        "# instead of printing True or False\n",
        "\n",
        "greeting = \"Hello World\"\n",
        "result = greeting.startswith('Hello')\n",
        "if result == True:    # used conditional statement \n",
        "  print(\"Kind words\")\n",
        "else: \n",
        "  print (\" Not Kind words\")"
      ],
      "metadata": {
        "colab": {
          "base_uri": "https://localhost:8080/"
        },
        "outputId": "ee55255b-0342-4ca7-c93d-18740594343e",
        "id": "SS7q65Ln1K2M"
      },
      "execution_count": null,
      "outputs": [
        {
          "output_type": "stream",
          "name": "stdout",
          "text": [
            "Kind words\n"
          ]
        }
      ]
    },
    {
      "cell_type": "code",
      "source": [
        "greeting = \"Hello World.\"\n",
        "result = greeting.endswith('.') # check the pattern endwith \".\" \n",
        "print(result)"
      ],
      "metadata": {
        "colab": {
          "base_uri": "https://localhost:8080/"
        },
        "id": "tyj9TYfF3vlw",
        "outputId": "ceefd796-52d6-4ee8-96d6-b31f4a86f281"
      },
      "execution_count": null,
      "outputs": [
        {
          "output_type": "stream",
          "name": "stdout",
          "text": [
            "True\n"
          ]
        }
      ]
    },
    {
      "cell_type": "code",
      "source": [
        "# Default values - True or False \n",
        "# change start value and end value \n",
        "\n",
        "# The syntax of startswith() is:\n",
        "\n",
        "# str.startswith(prefix[, start[, end]])\n",
        "\n",
        "# start and end are optional \n",
        "# start - it is an integer value - is the start index position at which the search for the substring/prefix should begin\n",
        "# end - is is an integer value - is the index position at which the search for the substring/prefix should end\n",
        "greeting = \"Hello World\"\n",
        "result = greeting.startswith('Hello',0,5)\n",
        "print(result)"
      ],
      "metadata": {
        "colab": {
          "base_uri": "https://localhost:8080/"
        },
        "outputId": "2df747ec-b724-4cd4-e131-289779a20177",
        "id": "92bqb1uN50He"
      },
      "execution_count": null,
      "outputs": [
        {
          "output_type": "stream",
          "name": "stdout",
          "text": [
            "False\n"
          ]
        }
      ]
    },
    {
      "cell_type": "code",
      "source": [
        "# this code is to check the greeting stars with \"H\" \n",
        "\n",
        "greetings = ['Hello','Namaste', 'Hola', 'Bonjour']  # create list to store values \n",
        "\n",
        "for i in greetings: \n",
        "  if i.startswith(\"H\"):\n",
        "    print(i)"
      ],
      "metadata": {
        "colab": {
          "base_uri": "https://localhost:8080/"
        },
        "id": "Cy7mLu-C7Kxw",
        "outputId": "d874acc3-14bb-49c0-8d0f-f32403c6fee3"
      },
      "execution_count": null,
      "outputs": [
        {
          "output_type": "stream",
          "name": "stdout",
          "text": [
            "Hello\n",
            "Hola\n"
          ]
        }
      ]
    }
  ]
}