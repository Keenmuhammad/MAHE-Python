{
  "nbformat": 4,
  "nbformat_minor": 0,
  "metadata": {
    "colab": {
      "name": "waffle.ipynb",
      "provenance": [],
      "collapsed_sections": []
    },
    "kernelspec": {
      "name": "python3",
      "display_name": "Python 3"
    },
    "language_info": {
      "name": "python"
    }
  },
  "cells": [
    {
      "cell_type": "markdown",
      "source": [
        "          Waffle Chart\n",
        "\n",
        "           -  more clear when compare to Pie chart. \n",
        "           -  compare with other groups \n",
        "           -  pywaffle is an open-source package that contains waffle library"
      ],
      "metadata": {
        "id": "EbdPuiVUOylr"
      }
    },
    {
      "cell_type": "code",
      "source": [
        "# Import Packages \n",
        "pip install pywaffle"
      ],
      "metadata": {
        "id": "COfjuPfdaUzw"
      },
      "execution_count": null,
      "outputs": []
    },
    {
      "cell_type": "code",
      "execution_count": 4,
      "metadata": {
        "id": "DfmG58F0Nn22"
      },
      "outputs": [],
      "source": [
        "import numpy as np \n",
        "import pandas as pd \n",
        "import matplotlib.pyplot as plt \n",
        "from pywaffle import Waffle\n"
      ]
    },
    {
      "cell_type": "code",
      "source": [
        "data = {\n",
        "       'Courses': ['DataScience', 'MachineLearning', 'CloudComputing', 'CyberSecurity'],\n",
        "      'Students':[15,20, 14,10]\n",
        "}\n",
        "df=pd.DataFrame(data)\n",
        "df\n",
        "courses = df['Courses']\n",
        "students = df['Students']\n",
        "students.dtype\n",
        "\n"
      ],
      "metadata": {
        "id": "5Hy7WIpPSh7g",
        "colab": {
          "base_uri": "https://localhost:8080/"
        },
        "outputId": "bccc6d07-168e-48ae-83e4-91a707c291a6"
      },
      "execution_count": 5,
      "outputs": [
        {
          "output_type": "execute_result",
          "data": {
            "text/plain": [
              "dtype('int64')"
            ]
          },
          "metadata": {},
          "execution_count": 5
        }
      ]
    },
    {
      "cell_type": "code",
      "source": [
        "courses"
      ],
      "metadata": {
        "id": "B8GRN8sVrWh1",
        "colab": {
          "base_uri": "https://localhost:8080/"
        },
        "outputId": "5d18615a-e7ce-4b22-b994-1bef21a4ca61"
      },
      "execution_count": 6,
      "outputs": [
        {
          "output_type": "execute_result",
          "data": {
            "text/plain": [
              "0        DataScience\n",
              "1    MachineLearning\n",
              "2     CloudComputing\n",
              "3      CyberSecurity\n",
              "Name: Courses, dtype: object"
            ]
          },
          "metadata": {},
          "execution_count": 6
        }
      ]
    },
    {
      "cell_type": "code",
      "source": [
        "print(courses)"
      ],
      "metadata": {
        "colab": {
          "base_uri": "https://localhost:8080/"
        },
        "id": "xFSez9xMbIdY",
        "outputId": "7219254d-9c6f-4362-d256-f1476b7e479f"
      },
      "execution_count": 7,
      "outputs": [
        {
          "output_type": "stream",
          "name": "stdout",
          "text": [
            "0        DataScience\n",
            "1    MachineLearning\n",
            "2     CloudComputing\n",
            "3      CyberSecurity\n",
            "Name: Courses, dtype: object\n"
          ]
        }
      ]
    },
    {
      "cell_type": "code",
      "source": [
        "print (students)"
      ],
      "metadata": {
        "colab": {
          "base_uri": "https://localhost:8080/"
        },
        "id": "kRR6MAJibMEj",
        "outputId": "243b614a-11bc-402f-edb3-52d894964856"
      },
      "execution_count": 8,
      "outputs": [
        {
          "output_type": "stream",
          "name": "stdout",
          "text": [
            "0    15\n",
            "1    20\n",
            "2    14\n",
            "3    10\n",
            "Name: Students, dtype: int64\n"
          ]
        }
      ]
    },
    {
      "cell_type": "code",
      "source": [
        "# Plot using Waffle Chart \n",
        "fig = plt.figure(FigureClass=Waffle, rows=4, values=students, labels=list(courses))\n",
        "plt.show()"
      ],
      "metadata": {
        "colab": {
          "base_uri": "https://localhost:8080/",
          "height": 137
        },
        "outputId": "61df2994-b19c-4f8c-f451-e3d7f81964d7",
        "id": "JB7VjivRc2Vx"
      },
      "execution_count": 9,
      "outputs": [
        {
          "output_type": "display_data",
          "data": {
            "text/plain": [
              "<Waffle size 432x288 with 1 Axes>"
            ],
            "image/png": "[encoded data removed]"
          },
          "metadata": {
            "needs_background": "light"
          }
        }
      ]
    },
    {
      "cell_type": "code",
      "source": [
        "# To change values\n",
        "fig = plt.figure(FigureClass=Waffle, rows=5, values=df.Students, labels=list(df.Courses))\n",
        "plt.show()"
      ],
      "metadata": {
        "colab": {
          "base_uri": "https://localhost:8080/",
          "height": 199
        },
        "id": "1n79SkKtZWS1",
        "outputId": "4ababd49-8238-435c-9d33-abc381524e8d"
      },
      "execution_count": 10,
      "outputs": [
        {
          "output_type": "display_data",
          "data": {
            "text/plain": [
              "<Waffle size 432x288 with 1 Axes>"
            ],
            "image/png": "[encoded data removed]"
          },
          "metadata": {
            "needs_background": "light"
          }
        }
      ]
    },
    {
      "cell_type": "code",
      "source": [
        "# Add Legend in the customizied location\n",
        "fig = plt.figure(FigureClass=Waffle, rows=5, values=df.Students, labels=list(df.Courses), figsize=(10,5), legend={'loc':'upper left','bbox_to_anchor':(1.1,1)})\n",
        "plt.show()"
      ],
      "metadata": {
        "colab": {
          "base_uri": "https://localhost:8080/",
          "height": 242
        },
        "outputId": "b6bf7865-1363-4eac-d380-d72bbd058dd1",
        "id": "XZ0NtIUVeGGX"
      },
      "execution_count": 11,
      "outputs": [
        {
          "output_type": "display_data",
          "data": {
            "text/plain": [
              "<Waffle size 720x360 with 1 Axes>"
            ],
            "image/png": "[encoded data removed]"
          },
          "metadata": {
            "needs_background": "light"
          }
        }
      ]
    }
  ]
}