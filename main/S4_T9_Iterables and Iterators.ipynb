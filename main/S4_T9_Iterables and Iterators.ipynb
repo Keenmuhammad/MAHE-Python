{
 "cells": [
  {
   "cell_type": "markdown",
   "metadata": {},
   "source": [
    "# Iterables and Iterators "
   ]
  },
  {
   "cell_type": "code",
   "execution_count": 19,
   "metadata": {},
   "outputs": [],
   "source": [
    "assign_txt=\"Narendra  Damodardas  Modi,  born  17  September  1950)  is  the  15th  and \\\n",
    "     current  Prime  Minister  of  India,  in  office  since  26  May  2014.odi,  a  leader \\\n",
    "of the Bharatiya Janata Party was the Chief Minister of Gujarat from 2001 to \\\n",
    "2014  and  is  the  Member  of  Parliament  from  Varanasi.  He  led  the  BJP  in  the \\\n",
    "2014  general  election,  which  gave  the  party  a  majority  in  the  Lok  Sabha,  the \\\n",
    "first for any political party in India since 1984.As the Chief Minister of \\\n",
    "Gujarat,  Modi's  economic  policies  were  praised,  while  his  administration  was \\\n",
    "also criticised for failing to significantly improve the human development \\\n",
    "in the state, and for failing to prevent the 2002 Gujarat riots. A Hindu \\\n",
    "nationalist and member of the Rashtriya Swayamsevak Sangh, Modi,remains a \\\n",
    "controversial figure domestically and internationally. Modi was born on 17 \\\n",
    "September  1950,  to  a  family  of  grocers  in  Vadnagar,  Mehsana  district,  Bombay \\\n",
    "State  (present-day  Gujarat).Modi's  family  belonged  to  the  Modh-Ghanchi-Teli \\\n",
    "(oil-presser) community,hich is categorised as an Other Backward Class by \\\n",
    "the  Indian  government.Modi  was  the  third  of  six  children  born  to  Damodardas \\\n",
    "Mulchand  (1915–1989)  and  Heeraben  Modi  (b.  c.  1920).As  a  child,  Modi  helped \\\n",
    "his father sell tea at the Vadnagar railway station, and later ran a tea \\\n",
    "stall with his brother near a bus terminus.Modi completed his higher \\\n",
    "secondary  education  in  Vadnagar  in  1967,  where  a  teacher  described  him  as  an \\\n",
    "average  student  and  a  keen  debater,  with  an  interest  in  theatre.Modi  had  an \\\n",
    "early gift for rhetoric in debates, and this was noted by his teachers and \\\n",
    "students.Modi  preferred  playing  larger-than-life  characters  in  theatrical \\\n",
    "productions,  which  has  influenced  his  political  image.At  age  eight,  Modi \\\n",
    "discovered  the  Rashtriya  Swayamsevak  Sangh  (RSS),  and  began  attending  its \\\n",
    "local shakhas (training sessions). There, Modi met Lakshmanrao Inamdar, \\\n",
    "popularly  known  as  Vakil  Saheb,  who  inducted  him  as  an  RSS  balswayamsevak \\\n",
    "(junior cadet) and became his political mentor.While Modi was training with \\\n",
    "the  RSS,  he  also  met  Vasant  Gajendragadkar  and  Nathalal  Jaghda,  Bharatiya \\\n",
    "Jana  Sangh  leaders  who  were  founding  members  of  the  BJP's  Gujarat  unit  in \\\n",
    "1980.Engaged  while  still  a  child  to  a  local  girl,  Jashodaben  Narendrabhai \\\n",
    "Modi,  Modi  rejected  the  arranged  marriage  at  the  same  time  he  graduated  from \\\n",
    "high  school.The  resulting  familial  tensions  contributed  to  his  decision  to \\\n",
    "leave home in 1967.Modi spent the ensuing two years travelling across \\\n",
    "Northern  and  North-eastern  India,  though  few  details  of  where  he  went  have \\\n",
    "emerged.In  interviews,  Modi  has  described  visiting  Hindu  ashrams  founded  by \\\n",
    "Swami  Vivekananda:  the  Belur  Math  near  Kolkata,  followed  by  the  Advaita \\\n",
    "Ashrama  in  Almora  and  the  Ramakrishna  mission  in  Rajkot.  Modi  remained  only \\\n",
    "a  short  time  at  each,  since  he  lacked  the  required  college  education.\"\n"
   ]
  },
  {
   "cell_type": "markdown",
   "metadata": {},
   "source": [
    "An iterable is an object that can return an iterator. It is an object with an associated iter method. Once iter is applied to an iterable, an iterator object gets created. An iterator is an object that has an associated next method.\n",
    "\n",
    "For example, Using a for loop, we can iterate over a list, range, dictionaries, file connections  or a string.\n",
    "\n",
    "Any object that can be looped over is called as an iterable and it creates an iterator. Therefore we can iterate over an \n",
    "iterable"
   ]
  },
  {
   "cell_type": "markdown",
   "metadata": {},
   "source": [
    "## Conditional interlude\n",
    "\n"
   ]
  },
  {
   "cell_type": "code",
   "execution_count": 1,
   "metadata": {},
   "outputs": [
    {
     "name": "stdout",
     "output_type": "stream",
     "text": [
      "Yay!!\n"
     ]
    }
   ],
   "source": [
    "# We can control the flow of execution of code by using conditionals such as if-else\n",
    "if 2>3:#Notice that a statement is followed by a :\n",
    "    print ('Is it possible?')\n",
    "    \n",
    "else:\n",
    "    print ('Yay!!')"
   ]
  },
  {
   "cell_type": "markdown",
   "metadata": {},
   "source": [
    "## Case Study\n"
   ]
  },
  {
   "cell_type": "markdown",
   "metadata": {},
   "source": [
    "In a given text, \n",
    "- Count number of capital letters\n",
    "- How many times has the word \"RSS\" occured?\n",
    "- How many times has the word \"Modi\" occured?"
   ]
  },
  {
   "cell_type": "code",
   "execution_count": 2,
   "metadata": {},
   "outputs": [],
   "source": [
    "assign_txt=\"Narendra Damodardas Modi, born 17 September 1950) is the 15th and current Prime Minister of India, in office since 26 May 2014.odi, a leader of the Bharatiya Janata Party was the Chief Minister of Gujarat from 2001 to 2014 and is the Member of Parliament from Varanasi. He led the BJP in the 2014 general election, which gave the party a majority in the Lok Sabha, the first for any political party in India since 1984.As the Chief Minister of Gujarat, Modi's economic policies were praised, while his administration was also criticised for failing to significantly improve the human development in the state, and for failing to prevent the 2002 Gujarat riots. A Hindu nationalist and member of the Rashtriya Swayamsevak Sangh, Modi,remains a controversial figure domestically and internationally. Modi was born on 17 September 1950, to a family of grocers in Vadnagar, Mehsana district, Bombay State (present-day Gujarat).Modi's family belonged to the Modh-Ghanchi-Teli (oil-presser) community,hich is categorised as an Other Backward Class by the Indian government.Modi was the third of six children born to Damodardas Mulchand (1915–1989) and Heeraben Modi (b. c. 1920).As a child, Modi helped his father sell tea at the Vadnagar railway station, and later ran a tea stall with his brother near a bus terminus.Modi completed his higher secondary education in Vadnagar in 1967, where a teacher described him as an average student and a keen debater, with an interest in theatre.Modi had an early gift for rhetoric in debates, and this was noted by his teachers and students.Modi preferred playing larger-than-life characters in theatrical productions, which has influenced his political image.At age eight, Modi discovered the Rashtriya Swayamsevak Sangh (RSS), and began attending its local shakhas (training sessions). There, Modi met Lakshmanrao Inamdar, popularly known as Vakil Saheb, who inducted him as an RSS balswayamsevak (junior cadet) and became his political mentor.While Modi was training with the RSS, he also met Vasant Gajendragadkar and Nathalal Jaghda, Bharatiya Jana Sangh leaders who were founding members of the BJP's Gujarat unit in 1980.Engaged while still a child to a local girl, Jashodaben Narendrabhai Modi, Modi rejected the arranged marriage at the same time he graduated from high school.The resulting familial tensions contributed to his decision to leave home in 1967.Modi spent the ensuing two years travelling across Northern and North-eastern India, though few details of where he went have emerged.In interviews, Modi has described visiting Hindu ashrams founded by Swami Vivekananda: the Belur Math near Kolkata, followed by the Advaita Ashrama in Almora and the Ramakrishna mission in Rajkot. Modi remained only a short time at each, since he lacked the required college education.\""
   ]
  },
  {
   "cell_type": "code",
   "execution_count": 16,
   "metadata": {},
   "outputs": [
    {
     "name": "stdout",
     "output_type": "stream",
     "text": [
      "3\n"
     ]
    }
   ],
   "source": [
    "# .count method can be applied on the text to find the occurence of a particular word.\n",
    "print (assign_txt.count('RSS'))"
   ]
  },
  {
   "cell_type": "code",
   "execution_count": 17,
   "metadata": {},
   "outputs": [
    {
     "name": "stdout",
     "output_type": "stream",
     "text": [
      "19\n"
     ]
    }
   ],
   "source": [
    "print (assign_txt.count('Modi'))"
   ]
  },
  {
   "cell_type": "markdown",
   "metadata": {},
   "source": [
    "There are 19 occurrences of the word 'Modi' in the given text"
   ]
  },
  {
   "cell_type": "code",
   "execution_count": 5,
   "metadata": {},
   "outputs": [
    {
     "data": {
      "text/plain": [
       "str"
      ]
     },
     "execution_count": 5,
     "metadata": {},
     "output_type": "execute_result"
    }
   ],
   "source": [
    "type(assign_txt)"
   ]
  },
  {
   "cell_type": "code",
   "execution_count": 6,
   "metadata": {},
   "outputs": [
    {
     "name": "stdout",
     "output_type": "stream",
     "text": [
      "120\n"
     ]
    }
   ],
   "source": [
    "# To find the capital letters in the text, iterate through the same \n",
    "# and check if they are an upper case, if so, increment the counter by 1\n",
    "c=0\n",
    "for l in assign_txt:           \n",
    "    if l.isupper():\n",
    "        c = c+1\n",
    "      \n",
    "print (c)\n"
   ]
  },
  {
   "cell_type": "markdown",
   "metadata": {},
   "source": [
    "There are 120 captial letters in the given text"
   ]
  }
 ],
 "metadata": {
  "kernelspec": {
   "display_name": "Python 3 (ipykernel)",
   "language": "python",
   "name": "python3"
  },
  "language_info": {
   "codemirror_mode": {
    "name": "ipython",
    "version": 3
   },
   "file_extension": ".py",
   "mimetype": "text/x-python",
   "name": "python",
   "nbconvert_exporter": "python",
   "pygments_lexer": "ipython3",
   "version": "3.9.7"
  }
 },
 "nbformat": 4,
 "nbformat_minor": 1
}
