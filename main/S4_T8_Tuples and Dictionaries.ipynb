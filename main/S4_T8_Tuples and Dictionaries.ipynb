{
 "cells": [
  {
   "cell_type": "markdown",
   "metadata": {},
   "source": [
    "# Tuples and Dictionaries \n"
   ]
  },
  {
   "cell_type": "markdown",
   "metadata": {},
   "source": [
    "## Tuples "
   ]
  },
  {
   "cell_type": "markdown",
   "metadata": {},
   "source": [
    "Tuples are immutable objects. They are iterables and hence they can be looped over. Elements of a tuple cannot be modified at place, this is its special characteristic. \n",
    "\n",
    "Just like lists, tuples can also contain heterogeneous elements. For example, a tuple can contain an integer as well as a string. \n",
    "\n",
    "Unlike lists that are enclosed in a square bracket, tuples are enclosed in a round parenthesis. Elements can be accessed by indexing or unpacking in a tuple"
   ]
  },
  {
   "cell_type": "code",
   "execution_count": 1,
   "metadata": {},
   "outputs": [
    {
     "name": "stdout",
     "output_type": "stream",
     "text": [
      "(1, 2, 3, 5)\n"
     ]
    }
   ],
   "source": [
    "# Example of a simple tuple \n",
    "t=(1,2,3,5)\n",
    "print(t)"
   ]
  },
  {
   "cell_type": "code",
   "execution_count": 2,
   "metadata": {},
   "outputs": [
    {
     "name": "stdout",
     "output_type": "stream",
     "text": [
      "1\n",
      "2\n"
     ]
    }
   ],
   "source": [
    "# To access the first element of a tuple,we can use print t[0] (square bracket).\n",
    "print(t[0])\n",
    "print (t[1])"
   ]
  },
  {
   "cell_type": "markdown",
   "metadata": {},
   "source": [
    "### Difference between a list and a tuple "
   ]
  },
  {
   "cell_type": "markdown",
   "metadata": {},
   "source": [
    "The main difference between a list and a tuple is - Lists are mutable whereas the tuples are immutable"
   ]
  },
  {
   "cell_type": "code",
   "execution_count": 3,
   "metadata": {},
   "outputs": [
    {
     "name": "stdout",
     "output_type": "stream",
     "text": [
      "[0, 2, 3, 4]\n"
     ]
    }
   ],
   "source": [
    "# To create a list we assign the elements using a square bracket. \n",
    "li6=[1,2,3,4]\n",
    "# In a list, The value at any position can be changed using an assignment operator.\n",
    "li6[0]=0\n",
    "# Any changes done to the individual element is reflected in the original list. \n",
    "print (li6)"
   ]
  },
  {
   "cell_type": "code",
   "execution_count": 4,
   "metadata": {},
   "outputs": [
    {
     "ename": "TypeError",
     "evalue": "'tuple' object does not support item assignment",
     "output_type": "error",
     "traceback": [
      "\u001b[1;31m---------------------------------------------------------------------------\u001b[0m",
      "\u001b[1;31mTypeError\u001b[0m                                 Traceback (most recent call last)",
      "\u001b[1;32m~\\AppData\\Local\\Temp/ipykernel_2576/1315802387.py\u001b[0m in \u001b[0;36m<module>\u001b[1;34m\u001b[0m\n\u001b[0;32m      1\u001b[0m \u001b[1;31m# Unlike the list, individual elements of the tuple cannot be changed.\u001b[0m\u001b[1;33m\u001b[0m\u001b[1;33m\u001b[0m\u001b[0m\n\u001b[0;32m      2\u001b[0m \u001b[1;31m# Attempt to change elements of a tuple will result in an error.\u001b[0m\u001b[1;33m\u001b[0m\u001b[1;33m\u001b[0m\u001b[0m\n\u001b[1;32m----> 3\u001b[1;33m \u001b[0mt\u001b[0m\u001b[1;33m[\u001b[0m\u001b[1;36m0\u001b[0m\u001b[1;33m]\u001b[0m\u001b[1;33m=\u001b[0m\u001b[1;36m0\u001b[0m\u001b[1;33m\u001b[0m\u001b[1;33m\u001b[0m\u001b[0m\n\u001b[0m",
      "\u001b[1;31mTypeError\u001b[0m: 'tuple' object does not support item assignment"
     ]
    }
   ],
   "source": [
    "# Unlike the list, individual elements of the tuple cannot be changed. \n",
    "# Attempt to change elements of a tuple will result in an error.\n",
    "t[0]=0"
   ]
  },
  {
   "cell_type": "code",
   "execution_count": 5,
   "metadata": {},
   "outputs": [
    {
     "name": "stdout",
     "output_type": "stream",
     "text": [
      "['__add__', '__class__', '__class_getitem__', '__contains__', '__delattr__', '__dir__', '__doc__', '__eq__', '__format__', '__ge__', '__getattribute__', '__getitem__', '__getnewargs__', '__gt__', '__hash__', '__init__', '__init_subclass__', '__iter__', '__le__', '__len__', '__lt__', '__mul__', '__ne__', '__new__', '__reduce__', '__reduce_ex__', '__repr__', '__rmul__', '__setattr__', '__sizeof__', '__str__', '__subclasshook__', 'count', 'index']\n"
     ]
    }
   ],
   "source": [
    "# dir command provides functions, methods and attributes that can \n",
    "# be used on the tuple\n",
    "print (dir(t))"
   ]
  },
  {
   "cell_type": "markdown",
   "metadata": {},
   "source": [
    "## Dictionaries "
   ]
  },
  {
   "cell_type": "markdown",
   "metadata": {},
   "source": [
    "Dictionaries are key value pairs, these are created using curly brackets. \n",
    "\n",
    "While the keys themselves are immutable objects, the values within the keys can be updated, selected or deleted using the keys. \n",
    "\n",
    "Dictionaries are indexed using unique keys unlike lists that are indexed using range of numbers"
   ]
  },
  {
   "cell_type": "code",
   "execution_count": 6,
   "metadata": {},
   "outputs": [
    {
     "data": {
      "text/plain": [
       "40000"
      ]
     },
     "execution_count": 6,
     "metadata": {},
     "output_type": "execute_result"
    }
   ],
   "source": [
    "# If we maintain the names and incomes as two lists, we have to index the \n",
    "# lists each time to correlate the name and the person\n",
    "# e.g. To calculate the income of Ramesh, identify the index of 'Ramesh'\n",
    "# and use it to index the Income list. \n",
    "# This can be done more efficiently by using the dictionaries \n",
    "Income = [30000,40000,25000]\n",
    "name = [\"Umesh\", \"Ramesh\",\"Nilesh\"]\n",
    "in_r = name.index('Ramesh')\n",
    "in_r\n",
    "Income[in_r]"
   ]
  },
  {
   "cell_type": "code",
   "execution_count": 7,
   "metadata": {
    "scrolled": true
   },
   "outputs": [
    {
     "name": "stdout",
     "output_type": "stream",
     "text": [
      "{'Umesh': 30000, 'Ramesh': 40000, 'Nilesh': 25000}\n"
     ]
    }
   ],
   "source": [
    "# Dictionaries represent the data as a key-value pair. \n",
    "# The name of the person can be used as a key and the income as \n",
    "# a value.\n",
    "Inc = {\"Umesh\":30000,\"Ramesh\":40000,\"Nilesh\":25000}\n",
    "print(Inc)"
   ]
  },
  {
   "cell_type": "code",
   "execution_count": 8,
   "metadata": {},
   "outputs": [
    {
     "name": "stdout",
     "output_type": "stream",
     "text": [
      "30000\n"
     ]
    }
   ],
   "source": [
    "# The values in the dictionary can be accessed using the format : dict_name[key].\n",
    "print(Inc[\"Umesh\"])"
   ]
  },
  {
   "cell_type": "code",
   "execution_count": 9,
   "metadata": {},
   "outputs": [
    {
     "name": "stdout",
     "output_type": "stream",
     "text": [
      "dict_keys(['Umesh', 'Ramesh', 'Nilesh'])\n",
      "dict_values([30000, 40000, 25000])\n"
     ]
    }
   ],
   "source": [
    "# 'keys' method displays the list of keys in the dictionary. \n",
    "print(Inc.keys())\n",
    "# 'values' method displays the list of values in the dictionary.\n",
    "print(Inc.values())"
   ]
  },
  {
   "cell_type": "code",
   "execution_count": 10,
   "metadata": {},
   "outputs": [
    {
     "data": {
      "text/plain": [
       "True"
      ]
     },
     "execution_count": 10,
     "metadata": {},
     "output_type": "execute_result"
    }
   ],
   "source": [
    "# Availability of a specific key can be checked using the keyword 'in'\n",
    "\"Nilesh\" in Inc"
   ]
  },
  {
   "cell_type": "code",
   "execution_count": 11,
   "metadata": {},
   "outputs": [
    {
     "name": "stdout",
     "output_type": "stream",
     "text": [
      "{'Umesh': 30000, 'Ramesh': 40000, 'Nilesh': 35000}\n"
     ]
    }
   ],
   "source": [
    "# Values corresponding to the keys can be changed using the assignment operator. \n",
    "Inc[\"Nilesh\"] = 35000\n",
    "print(Inc)"
   ]
  },
  {
   "cell_type": "code",
   "execution_count": 12,
   "metadata": {},
   "outputs": [],
   "source": [
    "# del command can be used to delete a specific key. Note - Deletion of key \n",
    "# will result in deletion of the value as well. \n",
    "del(Inc[\"Nilesh\"])"
   ]
  },
  {
   "cell_type": "code",
   "execution_count": 13,
   "metadata": {},
   "outputs": [
    {
     "name": "stdout",
     "output_type": "stream",
     "text": [
      "{'Umesh': 30000, 'Ramesh': 40000}\n"
     ]
    }
   ],
   "source": [
    "print(Inc)"
   ]
  },
  {
   "cell_type": "code",
   "execution_count": 14,
   "metadata": {},
   "outputs": [
    {
     "name": "stdout",
     "output_type": "stream",
     "text": [
      "['__class__', '__class_getitem__', '__contains__', '__delattr__', '__delitem__', '__dir__', '__doc__', '__eq__', '__format__', '__ge__', '__getattribute__', '__getitem__', '__gt__', '__hash__', '__init__', '__init_subclass__', '__ior__', '__iter__', '__le__', '__len__', '__lt__', '__ne__', '__new__', '__or__', '__reduce__', '__reduce_ex__', '__repr__', '__reversed__', '__ror__', '__setattr__', '__setitem__', '__sizeof__', '__str__', '__subclasshook__', 'clear', 'copy', 'fromkeys', 'get', 'items', 'keys', 'pop', 'popitem', 'setdefault', 'update', 'values']\n"
     ]
    }
   ],
   "source": [
    "# dir function on the dictionary will provide a list of methods, attributes and functions available \n",
    "# to manipulate the dictionary object.\n",
    "print (dir(Inc))"
   ]
  },
  {
   "cell_type": "code",
   "execution_count": 15,
   "metadata": {},
   "outputs": [
    {
     "name": "stdout",
     "output_type": "stream",
     "text": [
      "dict_items([('Umesh', 30000), ('Ramesh', 40000)])\n"
     ]
    }
   ],
   "source": [
    "# To access the key/value pairs use the '.items' method.  \n",
    "print (Inc.items())"
   ]
  },
  {
   "cell_type": "code",
   "execution_count": 16,
   "metadata": {},
   "outputs": [
    {
     "name": "stdout",
     "output_type": "stream",
     "text": [
      "40000\n",
      "{'Ramesh': {'Gender': 'male', 'Income': 40000}, 'Ana': {'Gender': 'female', 'Income': 66000}, 'Uma': {'Gender': 'female', 'Income': 20000}, 'Umesh': {'Gender': 'male', 'Income': 58000}, 'Seema': {'Gender': 'female', 'Income': 30000}}\n"
     ]
    }
   ],
   "source": [
    "# Values of a key can be another dictionary. So it is possible to have 'Dictionary of dictionaries'\n",
    "Income1 = { 'Ramesh': { 'Gender':'male', 'Income':40000},\n",
    "           'Ana': { 'Gender':'female', 'Income':66000 },\n",
    "           'Uma': { 'Gender':'female', 'Income':20000 },\n",
    "           'Umesh': { 'Gender':'male', 'Income':58000 } }\n",
    "\n",
    "\n",
    "# Print out the Income of Ramesh\n",
    "print(Income1['Ramesh']['Income'])\n",
    "\n",
    "# To create a new entry , First - create sub-dictionary data\n",
    "income2 = { 'Gender':'female', 'Income':30000 }\n",
    "\n",
    "# Add data to original dictionary under key 'Seema'\n",
    "Income1['Seema'] = income2\n",
    "\n",
    "print(Income1)"
   ]
  },
  {
   "cell_type": "code",
   "execution_count": 17,
   "metadata": {},
   "outputs": [
    {
     "name": "stdout",
     "output_type": "stream",
     "text": [
      "Umesh\n",
      "Ramesh\n"
     ]
    }
   ],
   "source": [
    "# Dictionary is an iterable therefore we can pass a for loop on a dictionary\n",
    "for x in Inc:\n",
    "    print (x)"
   ]
  },
  {
   "cell_type": "code",
   "execution_count": 18,
   "metadata": {},
   "outputs": [
    {
     "name": "stdout",
     "output_type": "stream",
     "text": [
      "Umesh 30000\n",
      "Ramesh 40000\n"
     ]
    }
   ],
   "source": [
    "# Iteration returns the key, we can access the values using the dict_name[key]. \n",
    "for x in Inc:\n",
    "    print (x, Inc[x])"
   ]
  },
  {
   "cell_type": "code",
   "execution_count": 19,
   "metadata": {},
   "outputs": [
    {
     "name": "stdout",
     "output_type": "stream",
     "text": [
      "{0: 0, 1: -1, 2: -2}\n"
     ]
    },
    {
     "data": {
      "text/plain": [
       "dict"
      ]
     },
     "execution_count": 19,
     "metadata": {},
     "output_type": "execute_result"
    }
   ],
   "source": [
    "# Similar to list comprehension, we can create new dictionaries using curly braces \n",
    "# and a for loop.\n",
    "\n",
    "# e.g. We can create a key/value pair of a postive and negative of a number using comprehensions.\n",
    "pos_neg = {l:-l for l in range(3)}\n",
    "print(pos_neg)\n",
    "type(pos_neg)"
   ]
  },
  {
   "cell_type": "markdown",
   "metadata": {},
   "source": [
    "## Case Study - Frequency Count "
   ]
  },
  {
   "cell_type": "markdown",
   "metadata": {},
   "source": [
    "Find out the occurence of each word in text string (Create a list of each word in the string, loop over this list to create a dictionary of words and their occurences"
   ]
  },
  {
   "cell_type": "code",
   "execution_count": 20,
   "metadata": {},
   "outputs": [],
   "source": [
    "assign_txt=\"Narendra Damodardas Modi, born 17 September 1950) is the 15th and current Prime Minister of India, in office since 26 May 2014.odi, a leader of the Bharatiya Janata Party was the Chief Minister of Gujarat from 2001 to 2014 and is the Member of Parliament from Varanasi. He led the BJP in the 2014 general election, which gave the party a majority in the Lok Sabha, the first for any political party in India since 1984.As the Chief Minister of Gujarat, Modi's economic policies were praised, while his administration was also criticised for failing to significantly improve the human development in the state, and for failing to prevent the 2002 Gujarat riots. A Hindu nationalist and member of the Rashtriya Swayamsevak Sangh, Modi,remains a controversial figure domestically and internationally. Modi was born on 17 September 1950, to a family of grocers in Vadnagar, Mehsana district, Bombay State (present-day Gujarat).Modi's family belonged to the Modh-Ghanchi-Teli (oil-presser) community,hich is categorised as an Other Backward Class by the Indian government.Modi was the third of six children born to Damodardas Mulchand (1915–1989) and Heeraben Modi (b. c. 1920).As a child, Modi helped his father sell tea at the Vadnagar railway station, and later ran a tea stall with his brother near a bus terminus.Modi completed his higher secondary education in Vadnagar in 1967, where a teacher described him as an average student and a keen debater, with an interest in theatre.Modi had an early gift for rhetoric in debates, and this was noted by his teachers and students.Modi preferred playing larger-than-life characters in theatrical productions, which has influenced his political image.At age eight, Modi discovered the Rashtriya Swayamsevak Sangh (RSS), and began attending its local shakhas (training sessions). There, Modi met Lakshmanrao Inamdar, popularly known as Vakil Saheb, who inducted him as an RSS balswayamsevak (junior cadet) and became his political mentor.While Modi was training with the RSS, he also met Vasant Gajendragadkar and Nathalal Jaghda, Bharatiya Jana Sangh leaders who were founding members of the BJP's Gujarat unit in 1980.Engaged while still a child to a local girl, Jashodaben Narendrabhai Modi, Modi rejected the arranged marriage at the same time he graduated from high school.The resulting familial tensions contributed to his decision to leave home in 1967.Modi spent the ensuing two years travelling across Northern and North-eastern India, though few details of where he went have emerged.In interviews, Modi has described visiting Hindu ashrams founded by Swami Vivekananda: the Belur Math near Kolkata, followed by the Advaita Ashrama in Almora and the Ramakrishna mission in Rajkot. Modi remained only a short time at each, since he lacked the required college education.\""
   ]
  },
  {
   "cell_type": "code",
   "execution_count": 21,
   "metadata": {},
   "outputs": [],
   "source": [
    "# Initialize the dictionary \n",
    "d={}\n",
    "\n",
    "# To get each word in the text , use the method split with delimiter as \" \". \n",
    "for w in assign_txt.split(\" \"):\n",
    "    # if the word is present as a key in the dictionary, increase the value by 1 \n",
    "    if w in d:\n",
    "        d[w]=d[w]+1\n",
    "    # if word is not present as a key, as the key and set the value to 1 \n",
    "    else:\n",
    "        d[w]=1\n",
    "    "
   ]
  },
  {
   "cell_type": "code",
   "execution_count": 22,
   "metadata": {},
   "outputs": [
    {
     "name": "stdout",
     "output_type": "stream",
     "text": [
      "{'Narendra': 1, 'Damodardas': 2, 'Modi,': 2, 'born': 3, '17': 2, 'September': 2, '1950)': 1, 'is': 3, 'the': 28, '15th': 1, 'and': 15, 'current': 1, 'Prime': 1, 'Minister': 3, 'of': 10, 'India,': 2, 'in': 15, 'office': 1, 'since': 3, '26': 1, 'May': 1, '2014.odi,': 1, 'a': 12, 'leader': 1, 'Bharatiya': 2, 'Janata': 1, 'Party': 1, 'was': 6, 'Chief': 2, 'Gujarat': 3, 'from': 3, '2001': 1, 'to': 9, '2014': 2, 'Member': 1, 'Parliament': 1, 'Varanasi.': 1, 'He': 1, 'led': 1, 'BJP': 1, 'general': 1, 'election,': 1, 'which': 2, 'gave': 1, 'party': 2, 'majority': 1, 'Lok': 1, 'Sabha,': 1, 'first': 1, 'for': 4, 'any': 1, 'political': 3, 'India': 1, '1984.As': 1, 'Gujarat,': 1, \"Modi's\": 1, 'economic': 1, 'policies': 1, 'were': 2, 'praised,': 1, 'while': 2, 'his': 8, 'administration': 1, 'also': 2, 'criticised': 1, 'failing': 2, 'significantly': 1, 'improve': 1, 'human': 1, 'development': 1, 'state,': 1, 'prevent': 1, '2002': 1, 'riots.': 1, 'A': 1, 'Hindu': 2, 'nationalist': 1, 'member': 1, 'Rashtriya': 2, 'Swayamsevak': 2, 'Sangh,': 1, 'Modi,remains': 1, 'controversial': 1, 'figure': 1, 'domestically': 1, 'internationally.': 1, 'Modi': 9, 'on': 1, '1950,': 1, 'family': 2, 'grocers': 1, 'Vadnagar,': 1, 'Mehsana': 1, 'district,': 1, 'Bombay': 1, 'State': 1, '(present-day': 1, \"Gujarat).Modi's\": 1, 'belonged': 1, 'Modh-Ghanchi-Teli': 1, '(oil-presser)': 1, 'community,hich': 1, 'categorised': 1, 'as': 4, 'an': 5, 'Other': 1, 'Backward': 1, 'Class': 1, 'by': 4, 'Indian': 1, 'government.Modi': 1, 'third': 1, 'six': 1, 'children': 1, 'Mulchand': 1, '(1915–1989)': 1, 'Heeraben': 1, '(b.': 1, 'c.': 1, '1920).As': 1, 'child,': 1, 'helped': 1, 'father': 1, 'sell': 1, 'tea': 2, 'at': 3, 'Vadnagar': 2, 'railway': 1, 'station,': 1, 'later': 1, 'ran': 1, 'stall': 1, 'with': 3, 'brother': 1, 'near': 2, 'bus': 1, 'terminus.Modi': 1, 'completed': 1, 'higher': 1, 'secondary': 1, 'education': 1, '1967,': 1, 'where': 2, 'teacher': 1, 'described': 2, 'him': 2, 'average': 1, 'student': 1, 'keen': 1, 'debater,': 1, 'interest': 1, 'theatre.Modi': 1, 'had': 1, 'early': 1, 'gift': 1, 'rhetoric': 1, 'debates,': 1, 'this': 1, 'noted': 1, 'teachers': 1, 'students.Modi': 1, 'preferred': 1, 'playing': 1, 'larger-than-life': 1, 'characters': 1, 'theatrical': 1, 'productions,': 1, 'has': 2, 'influenced': 1, 'image.At': 1, 'age': 1, 'eight,': 1, 'discovered': 1, 'Sangh': 2, '(RSS),': 1, 'began': 1, 'attending': 1, 'its': 1, 'local': 2, 'shakhas': 1, '(training': 1, 'sessions).': 1, 'There,': 1, 'met': 2, 'Lakshmanrao': 1, 'Inamdar,': 1, 'popularly': 1, 'known': 1, 'Vakil': 1, 'Saheb,': 1, 'who': 2, 'inducted': 1, 'RSS': 1, 'balswayamsevak': 1, '(junior': 1, 'cadet)': 1, 'became': 1, 'mentor.While': 1, 'training': 1, 'RSS,': 1, 'he': 4, 'Vasant': 1, 'Gajendragadkar': 1, 'Nathalal': 1, 'Jaghda,': 1, 'Jana': 1, 'leaders': 1, 'founding': 1, 'members': 1, \"BJP's\": 1, 'unit': 1, '1980.Engaged': 1, 'still': 1, 'child': 1, 'girl,': 1, 'Jashodaben': 1, 'Narendrabhai': 1, 'rejected': 1, 'arranged': 1, 'marriage': 1, 'same': 1, 'time': 2, 'graduated': 1, 'high': 1, 'school.The': 1, 'resulting': 1, 'familial': 1, 'tensions': 1, 'contributed': 1, 'decision': 1, 'leave': 1, 'home': 1, '1967.Modi': 1, 'spent': 1, 'ensuing': 1, 'two': 1, 'years': 1, 'travelling': 1, 'across': 1, 'Northern': 1, 'North-eastern': 1, 'though': 1, 'few': 1, 'details': 1, 'went': 1, 'have': 1, 'emerged.In': 1, 'interviews,': 1, 'visiting': 1, 'ashrams': 1, 'founded': 1, 'Swami': 1, 'Vivekananda:': 1, 'Belur': 1, 'Math': 1, 'Kolkata,': 1, 'followed': 1, 'Advaita': 1, 'Ashrama': 1, 'Almora': 1, 'Ramakrishna': 1, 'mission': 1, 'Rajkot.': 1, 'remained': 1, 'only': 1, 'short': 1, 'each,': 1, 'lacked': 1, 'required': 1, 'college': 1, 'education.': 1}\n"
     ]
    }
   ],
   "source": [
    "print (d)"
   ]
  }
 ],
 "metadata": {
  "kernelspec": {
   "display_name": "Python 3 (ipykernel)",
   "language": "python",
   "name": "python3"
  },
  "language_info": {
   "codemirror_mode": {
    "name": "ipython",
    "version": 3
   },
   "file_extension": ".py",
   "mimetype": "text/x-python",
   "name": "python",
   "nbconvert_exporter": "python",
   "pygments_lexer": "ipython3",
   "version": "3.9.7"
  }
 },
 "nbformat": 4,
 "nbformat_minor": 1
}
